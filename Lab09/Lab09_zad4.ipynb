{
  "nbformat": 4,
  "nbformat_minor": 0,
  "metadata": {
    "colab": {
      "name": "Lab09 zad4.ipynb",
      "provenance": [],
      "collapsed_sections": []
    },
    "kernelspec": {
      "name": "python3",
      "display_name": "Python 3"
    },
    "language_info": {
      "name": "python"
    }
  },
  "cells": [
    {
      "cell_type": "markdown",
      "source": [
        "# Laboratorium 9\n",
        "## Eksploracja tekstu i analiza sentymentu"
      ],
      "metadata": {
        "id": "czCz6kfsZa8x"
      }
    },
    {
      "cell_type": "markdown",
      "source": [
        "### Zadanie 4\n",
        "Analizowaliśmy pojedyncze teksty, ale żeby robić poważne badania trzeba mieć\n",
        "większe bazy dany tekstu lub narzędzia do pozyskiwania tekstów.\n",
        "Szczególnie ciekawe do badań są tweety (twitter.com), które są zwięzłymi tekstami\n",
        "otagowanymi dodatkowo hasztagami. Można ich pobrać setki, mieć mnóstwo różnych\n",
        "opinii i punktów widzenia na przeróżne tematy.\n",
        "\n",
        "Celem tego zadania jest automatyczne pobranie przynajmniej 100 tweetów na\n",
        "wybrany temat. Można to zrobić za pomocą różnych narzędzi:\n",
        "*   Tweepy (popularne, wykorzystujące Twitter Api, wymaga posiadania konta\n",
        "developera, niestety można ściągać tweety tylko z ostatnich dni)\n",
        "*   Snscrape (mniej popularna, nie wymaga posiadania konta developera, więc to\n",
        "„szara strefa” pozyskiwania danych, nie ma ograniczeń czasowych)"
      ],
      "metadata": {
        "id": "Ow8X1CMxZeaF"
      }
    },
    {
      "cell_type": "markdown",
      "source": [
        "a) Wybierz temat tweetów (może być jakiś konkretny hasztag) np. belarus,\n",
        "coronavirus, christmas, blackfriday lub inny"
      ],
      "metadata": {
        "id": "aJ9Fox-CZr1d"
      }
    },
    {
      "cell_type": "markdown",
      "source": [
        "b) Wykorzystaj Tweepy lub Snscrape do pozyskania około 100 tweetów na dany\n",
        "temat. Wyświetl te tweety."
      ],
      "metadata": {
        "id": "g5oy74traaj8"
      }
    },
    {
      "cell_type": "code",
      "execution_count": 1,
      "metadata": {
        "colab": {
          "base_uri": "https://localhost:8080/"
        },
        "id": "vbDKTFn8ZNx1",
        "outputId": "50ef7cca-9e75-427a-9b6e-ae9a1b5412d8"
      },
      "outputs": [
        {
          "output_type": "stream",
          "name": "stdout",
          "text": [
            "Looking in indexes: https://pypi.org/simple, https://us-python.pkg.dev/colab-wheels/public/simple/\n",
            "Collecting snscrape\n",
            "  Downloading snscrape-0.3.4-py3-none-any.whl (35 kB)\n",
            "Requirement already satisfied: requests[socks] in /usr/local/lib/python3.7/dist-packages (from snscrape) (2.23.0)\n",
            "Requirement already satisfied: lxml in /usr/local/lib/python3.7/dist-packages (from snscrape) (4.2.6)\n",
            "Requirement already satisfied: beautifulsoup4 in /usr/local/lib/python3.7/dist-packages (from snscrape) (4.6.3)\n",
            "Requirement already satisfied: urllib3!=1.25.0,!=1.25.1,<1.26,>=1.21.1 in /usr/local/lib/python3.7/dist-packages (from requests[socks]->snscrape) (1.24.3)\n",
            "Requirement already satisfied: idna<3,>=2.5 in /usr/local/lib/python3.7/dist-packages (from requests[socks]->snscrape) (2.10)\n",
            "Requirement already satisfied: certifi>=2017.4.17 in /usr/local/lib/python3.7/dist-packages (from requests[socks]->snscrape) (2022.5.18.1)\n",
            "Requirement already satisfied: chardet<4,>=3.0.2 in /usr/local/lib/python3.7/dist-packages (from requests[socks]->snscrape) (3.0.4)\n",
            "Requirement already satisfied: PySocks!=1.5.7,>=1.5.6 in /usr/local/lib/python3.7/dist-packages (from requests[socks]->snscrape) (1.7.1)\n",
            "Installing collected packages: snscrape\n",
            "Successfully installed snscrape-0.3.4\n"
          ]
        }
      ],
      "source": [
        "pip install snscrape"
      ]
    },
    {
      "cell_type": "code",
      "source": [
        "import snscrape.modules.twitter as sntwitter\n",
        "import pandas as pd"
      ],
      "metadata": {
        "id": "AOfhyRxXZaKA"
      },
      "execution_count": 2,
      "outputs": []
    },
    {
      "cell_type": "code",
      "source": [
        "tweets_list = []\n",
        "for i,tweet in enumerate(sntwitter.TwitterSearchScraper('content: paliwo').get_items()):\n",
        "    if i>100:\n",
        "        break\n",
        "    tweets_list.append([tweet.date, tweet.content])"
      ],
      "metadata": {
        "id": "or-M93Thahbd"
      },
      "execution_count": 24,
      "outputs": []
    },
    {
      "cell_type": "code",
      "source": [
        "print(tweets_list)"
      ],
      "metadata": {
        "colab": {
          "base_uri": "https://localhost:8080/"
        },
        "id": "izvz3fDFatnM",
        "outputId": "104e1e14-2500-4cc4-bf77-654f167b7207"
      },
      "execution_count": 25,
      "outputs": [
        {
          "output_type": "stream",
          "name": "stdout",
          "text": [
            "[[datetime.datetime(2022, 6, 2, 12, 40, 13, tzinfo=datetime.timezone.utc), '@ZofiaGambetti @RobertPietraga 2. 40% teraz nie oznacza 50% za rok czy 60% za dwa. Można to także w czasie rozłożyć ważne żeby było paliwo. Jeżeli chodzi o dodatki to wydaje mi się, że z nich nie zrezygnują. Te 2-3 osoby mogą poświęcić aby dodawały ciągle nowy content. Upside dużo większy niż downside'], [datetime.datetime(2022, 4, 16, 9, 14, 10, tzinfo=datetime.timezone.utc), '@Marcin_K5 No, i tak ma być ty ruski trollu ty jeden! 😆Trochę odmiany od 10zł za paliwo, 20zł za chleb itp. Może nowy content writer się pojawił na pokładzie.'], [datetime.datetime(2020, 12, 9, 19, 23, 20, tzinfo=datetime.timezone.utc), 'Content musi być dobrany do targetu. Wersja dla Julek - Orlen sprzedaje niechrzczone paliwo! 😁 https://t.co/URVakCit8B'], [datetime.datetime(2019, 10, 11, 12, 53, 15, tzinfo=datetime.timezone.utc), '4 filary potrzebne do rozwoju programu social selling:\\n\\n1. Buy-in oraz zaangażowanie - czyli ludzie i ich postawy\\n2. Nowoczesna sprzedaż - kompetencje handlowców\\n3. Content Marketing - paliwo\\n4. Narzędzia i wsparcie\\n\\nWięcej https://t.co/7AnS5DI5LO https://t.co/nFZkaGjRlx'], [datetime.datetime(2019, 9, 4, 10, 17, 30, tzinfo=datetime.timezone.utc), '@Maxicat1972 Czy w cysternach jest content z tvp czy coś innego ??\\nNp. paliwo dla lokalnych działaczy na kampanię??'], [datetime.datetime(2019, 7, 2, 19, 5, 33, tzinfo=datetime.timezone.utc), 'Content to narzędzie marketingu, a nie sprzedaży? Kiedyś tak, dziś już nie!\\n\\n1. Treści stanowią paliwo do działań social sellingowych, a więc do działań po stronie sprzedaży\\n2. Mają coraz większy wpływ na decydentów \\n\\n#contentmarketing #contentselling #b2b #modernsalesprocess https://t.co/d9AC4r9c8y'], [datetime.datetime(2019, 3, 21, 16, 11, 59, tzinfo=datetime.timezone.utc), 'Gdy dyskutuje o #patoinfluencer zawsze powtarzam by edukować dzieciaki, obrzydzać im ten content i pokazywać wartościowy YT.\\n\\nNie wypuszczać artykułów o jednostkach bo to dla nich paliwo.\\n\\nCo zrobiła @gazetapl_news?!\\n\\nNapisała kilku stronicowy(!!!) tekst o patolce z #Instagram 🤦🏻\\u200d♂️'], [datetime.datetime(2016, 10, 16, 19, 45, tzinfo=datetime.timezone.utc), '@mickoz80 to jest content premium. 7 meczów w kolejce, dostęp do VoD. Transfer danych, serwery, operatorzy, sprzęt, paliwo. To promocja ;]']]\n"
          ]
        }
      ]
    },
    {
      "cell_type": "markdown",
      "source": [
        "c) Zbadaj czy można pobierać tweety z różnych okresów czasu, różnych lokalizacji.\n",
        "Spróbuj zebrać tweety z wybranego okresu czasu z okolic Gdańska."
      ],
      "metadata": {
        "id": "aU6NTa1tcT0O"
      }
    },
    {
      "cell_type": "code",
      "source": [
        "tweets_list2 = []\n",
        "for i,tweet in enumerate(sntwitter.TwitterSearchScraper('since:2022-05-01 until:2022-06-5 near:\"Gdańsk\" within:10km').get_items()):\n",
        "    if i>100:\n",
        "        break\n",
        "    tweets_list2.append([tweet.date, tweet.content])"
      ],
      "metadata": {
        "id": "FMZDDvdScOLt"
      },
      "execution_count": 50,
      "outputs": []
    },
    {
      "cell_type": "code",
      "source": [
        "print(tweets_list2)"
      ],
      "metadata": {
        "colab": {
          "base_uri": "https://localhost:8080/"
        },
        "id": "fLxbPeD2cvtP",
        "outputId": "ec18f1b8-230d-4e72-c0bb-4db2318320b1"
      },
      "execution_count": 51,
      "outputs": [
        {
          "output_type": "stream",
          "name": "stdout",
          "text": [
            "[[datetime.datetime(2022, 6, 4, 23, 59, 33, tzinfo=datetime.timezone.utc), '@_hiyuko_ W każdym razie wiem co czujesz. Może spróbuj od siebie tak nie wymagać poczucia czegoś. To nie będzie trwało wiecznie'], [datetime.datetime(2022, 6, 4, 23, 58, 11, tzinfo=datetime.timezone.utc), '@AntoniPiechocki UE bis, jak nic.'], [datetime.datetime(2022, 6, 4, 23, 57, 12, tzinfo=datetime.timezone.utc), '@86lp22 https://t.co/gniWnuP26I'], [datetime.datetime(2022, 6, 4, 23, 57, 7, tzinfo=datetime.timezone.utc), 'Jednak prawie 50 000 ludzi na koncercie robi wrażenie. Dawid, Taco, Sanah, Krzysztof, Kortez - co za wieczór! ✨ https://t.co/SF3jyumTgj'], [datetime.datetime(2022, 6, 4, 23, 56, 59, tzinfo=datetime.timezone.utc), '@weerczi14 Ja mam każdego z innego dla mnie ważnego miejsca, fajnego wspomnienia czy coś \\U0001faf6🏼\\U0001faf6🏼'], [datetime.datetime(2022, 6, 4, 23, 56, 58, tzinfo=datetime.timezone.utc), '@IreneuszSiwiec @MarekFederowicz Jak jest do niej podobna.'], [datetime.datetime(2022, 6, 4, 23, 56, 52, tzinfo=datetime.timezone.utc), '@KNerwosol Eeeee, to tylko opozycja, myślałem że coś ciekawszego'], [datetime.datetime(2022, 6, 4, 23, 56, 20, tzinfo=datetime.timezone.utc), '@86lp22 \\U0001f90c https://t.co/SMtNOdUHSI'], [datetime.datetime(2022, 6, 4, 23, 54, 40, tzinfo=datetime.timezone.utc), 'Ej, @ERGOARENA - to do was wolno z narkotykami wchodzić, czy kogoś fantazja poniosła przy komentowaniu? @PomorskaPolicja @DanielStenzel @KarnowskiSopot https://t.co/r2jyWFbtOa'], [datetime.datetime(2022, 6, 4, 23, 54, 26, tzinfo=datetime.timezone.utc), '@milosc_ Where is the next march?'], [datetime.datetime(2022, 6, 4, 23, 53, 43, tzinfo=datetime.timezone.utc), '@DarekWolfPack Pałlo koalo'], [datetime.datetime(2022, 6, 4, 23, 52, 56, tzinfo=datetime.timezone.utc), '@Pegasus_KKS @TeN @LechPoznan Jesteśmy ten 👌'], [datetime.datetime(2022, 6, 4, 23, 51, 46, tzinfo=datetime.timezone.utc), '@_hiyuko_ Dopiero niedawno chyba dotarło do mnie, że (przynajmniej u mnie) to przez prze stymulowanie swojego organizmu, mózgu. \\n\\nDostaje zbyt dużo bodźców/informacji -&gt; jestem sfrustrowana, zła, zmęczona, smutna -&gt; później nadchodzi pustka'], [datetime.datetime(2022, 6, 4, 23, 51, 28, tzinfo=datetime.timezone.utc), '@JacekWilkPL @AdamLutostanski Gospodarka centralnie planowana musi upaść.'], [datetime.datetime(2022, 6, 4, 23, 50, 42, tzinfo=datetime.timezone.utc), 'Lechia jest B E Z W Z G L Ę D N A\\n#highleague3'], [datetime.datetime(2022, 6, 4, 23, 49, 42, tzinfo=datetime.timezone.utc), '@_hiyuko_ U mnie to akurat jest problem od nie wiem ilu lat. Ale ostatni miesiąc lub ponad to dramat. Nieważne ile robię, jak bardzo się staram, co robię, co próbuje tak czy siak czuje pustkę w większości czasu. Jakiegoś rodzaju obojętność, może zmęczenie'], [datetime.datetime(2022, 6, 4, 23, 49, 34, tzinfo=datetime.timezone.utc), '@cezarykrysztopa A wiesz dlaczego ma znaczek NMP w klapie? Bo Matka Boska zawsze jeździła na ośle przecież. 😜'], [datetime.datetime(2022, 6, 4, 23, 49, 1, tzinfo=datetime.timezone.utc), 'Aries Energy https://t.co/726Cqot4Hu'], [datetime.datetime(2022, 6, 4, 23, 48, 40, tzinfo=datetime.timezone.utc), '@blinkx66 @blinkx666 Goodnight.'], [datetime.datetime(2022, 6, 4, 23, 48, 12, tzinfo=datetime.timezone.utc), '@_hiyuko_ Czasami człowiek miewa momenty kiedy czuje się pusty (często to nawet objaw choroby/zaburzenia i warto iść do lekarza jeśli takie uczucie jest przewlekłe). Starając się tą pustkę zapełnić dostajemy odwrotność tego co chcemy uzyskać'], [datetime.datetime(2022, 6, 4, 23, 47, 44, tzinfo=datetime.timezone.utc), '@Rob_Wisniewski Zdjecie pierwszych przygłupów'], [datetime.datetime(2022, 6, 4, 23, 47, 13, tzinfo=datetime.timezone.utc), '@weerczi14 Ja mam 19 i mam 4 misie(maja więcej miejsca na łóżku niż jaXD)'], [datetime.datetime(2022, 6, 4, 23, 47, 10, tzinfo=datetime.timezone.utc), 'jeszcze raz te sam gościu, bo to chyba o to chodzi, żeby do nas dotarło, że jednostki decydują, jeśli mają swoj e zdanie. Dariusz Ziemba moim bohaterem - Zakłamywanie historii rzezi wołyńskiej - dlaczego? | Dariusz Ziemba https://t.co/k5RTilq7CS via @YouTube'], [datetime.datetime(2022, 6, 4, 23, 46, 17, tzinfo=datetime.timezone.utc), '@DariuszMatecki @AdamLutostanski @KurskiPL Pełna zgoda.\\nTe słowa Olszewskiego: \"czyja i jaka ma być Polska\".\\nI odrażajacy faflun Kuroń, trzęsący się na myśl o ujawnieniu teczek.'], [datetime.datetime(2022, 6, 4, 23, 46, 8, tzinfo=datetime.timezone.utc), 'Kto nie jaral sie dzisiaj pisowska propaganda niech pierwszy rzuci mi w twarz 2000+ 😁'], [datetime.datetime(2022, 6, 4, 23, 45, 10, tzinfo=datetime.timezone.utc), '@OlgaEwaSemeniuk @MorawieckiM Zrób mu loda. Lizusostwo to samo, bez zbednego gadania o pierdolach'], [datetime.datetime(2022, 6, 4, 23, 44, 20, tzinfo=datetime.timezone.utc), \"@ladybigguns People who played LoR love maokai tho I'm sure\"], [datetime.datetime(2022, 6, 4, 23, 44, 20, tzinfo=datetime.timezone.utc), '@RazorWire5 @dentarg_pl @a_niedzielski @MorawieckiM @AndrzejDuda Yo boot'], [datetime.datetime(2022, 6, 4, 23, 43, 46, tzinfo=datetime.timezone.utc), '@AnnPawelec A ty ile masz lat, by wiedzieć co było dobre a co złe 30 lat temu? Powielanie pierdół jest w modzie, wiem.'], [datetime.datetime(2022, 6, 4, 23, 43, 44, tzinfo=datetime.timezone.utc), 'Такие добрые планы на будущее. Забота и комфорт будущей жены начинается сейчас ❤️ https://t.co/61qaFDLxrH'], [datetime.datetime(2022, 6, 4, 23, 43, 28, tzinfo=datetime.timezone.utc), '@dinekpimpus Pij za babcie'], [datetime.datetime(2022, 6, 4, 23, 43, 20, tzinfo=datetime.timezone.utc), '@alexdetotekin Swarzędz tylko Marek Osa☝️'], [datetime.datetime(2022, 6, 4, 23, 43, 7, tzinfo=datetime.timezone.utc), '@kurt_knoxville Wróble to polskie kolibry'], [datetime.datetime(2022, 6, 4, 23, 43, 4, tzinfo=datetime.timezone.utc), '@MatiMichniewicz Nie umarlismy Mati, po prostu brak czasu. Ale zapraszamy zawsze 🙂'], [datetime.datetime(2022, 6, 4, 23, 43, 2, tzinfo=datetime.timezone.utc), 'Obce pojęcia, nie do ogarnięcia 😉 https://t.co/fMPLAiaiIQ'], [datetime.datetime(2022, 6, 4, 23, 42, 19, tzinfo=datetime.timezone.utc), '@KristoffO1 To dzbany i debile w jednym🤷🏽'], [datetime.datetime(2022, 6, 4, 23, 41, 46, tzinfo=datetime.timezone.utc), '@kibic_sukcesu @Zielony666 @flaszynski_r @1973jacek @MGortat Liczy 😎'], [datetime.datetime(2022, 6, 4, 23, 41, 30, tzinfo=datetime.timezone.utc), '@_bushu_ @Takefun97 @HIGHLeaguePL \"Dobra organizacja\" cierpi tylko i wyłącznie na własne życzenie. Sama zaprosiła do siebie element tego świata i sama co gorsza wwiozła Denisa na teren wroga. \\n\\nPatologia jest absolutnie patologią, ale High League od początku bawiło się zapałkami przy całej cysternie benzyny'], [datetime.datetime(2022, 6, 4, 23, 41, 15, tzinfo=datetime.timezone.utc), 'Równość, wolność, solidarność jest. Ale praworządności nie ma! https://t.co/6jyWMqoOqC'], [datetime.datetime(2022, 6, 4, 23, 41, 14, tzinfo=datetime.timezone.utc), '@dearsocety W chuj'], [datetime.datetime(2022, 6, 4, 23, 40, 37, tzinfo=datetime.timezone.utc), '@Dezext W takim razie bardzo dziękujemy ☺️'], [datetime.datetime(2022, 6, 4, 23, 40, 34, tzinfo=datetime.timezone.utc), 'My turn… https://t.co/LmH3tyYNnn https://t.co/8npUA2whKH'], [datetime.datetime(2022, 6, 4, 23, 40, 32, tzinfo=datetime.timezone.utc), '@transrakan Good for you'], [datetime.datetime(2022, 6, 4, 23, 39, 17, tzinfo=datetime.timezone.utc), '@GolerGkA @pravonapivo https://t.co/ARgUX1nuyG'], [datetime.datetime(2022, 6, 4, 23, 38, 52, tzinfo=datetime.timezone.utc), '@JacekKo11354585 Daj trochę'], [datetime.datetime(2022, 6, 4, 23, 38, 51, tzinfo=datetime.timezone.utc), '@Alexeyprofi @pravonapivo Да успокойтесь вы уже с этой попыткой померить, кто больше-лучше правозащитница, они обе буквально на одной и той же позиции в одной и той же правозащитной организации работали/работают )))'], [datetime.datetime(2022, 6, 4, 23, 38, 49, tzinfo=datetime.timezone.utc), '@SirRaVei @MarekS98837118 Seksafera rozpoczęła się zapewne dużo wcześniej.'], [datetime.datetime(2022, 6, 4, 23, 37, 46, tzinfo=datetime.timezone.utc), '@NikoArka Jak będzie trzeba wskrzesić oTAGowanych, to ja mogę nawet z Dąbrowy nagrywać z wami :)'], [datetime.datetime(2022, 6, 4, 23, 37, 45, tzinfo=datetime.timezone.utc), '@iwonahartwich Najgorszym że wszystkiego jest wykorzystywanie drugiego człowieka i to niepełnosprawnego. Największą podłością jeżeli jest z najbliższej rodziny. Też tego nie zapomnimy. A co do egzaminów ma więcej zaliczonych niż ty miernoto'], [datetime.datetime(2022, 6, 4, 23, 37, 10, tzinfo=datetime.timezone.utc), \"I've just watched episode S18 | E20 of Grey's Anatomy! https://t.co/MPWlA4smzN #tvtime https://t.co/HpoluFhqLF\"], [datetime.datetime(2022, 6, 4, 23, 36, 30, tzinfo=datetime.timezone.utc), '@metropoliagdn @gdansk @MiastoGdynia @PomorskieEU @Dulkiewicz_A To tylko krawiecki projekt'], [datetime.datetime(2022, 6, 4, 23, 34, 33, tzinfo=datetime.timezone.utc), '@iwonahartwich https://t.co/U0lVOtCgYA'], [datetime.datetime(2022, 6, 4, 23, 34, 29, tzinfo=datetime.timezone.utc), '@weerczi14 @IndustriesXayoo @HIGHLeaguePL Pinkmma wcale nie jest popularne, a patola tam to mało powiedziane'], [datetime.datetime(2022, 6, 4, 23, 34, 21, tzinfo=datetime.timezone.utc), 'https://t.co/0PzLZGFO6s'], [datetime.datetime(2022, 6, 4, 23, 33, 21, tzinfo=datetime.timezone.utc), 'Zjazd patoli a nie żadne \"High League\" XDDD https://t.co/Pud654voCQ'], [datetime.datetime(2022, 6, 4, 23, 33, 13, tzinfo=datetime.timezone.utc), 'Potwierdza się moja teza, że niektórym łagodnie odpierdala po przekroczeniu określonej liczby obserwujących. Jeden zwyzywa człowieka od debili, bo lubi inną   muzykę, drugi oskarży kogoś o coś, bo (jak twierdzi) dostał SMSa i godzinę o tym rozmawiał. Nie idźcie tą drogą!'], [datetime.datetime(2022, 6, 4, 23, 33, tzinfo=datetime.timezone.utc), '@TygodnikNIE Chruszczow'], [datetime.datetime(2022, 6, 4, 23, 32, 59, tzinfo=datetime.timezone.utc), '@hejtudobrusia Ale to zwierzęta stadne XD Tu nie chodzi o żadne sprawowanie XDD Zanim się kupuje konia to powinno sie douczyć na pewne tematy xdd'], [datetime.datetime(2022, 6, 4, 23, 31, 46, tzinfo=datetime.timezone.utc), '@Husarz1610 @MediaNarodoweMN Formułujesz bardzo ogólne zarzuty, poza tym dalej jesteś przy zmienionym przez siebie temacie. Ja poruszyłem kwestie wizerunkowe MN i słabych wyników oglądalności.'], [datetime.datetime(2022, 6, 4, 23, 31, 44, tzinfo=datetime.timezone.utc), 'Комок в горле. Тронуло. С глубоким смыслом 💔 https://t.co/urQRGwtJmL'], [datetime.datetime(2022, 6, 4, 23, 31, 37, tzinfo=datetime.timezone.utc), 'Co jest kurwa https://t.co/VFuzeQHCcU'], [datetime.datetime(2022, 6, 4, 23, 31, 11, tzinfo=datetime.timezone.utc), '@TweetyPitera @MichalOleksyn Skarbiec bez pieniędzy ale pełen złota i diamentów, zapewne 😜. W dodatku szczelnie zamknięty przed Polakami. Co trzeba mieć w głowie?'], [datetime.datetime(2022, 6, 4, 23, 30, 36, tzinfo=datetime.timezone.utc), '@Takefun97 Pol zartem pol serii to sledząc twoje posty na tt, to ten wyglada jakby ktos Ci sie włamał'], [datetime.datetime(2022, 6, 4, 23, 30, 21, tzinfo=datetime.timezone.utc), '@KatarzynaZimol2 @AWenz30 @SlawomirMentzen Na tych pryszczatych gówniarzy? Czy bardziej tych psycholi? A może dziadzie Janusza??!'], [datetime.datetime(2022, 6, 4, 23, 30, 20, tzinfo=datetime.timezone.utc), '@xKODI2K @corpse554 @thenitrozyniak Jeśli by było w Gdańsku beż Denisa też był by spokój'], [datetime.datetime(2022, 6, 4, 23, 30, 5, tzinfo=datetime.timezone.utc), '@KatarzynaStycz1 @MaciejNaskret O Agnieszkę B. z Polski 2050 Hołowni'], [datetime.datetime(2022, 6, 4, 23, 29, 56, tzinfo=datetime.timezone.utc), '@1renkizakolak @SEBAZBO No dziwne, ze pierwszy zespół sie wycofuje a rezerwy mogą dalej grać, ale przecież nikogo nie interesuje Elana Toruń, wiec nikt się tym nie zajmie.'], [datetime.datetime(2022, 6, 4, 23, 28, 59, tzinfo=datetime.timezone.utc), '@milczaraa Tbh ja byłam w takim związku nie raz, nie dwa. Ale wiecie, te nastawienie „ja go zmienię, naprawie”'], [datetime.datetime(2022, 6, 4, 23, 28, 46, tzinfo=datetime.timezone.utc), '@Bartusss223 Nie no spoko, w sumie równie fajnie przecież się ogląda sparingi na treningach. Atmosfera, doping itp nic nie daje. \\n\\nMecze piłkarskie w czasie pandemii też się fajnie bez trybun oglądało'], [datetime.datetime(2022, 6, 4, 23, 28, 33, tzinfo=datetime.timezone.utc), '@xserdecznie Dziwna jesteś'], [datetime.datetime(2022, 6, 4, 23, 28, 27, tzinfo=datetime.timezone.utc), 'Это было всегда так! Ибо твои проблемы на*уй никому не нужны. Никого не еб*ет твои проблемы, так что учитесь только верить в себя и поддержать даже в самых трудных моментах. Это качество делает вас сильным! https://t.co/gYW4U4ACUN'], [datetime.datetime(2022, 6, 4, 23, 28, 22, tzinfo=datetime.timezone.utc), '@standardpuppies Upload or Figma 🤭'], [datetime.datetime(2022, 6, 4, 23, 27, 54, tzinfo=datetime.timezone.utc), '@thenitrozyniak I wiecej musicie zwracać uwagę na walki, bo np walka gdy Malik był u was praktycznie pominięta'], [datetime.datetime(2022, 6, 4, 23, 27, 31, tzinfo=datetime.timezone.utc), '@MaciejNaskret @ERGOARENA No i miało być tak fajnie, obok ECS Święto Serdeczności, Demokracji i Solidarności, a zasłynęliśmy bójką patologii w Ergo Arenie. @Dulkiewicz_A to mało śmieszna parodia włodarza półmilionowego miasta i nie przepraszam za tq wypowiedź. https://t.co/sqItYtuCM3'], [datetime.datetime(2022, 6, 4, 23, 27, 3, tzinfo=datetime.timezone.utc), '@thenitrozyniak Spoko, choc czsem przycinalo gdy glowny stream chodzil dobrze wiec to nie internet. Jasiu był tam głównie tłem, lepiej było na HL1 z  Dziadem vel @szymon_kasprzyk'], [datetime.datetime(2022, 6, 4, 23, 26, 59, tzinfo=datetime.timezone.utc), '@n3stii Waga'], [datetime.datetime(2022, 6, 4, 23, 26, 58, tzinfo=datetime.timezone.utc), '@dudzinski_marek @FMPiS_Oficjalny @Stasiak_BA @FM_PiS_Gdansk @FM_PiS_Gdynia Jakbym pojechał z kolegami do Rozi albo Bodegi to bym się tym nie chwalił publicznie..'], [datetime.datetime(2022, 6, 4, 23, 26, 58, tzinfo=datetime.timezone.utc), '@szachmad @DziadoszJakub @SlawomirMentzen @HIGHLeaguePL Raczej ze Staśko…'], [datetime.datetime(2022, 6, 4, 23, 26, 35, tzinfo=datetime.timezone.utc), 'Zapominałam o tym, że trzeba jeść XDD i nic dziś nie zjadłam. Kurwa o 1 w nocy nie wypada robić sobie jedzenia'], [datetime.datetime(2022, 6, 4, 23, 26, 2, tzinfo=datetime.timezone.utc), '@I_Lendorff Gut woch reb Igor  ! ✡👍'], [datetime.datetime(2022, 6, 4, 23, 25, 51, tzinfo=datetime.timezone.utc), '@Marian65609170 Marian, według listy było ich chyba 60 lub 62… jak Ci wyszło 76%?'], [datetime.datetime(2022, 6, 4, 23, 25, 19, tzinfo=datetime.timezone.utc), \"I've just watched episode S18 | E19 of Grey's Anatomy! https://t.co/JFWhw5fQCx #tvtime https://t.co/W8jwt86NIG\"], [datetime.datetime(2022, 6, 4, 23, 24, 39, tzinfo=datetime.timezone.utc), '@MaciejNaskret @ERGOARENA Maciej, jedenaście dni temu podatnicy dołożyli do hali osiemset tysięcy złotych. Zajmij się tym! https://t.co/pu57oySJ5v'], [datetime.datetime(2022, 6, 4, 23, 24, 37, tzinfo=datetime.timezone.utc), 'nie ogarniam swoją głową, że typ odwalił taki event. było czterech gości specjalnych i dwie nowe piosenki. koncert trwał 2,5 godziny. TO BYŁO TAKIE KOZACKIE, IM SCREAMING.'], [datetime.datetime(2022, 6, 4, 23, 24, 25, tzinfo=datetime.timezone.utc), 'Za 2 tygodnie. Bez publiki, bez całych emocji, gdy hype opadnie. \\n\\nPanowie może sobie coś udowodnią, ale jak to ma być godna rekompensata dla widza to śmiech na sali \\n\\n#highleague3 https://t.co/Bo4eOPCv4O'], [datetime.datetime(2022, 6, 4, 23, 24, 12, tzinfo=datetime.timezone.utc), '@M_Adamczuk @dominika_kempa_ @BeataSzydlo @MorawieckiM @pisorgpl https://t.co/NqI7ed7GD7'], [datetime.datetime(2022, 6, 4, 23, 24, 4, tzinfo=datetime.timezone.utc), '@Wodzimi97588421 @Barbarzyna1 @Vojtekus @JakubMokotow @logicznyX Chrust zebrany?'], [datetime.datetime(2022, 6, 4, 23, 23, 30, tzinfo=datetime.timezone.utc), '@_emphassis Hot'], [datetime.datetime(2022, 6, 4, 23, 23, 29, tzinfo=datetime.timezone.utc), '@____Michal___ Takie „udka” są super!!'], [datetime.datetime(2022, 6, 4, 23, 23, 7, tzinfo=datetime.timezone.utc), '@MaciejNaskret @ERGOARENA Mi teraz łacińskie \"ergo\" kojarzy się tylko z \"pato\" @ERGO_Hestia'], [datetime.datetime(2022, 6, 4, 23, 23, 6, tzinfo=datetime.timezone.utc), '@mauvais_reves @sanat_asirasi Как можно так легко говорить такие слова?!'], [datetime.datetime(2022, 6, 4, 23, 23, 2, tzinfo=datetime.timezone.utc), '@beffanaa Imagine lubić lato. Zima&gt;&gt;&gt;&gt;&gt;&gt;&gt;&gt;skurwiona pora roku pt lato'], [datetime.datetime(2022, 6, 4, 23, 22, 48, tzinfo=datetime.timezone.utc), '@TeryAsic1 Lipa w letnią noc.'], [datetime.datetime(2022, 6, 4, 23, 22, 40, tzinfo=datetime.timezone.utc), 'Jedna z piosenek wyborczych \"Samoobrony\" śp. Andrzeja Leppera sprzed prawie 20 lat. Przewidzieli przyszłość?\\n\\nhttps://t.co/GaTQEKxsdv'], [datetime.datetime(2022, 6, 4, 23, 22, 16, tzinfo=datetime.timezone.utc), '@Fellj01 Have you seen alexisonfire by any chance? 😭'], [datetime.datetime(2022, 6, 4, 23, 22, 14, tzinfo=datetime.timezone.utc), 'muszę jutro wstać o 7 rano no jestem głupia i jestem wykładowca, NIE MOGĘ ZASNĄĆ Z EMOCJI'], [datetime.datetime(2022, 6, 4, 23, 21, 59, tzinfo=datetime.timezone.utc), '@MaciejNaskret @ERGOARENA Zarząd hali @ERGOARENA powinien wylecieć na twarz za tą kompromitację w najbliższym dniu roboczym a @ERGO_Hestia powinna zastanowić się na co wydaje ciężko zarobione pieniądze swoich klientów. Przy okazji pozdro dla @TeatrSzekspir który nie widzi w takich wynajmach niczego złego'], [datetime.datetime(2022, 6, 4, 23, 21, 36, tzinfo=datetime.timezone.utc), '@khayotillo7 Яхши кинолигидан дарак. Хар курганингда бошқача тасуурот қолдиради.'], [datetime.datetime(2022, 6, 4, 23, 21, 33, tzinfo=datetime.timezone.utc), 'Pełny Kościół Mariacki w @gdansk na nocnym czuwaniu w Wigilię Zesłanie Ducha Świętego'], [datetime.datetime(2022, 6, 4, 23, 20, 36, tzinfo=datetime.timezone.utc), '@thenitrozyniak Sama jestem lechistka, chodze na młyn itd. Są tam na prawdę spoko ludzie ale te zwierzeta, które są w stanie zrobić krzywdę innemu człowiekowi BO ICH ZESPOŁY SIĘ NIE LUBIĄ powinny mieć zakaz wychodzenia z domu. \\nNa prawdę jest mi wstyd.'], [datetime.datetime(2022, 6, 4, 23, 20, 7, tzinfo=datetime.timezone.utc), 'Wordle 351 4/6\\n\\n\\U0001f7e8⬜⬜⬜⬜\\n⬜\\U0001f7e9⬜⬜⬜\\n⬜\\U0001f7e9⬜⬜\\U0001f7e9\\n\\U0001f7e9\\U0001f7e9\\U0001f7e9\\U0001f7e9\\U0001f7e9']]\n"
          ]
        }
      ]
    }
  ]
}