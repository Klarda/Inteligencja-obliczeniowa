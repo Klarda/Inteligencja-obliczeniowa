{
  "nbformat": 4,
  "nbformat_minor": 0,
  "metadata": {
    "colab": {
      "name": "Zad.1.ipynb",
      "provenance": []
    },
    "kernelspec": {
      "name": "python3",
      "display_name": "Python 3"
    },
    "language_info": {
      "name": "python"
    }
  },
  "cells": [
    {
      "cell_type": "markdown",
      "source": [
        "# Zadanie 1\n",
        "Użyjemy paczki pyswarms, by uruchomić algorytm Particle Swarm Optimizer do\n",
        "wyszukiwania minimum funkcji sferycznej (ma minimum 0 we współrzędnych (0,0))"
      ],
      "metadata": {
        "id": "s2cWmv2iFgLB"
      }
    },
    {
      "cell_type": "markdown",
      "source": [
        "b) Zainstaluj paczkę (np. pip install pyswarms w terminalu pycharmowym)."
      ],
      "metadata": {
        "id": "k_4SfuicFiuv"
      }
    },
    {
      "cell_type": "code",
      "execution_count": 1,
      "metadata": {
        "colab": {
          "base_uri": "https://localhost:8080/"
        },
        "id": "HGPvwvBwFeT1",
        "outputId": "30965abd-defe-416d-b973-458913d72977"
      },
      "outputs": [
        {
          "output_type": "stream",
          "name": "stdout",
          "text": [
            "Collecting pyswarms\n",
            "  Downloading pyswarms-1.3.0-py2.py3-none-any.whl (104 kB)\n",
            "\u001b[K     |████████████████████████████████| 104 kB 5.2 MB/s \n",
            "\u001b[?25hRequirement already satisfied: pyyaml in /usr/local/lib/python3.7/dist-packages (from pyswarms) (3.13)\n",
            "Requirement already satisfied: attrs in /usr/local/lib/python3.7/dist-packages (from pyswarms) (21.4.0)\n",
            "Requirement already satisfied: tqdm in /usr/local/lib/python3.7/dist-packages (from pyswarms) (4.63.0)\n",
            "Requirement already satisfied: matplotlib>=1.3.1 in /usr/local/lib/python3.7/dist-packages (from pyswarms) (3.2.2)\n",
            "Requirement already satisfied: scipy in /usr/local/lib/python3.7/dist-packages (from pyswarms) (1.4.1)\n",
            "Requirement already satisfied: future in /usr/local/lib/python3.7/dist-packages (from pyswarms) (0.16.0)\n",
            "Requirement already satisfied: numpy in /usr/local/lib/python3.7/dist-packages (from pyswarms) (1.21.5)\n",
            "Requirement already satisfied: python-dateutil>=2.1 in /usr/local/lib/python3.7/dist-packages (from matplotlib>=1.3.1->pyswarms) (2.8.2)\n",
            "Requirement already satisfied: cycler>=0.10 in /usr/local/lib/python3.7/dist-packages (from matplotlib>=1.3.1->pyswarms) (0.11.0)\n",
            "Requirement already satisfied: pyparsing!=2.0.4,!=2.1.2,!=2.1.6,>=2.0.1 in /usr/local/lib/python3.7/dist-packages (from matplotlib>=1.3.1->pyswarms) (3.0.7)\n",
            "Requirement already satisfied: kiwisolver>=1.0.1 in /usr/local/lib/python3.7/dist-packages (from matplotlib>=1.3.1->pyswarms) (1.4.0)\n",
            "Requirement already satisfied: typing-extensions in /usr/local/lib/python3.7/dist-packages (from kiwisolver>=1.0.1->matplotlib>=1.3.1->pyswarms) (3.10.0.2)\n",
            "Requirement already satisfied: six>=1.5 in /usr/local/lib/python3.7/dist-packages (from python-dateutil>=2.1->matplotlib>=1.3.1->pyswarms) (1.15.0)\n",
            "Installing collected packages: pyswarms\n",
            "Successfully installed pyswarms-1.3.0\n"
          ]
        }
      ],
      "source": [
        "pip install pyswarms"
      ]
    },
    {
      "cell_type": "markdown",
      "source": [
        "c) Uruchom algorym optymalizacji rojem cząstek szukający najlepszego\n",
        "globalnego rozwiązania (gbest PSO). Użyj optimizera GlobalBestPSO i funkcji\n",
        "wbudowanej sphere, zgonie z przykładem dostępnym na stronie.\n",
        "https://pyswarms.readthedocs.io/en/latest/api/pyswarms.single.html#module-\n",
        "pyswarms.single.global_best\n",
        "Powinna znaleźć się informacja o minimum i współrzędnych minimum:"
      ],
      "metadata": {
        "id": "jczVeYrhFs0s"
      }
    },
    {
      "cell_type": "code",
      "source": [
        "import pyswarms as ps\n",
        "from pyswarms.utils.functions import single_obj as fx\n",
        "\n",
        "# Set-up hyperparameters\n",
        "options = {'c1': 0.5, 'c2': 0.3, 'w':0.9}\n",
        "\n",
        "# Call instance of GlobalBestPSO\n",
        "optimizer = ps.single.GlobalBestPSO(n_particles=10, dimensions=2,\n",
        "                                    options=options)\n",
        "\n",
        "# Perform optimization\n",
        "stats = optimizer.optimize(fx.sphere, iters=100)"
      ],
      "metadata": {
        "colab": {
          "base_uri": "https://localhost:8080/"
        },
        "id": "qZVtJM1nFrY_",
        "outputId": "c451d9d3-ee86-44a8-f340-d86e7a6f7bef"
      },
      "execution_count": 2,
      "outputs": [
        {
          "output_type": "stream",
          "name": "stderr",
          "text": [
            "2022-04-04 19:40:32,353 - pyswarms.single.global_best - INFO - Optimize for 100 iters with {'c1': 0.5, 'c2': 0.3, 'w': 0.9}\n",
            "pyswarms.single.global_best: 100%|██████████|100/100, best_cost=2.55e-8\n",
            "2022-04-04 19:40:33,006 - pyswarms.single.global_best - INFO - Optimization finished | best cost: 2.5485238516582246e-08, best pos: [-7.27655171e-05  1.42092991e-04]\n"
          ]
        }
      ]
    },
    {
      "cell_type": "markdown",
      "source": [
        "d) Rozszerzamy nasz kod o dodatkowe rzeczy. Chcemy zobaczyć jak szybko cząstki\n",
        "znalazły minimum globalnym (wartość 0) na przestrzeni kolejnych iteracji\n",
        "algorytmu. Skorzystaj z funkcji plot_cost_history():\n",
        "https://pyswarms.readthedocs.io/en/latest/api/pyswarms.utils.plotters.html\n",
        "Powinien pojawić się mniej więcej taki wykres."
      ],
      "metadata": {
        "id": "umBilvK9GOoR"
      }
    },
    {
      "cell_type": "code",
      "source": [
        "from pyswarms.utils.plotters import plot_cost_history\n",
        "cost_history = optimizer.cost_history\n",
        "plot_cost_history(cost_history)\n",
        "plt.show()"
      ],
      "metadata": {
        "colab": {
          "base_uri": "https://localhost:8080/",
          "height": 703
        },
        "id": "codP056jF9Xd",
        "outputId": "d9028334-b633-4982-e565-9340f1f0729a"
      },
      "execution_count": 4,
      "outputs": [
        {
          "output_type": "error",
          "ename": "NameError",
          "evalue": "ignored",
          "traceback": [
            "\u001b[0;31m---------------------------------------------------------------------------\u001b[0m",
            "\u001b[0;31mNameError\u001b[0m                                 Traceback (most recent call last)",
            "\u001b[0;32m<ipython-input-4-b9e65c766a61>\u001b[0m in \u001b[0;36m<module>\u001b[0;34m()\u001b[0m\n\u001b[1;32m      2\u001b[0m \u001b[0mcost_history\u001b[0m \u001b[0;34m=\u001b[0m \u001b[0moptimizer\u001b[0m\u001b[0;34m.\u001b[0m\u001b[0mcost_history\u001b[0m\u001b[0;34m\u001b[0m\u001b[0;34m\u001b[0m\u001b[0m\n\u001b[1;32m      3\u001b[0m \u001b[0mplot_cost_history\u001b[0m\u001b[0;34m(\u001b[0m\u001b[0mcost_history\u001b[0m\u001b[0;34m)\u001b[0m\u001b[0;34m\u001b[0m\u001b[0;34m\u001b[0m\u001b[0m\n\u001b[0;32m----> 4\u001b[0;31m \u001b[0mplt\u001b[0m\u001b[0;34m.\u001b[0m\u001b[0mshow\u001b[0m\u001b[0;34m(\u001b[0m\u001b[0;34m)\u001b[0m\u001b[0;34m\u001b[0m\u001b[0;34m\u001b[0m\u001b[0m\n\u001b[0m",
            "\u001b[0;31mNameError\u001b[0m: name 'plt' is not defined"
          ]
        },
        {
          "output_type": "display_data",
          "data": {
            "text/plain": [
              "<Figure size 720x576 with 1 Axes>"
            ],
            "image/png": "[encoded data removed]"
          },
          "metadata": {
            "needs_background": "light"
          }
        }
      ]
    }
  ]
}