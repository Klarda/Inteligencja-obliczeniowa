{
  "nbformat": 4,
  "nbformat_minor": 0,
  "metadata": {
    "colab": {
      "name": "Projekt1.ipynb",
      "provenance": []
    },
    "kernelspec": {
      "name": "python3",
      "display_name": "Python 3"
    },
    "language_info": {
      "name": "python"
    }
  },
  "cells": [
    {
      "cell_type": "markdown",
      "source": [
        "Temat 7\n",
        "# Rozwiązywanie problemu 3SAT\n",
        "\n",
        "Dana jest formuła logiczna w koniunkcyjnej postaci normalnej o maksymalnie 3 literałach w\n",
        "każdej klauzuli (postać 3CNF), np.\n",
        "$𝜑 = (𝑥1 ∨ 𝑥2 ∨ 𝑥3) ∧ (¬𝑥1 ∨ 𝑥2 ∨ 𝑥4)\\\\\n",
        "∧ (𝑥2 ∨ ¬𝑥3 ∨ ¬𝑥4) ∧ (¬𝑥1 ∨ ¬𝑥2 ∨ 𝑥5)\\\\\n",
        "∧ (𝑥1 ∨ ¬𝑥3 ∨ 𝑥5) ∧ (¬𝑥3 ∨ 𝑥4 ∨ ¬𝑥5)\\\\\n",
        "∧ (𝑥1 ∨ ¬𝑥2 ∨ ¬𝑥5) ∧ (¬𝑥1 ∨ ¬𝑥4 ∨ ¬𝑥5)\\\\\n",
        "∧ (¬𝑥2 ∨ ¬𝑥3 ∨ ¬𝑥5) ∧ (¬𝑥1 ∨ ¬𝑥2 ∨ ¬𝑥4)$\n",
        "\n",
        "Formuła $𝜑$ ma 10 klauzul (nawiasów), w każdym po trzy literały (zmienne), z negacją lub bez.\n",
        "Pomiędzy klauzulami są znaki koniunkcji, tzn. żeby $𝜑 ≡ 𝑇𝑟𝑢𝑒$, wszystkie nawiasy muszą być\n",
        "spełnione. W środku każdej klauzuli są znaki alternatywy tzn. żeby nawias dał $𝑇𝑟𝑢𝑒$,\n",
        "przynajmniej jedna zmienna w nim musi dać 1.\n",
        "\n",
        "Problem 3SAT (3-Satisfiability, 3-Spełnialność) zadaje pytanie: czy istnieje takie podstawienie\n",
        "zmiennych, żeby $𝜑 ≡ 𝑇𝑟𝑢𝑒$ ?"
      ],
      "metadata": {
        "id": "jEzSIvDmmw3j"
      }
    },
    {
      "cell_type": "markdown",
      "source": [
        "Jeśli weźmiemy $𝜑$ z przykładu to widać, że podstawienie $𝑥_1 = 1$, $𝑥_2 = 1$, $𝑥_3 = 0$, $𝑥_4 = 0$, $𝑥_5 = 1$\n",
        "spowoduje, że wszystkie nawiasy dadzą $𝑇𝑟𝑢𝑒$ więc również cała formuła $≡ 𝑇𝑟𝑢𝑒$. Dla\n",
        "powyższej formuły logicznej odpowiedź brzmi „TAK”. Istnieją oczywiście formuły niespełnialne,\n",
        "dla których nie istnieje podstawienie spełniające.\n",
        "\n",
        "Twoim zadaniem jest wykorzystanie algorytmu genetycznego, PSO i być może dodatkowego\n",
        "algorytmu np. DPLL, do próby rozwiązania 3SAT. Odpowiedz na pytania: czy te algorytmy\n",
        "rozwiązują 3SAT i czy robią to szybko. Zrób sensowne porównania (tabelaryczne, wykresowe).\n",
        "\n",
        "Rozważ wiele różnych formuł, w tym również skomplikowanych np. 400 klauzul, 100\n",
        "zmiennych. \n",
        "Można je pobrać z Internetu np. tutaj:\n",
        "\n",
        "*   https://people.sc.fsu.edu/~jburkardt/data/cnf/cnf.html\n",
        "*   https://www.cs.ubc.ca/~hoos/SATLIB/benchm.html\n"
      ],
      "metadata": {
        "id": "X0aIhQ9NnUVH"
      }
    },
    {
      "cell_type": "markdown",
      "source": [
        "Import pakietów"
      ],
      "metadata": {
        "id": "HBuV7xUiqFp0"
      }
    },
    {
      "cell_type": "code",
      "source": [
        "pip install pyeasyga"
      ],
      "metadata": {
        "colab": {
          "base_uri": "https://localhost:8080/"
        },
        "id": "ZR109Plav-HY",
        "outputId": "f4f0c67f-368d-43ef-80de-822643909f92"
      },
      "execution_count": 4,
      "outputs": [
        {
          "output_type": "stream",
          "name": "stdout",
          "text": [
            "Requirement already satisfied: pyeasyga in /usr/local/lib/python3.7/dist-packages (0.3.1)\n",
            "Requirement already satisfied: six in /usr/local/lib/python3.7/dist-packages (from pyeasyga) (1.15.0)\n"
          ]
        }
      ]
    },
    {
      "cell_type": "code",
      "source": [
        "pip install pycosat"
      ],
      "metadata": {
        "colab": {
          "base_uri": "https://localhost:8080/"
        },
        "id": "ZQjfooN_sJQx",
        "outputId": "81f8e367-ec17-43c6-eb08-fcc40e242bc1"
      },
      "execution_count": 5,
      "outputs": [
        {
          "output_type": "stream",
          "name": "stdout",
          "text": [
            "Requirement already satisfied: pycosat in /usr/local/lib/python3.7/dist-packages (0.6.3)\n"
          ]
        }
      ]
    },
    {
      "cell_type": "code",
      "execution_count": 6,
      "metadata": {
        "id": "-MShBfCbmaWh"
      },
      "outputs": [],
      "source": [
        "from os import path\n",
        "from pyeasyga import pyeasyga\n",
        "import time\n",
        "import pycosat"
      ]
    },
    {
      "cell_type": "markdown",
      "source": [
        "Zdefiniowanie funkcji otwierającej pliki z rozszerzeniem cnf"
      ],
      "metadata": {
        "id": "xqcmhoVBmuPg"
      }
    },
    {
      "cell_type": "code",
      "source": [
        "def load_cnf(a):\n",
        "    data = []\n",
        "    with open(a, 'r') as f:\n",
        "        for line in f.readlines():\n",
        "            if line[0] in ['c', 'p']:\n",
        "                continue\n",
        "            splitted_line = ' '.join(line.split()).split(' ')\n",
        "            int_line = []\n",
        "            for element in splitted_line:\n",
        "                if element == '0': continue\n",
        "                int_line.append(int(element))\n",
        "            data.append(int_line)\n",
        "        return data"
      ],
      "metadata": {
        "id": "FF0t9c0a-D-r"
      },
      "execution_count": 7,
      "outputs": []
    },
    {
      "cell_type": "markdown",
      "source": [
        "Zaczniemy od przypadku z 403 klauzulami i 100 zmiennymi."
      ],
      "metadata": {
        "id": "l--d8FFTuIfj"
      }
    },
    {
      "cell_type": "code",
      "source": [
        "cnf = load_cnf('/content/CBS_k3_n100_m403_b10_0.cnf')"
      ],
      "metadata": {
        "id": "gflGJ6nK-KDt"
      },
      "execution_count": 8,
      "outputs": []
    },
    {
      "cell_type": "markdown",
      "source": [
        "Zdefiniowanie funkcji konwertującej format cnf na boolean"
      ],
      "metadata": {
        "id": "RgBBhlTmngNN"
      }
    },
    {
      "cell_type": "code",
      "source": [
        "def conv_cnf_to_py(cnf, candidates):\n",
        "    clauses = []\n",
        "    for clause in cnf:\n",
        "        temp = [None] * 3\n",
        "        i = 0\n",
        "        for rule in clause:\n",
        "            if rule > len(candidates):\n",
        "                raise Exception(f'Individual CNF value: {rule} references to undefined value.')\n",
        "            if rule < 0:\n",
        "                temp[i] = not bool(candidates[-1 * rule - 1])\n",
        "            else:\n",
        "                temp[i] = bool(candidates[rule - 1])\n",
        "            i += 1\n",
        "        clauses.append(temp[0] or temp[1] or temp[2])\n",
        "    return sum([1 for res in clauses if res])"
      ],
      "metadata": {
        "id": "keNWj6yMnY8g"
      },
      "execution_count": 9,
      "outputs": []
    },
    {
      "cell_type": "markdown",
      "source": [
        "Definiowanie funkcji fitness"
      ],
      "metadata": {
        "id": "X7PuYknrn61g"
      }
    },
    {
      "cell_type": "code",
      "source": [
        "def fitness(member, data):\n",
        "    return conv_cnf_to_py(cnf, member)"
      ],
      "metadata": {
        "id": "pq8WTZht-N0h"
      },
      "execution_count": 10,
      "outputs": []
    },
    {
      "cell_type": "markdown",
      "source": [
        "Algorytm genetyczny"
      ],
      "metadata": {
        "id": "B8X18HX5pnfO"
      }
    },
    {
      "cell_type": "code",
      "source": [
        "ga = pyeasyga.GeneticAlgorithm(\n",
        "    list(range(0, 100)),\n",
        "    mutation_probability=0.2,\n",
        "    population_size=200,\n",
        "    generations=500,\n",
        "    crossover_probability=0.8,\n",
        "    elitism=True\n",
        ")"
      ],
      "metadata": {
        "id": "BLDwMH8un-LX"
      },
      "execution_count": 11,
      "outputs": []
    },
    {
      "cell_type": "code",
      "source": [
        "ga.fitness_function = fitness\n",
        "start = time.time()\n",
        "ga.run()\n",
        "end = time.time()\n",
        "czas = end - start\n",
        "print(\"Czas wykonywania algorytmu genetycznego dla skompliowanego przypadku : {czas}\".format(czas = czas))"
      ],
      "metadata": {
        "colab": {
          "base_uri": "https://localhost:8080/"
        },
        "id": "XCoMSHHgo0yp",
        "outputId": "a3d3fa3d-cf68-462d-92d6-dd0e20f2241f"
      },
      "execution_count": 12,
      "outputs": [
        {
          "output_type": "stream",
          "name": "stdout",
          "text": [
            "Czas wykonywania algorytmu genetycznego dla skompliowanego przypadku : 66.62794280052185\n"
          ]
        }
      ]
    },
    {
      "cell_type": "markdown",
      "source": [
        "Wyniki:"
      ],
      "metadata": {
        "id": "UY_eMaAZtFpa"
      }
    },
    {
      "cell_type": "code",
      "source": [
        "print(ga.best_individual())"
      ],
      "metadata": {
        "colab": {
          "base_uri": "https://localhost:8080/"
        },
        "id": "KX3UxXzCtHYX",
        "outputId": "7e8421ba-de0b-4e52-faa0-b7a57ad59c63"
      },
      "execution_count": 13,
      "outputs": [
        {
          "output_type": "stream",
          "name": "stdout",
          "text": [
            "(396, [0, 0, 0, 0, 0, 1, 0, 0, 1, 1, 1, 1, 0, 1, 1, 0, 1, 0, 0, 0, 1, 0, 0, 0, 1, 1, 1, 1, 0, 1, 1, 1, 0, 0, 1, 0, 0, 0, 1, 0, 0, 1, 1, 1, 0, 0, 0, 0, 0, 0, 0, 0, 1, 1, 1, 0, 0, 1, 1, 1, 0, 1, 0, 0, 0, 1, 1, 0, 0, 0, 0, 0, 0, 0, 0, 1, 0, 1, 0, 0, 0, 0, 0, 1, 1, 0, 1, 0, 1, 1, 1, 0, 1, 1, 0, 1, 1, 0, 0, 0])\n"
          ]
        }
      ]
    },
    {
      "cell_type": "markdown",
      "source": [
        "Następną próbę wykorzystamy z przypadku z 418 klauzulami i 100 zmiennymi."
      ],
      "metadata": {
        "id": "DEGGFM2QzT9r"
      }
    },
    {
      "cell_type": "code",
      "source": [
        "cnf = load_cnf('/content/CBS_k3_n100_m418_b10_0.cnf')"
      ],
      "metadata": {
        "id": "WmhDtnUFzXa-"
      },
      "execution_count": 16,
      "outputs": []
    },
    {
      "cell_type": "markdown",
      "source": [
        "Algorytm genetyczny"
      ],
      "metadata": {
        "id": "od_3U0sNzefT"
      }
    },
    {
      "cell_type": "code",
      "source": [
        "ga.fitness_function = fitness\n",
        "start = time.time()\n",
        "ga.run()\n",
        "end = time.time()\n",
        "czas = end - start\n",
        "print(\"Czas wykonywania algorytmu genetycznego dla skompliowanego przypadku : {czas}\".format(czas = czas))"
      ],
      "metadata": {
        "colab": {
          "base_uri": "https://localhost:8080/"
        },
        "id": "nYaZm2R7zhaC",
        "outputId": "06bdfdfe-7dc7-443d-9dff-137a7f7e3475"
      },
      "execution_count": 17,
      "outputs": [
        {
          "output_type": "stream",
          "name": "stdout",
          "text": [
            "Czas wykonywania algorytmu genetycznego dla skompliowanego przypadku : 68.4097044467926\n"
          ]
        }
      ]
    },
    {
      "cell_type": "markdown",
      "source": [
        "Wynik"
      ],
      "metadata": {
        "id": "pa4xrAsSziF8"
      }
    },
    {
      "cell_type": "code",
      "source": [
        "print(ga.best_individual())"
      ],
      "metadata": {
        "colab": {
          "base_uri": "https://localhost:8080/"
        },
        "id": "sNrswTpLzlg4",
        "outputId": "c232ec5d-d7ed-4d89-a7ce-5141fd80cd94"
      },
      "execution_count": 18,
      "outputs": [
        {
          "output_type": "stream",
          "name": "stdout",
          "text": [
            "(415, [1, 1, 0, 1, 1, 1, 0, 1, 0, 0, 0, 1, 0, 0, 0, 0, 1, 1, 0, 1, 1, 0, 1, 1, 0, 1, 1, 0, 1, 1, 1, 0, 0, 0, 0, 1, 1, 0, 0, 0, 1, 1, 1, 0, 0, 0, 1, 0, 0, 1, 1, 0, 0, 0, 1, 1, 1, 0, 1, 1, 0, 1, 1, 1, 0, 1, 0, 1, 1, 1, 0, 1, 1, 0, 1, 0, 1, 0, 0, 1, 1, 1, 1, 1, 0, 0, 0, 0, 0, 1, 0, 0, 0, 0, 0, 1, 0, 0, 0, 0])\n"
          ]
        }
      ]
    },
    {
      "cell_type": "markdown",
      "source": [
        "Następną próbę wykorzystamy z przypadku z 435 klauzulami i 100 zmiennymi."
      ],
      "metadata": {
        "id": "AZXBeLEluXUN"
      }
    },
    {
      "cell_type": "code",
      "source": [
        "cnf = load_cnf('/content/CBS_k3_n100_m435_b10_0.cnf')"
      ],
      "metadata": {
        "id": "SGmznpkFtRXo"
      },
      "execution_count": 21,
      "outputs": []
    },
    {
      "cell_type": "markdown",
      "source": [
        "Algorytm genetyczny"
      ],
      "metadata": {
        "id": "DJ4KU7bOxOQ2"
      }
    },
    {
      "cell_type": "code",
      "source": [
        "ga.fitness_function = fitness\n",
        "start = time.time()\n",
        "ga.run()\n",
        "end = time.time()\n",
        "czas = end - start\n",
        "print(\"Czas wykonywania algorytmu genetycznego dla skompliowanego przypadku : {czas}\".format(czas = czas))"
      ],
      "metadata": {
        "colab": {
          "base_uri": "https://localhost:8080/"
        },
        "id": "aYszOxKXvk2j",
        "outputId": "de686e7a-59ac-43cb-8722-7b82622161dc"
      },
      "execution_count": 22,
      "outputs": [
        {
          "output_type": "stream",
          "name": "stdout",
          "text": [
            "Czas wykonywania algorytmu genetycznego dla skompliowanego przypadku : 80.87119245529175\n"
          ]
        }
      ]
    },
    {
      "cell_type": "markdown",
      "source": [
        "Wynik"
      ],
      "metadata": {
        "id": "jTXDVAWGxRYs"
      }
    },
    {
      "cell_type": "code",
      "source": [
        "print(ga.best_individual())"
      ],
      "metadata": {
        "colab": {
          "base_uri": "https://localhost:8080/"
        },
        "id": "x7z7oO15xQE6",
        "outputId": "8387deac-dfd7-4c46-c881-c81f85650019"
      },
      "execution_count": 23,
      "outputs": [
        {
          "output_type": "stream",
          "name": "stdout",
          "text": [
            "(433, [0, 0, 0, 0, 1, 0, 0, 1, 1, 0, 1, 1, 0, 1, 1, 0, 0, 1, 0, 0, 1, 0, 1, 0, 0, 1, 1, 0, 1, 1, 0, 1, 0, 1, 0, 0, 0, 1, 0, 0, 1, 1, 1, 1, 0, 0, 0, 0, 0, 0, 0, 0, 0, 1, 0, 0, 1, 0, 0, 0, 0, 0, 1, 1, 1, 1, 0, 1, 1, 1, 1, 1, 0, 0, 0, 1, 0, 0, 0, 1, 1, 0, 1, 0, 0, 1, 1, 1, 1, 1, 0, 0, 1, 0, 1, 0, 1, 1, 1, 1])\n"
          ]
        }
      ]
    },
    {
      "cell_type": "markdown",
      "source": [
        "Średnie czasy wykonywania algorytmów na 10 prób:\n",
        "\n",
        "Z racji na absurdalne wyniki algorytmu DPLL zdecydowałam się go nie pokazywać."
      ],
      "metadata": {
        "id": "MI1QrWH09mRL"
      }
    },
    {
      "cell_type": "markdown",
      "source": [
        "![Przechwytywanie.JPG](data:image/jpeg;base64,/9j/4AAQSkZJRgABAQEAeAB4AAD/4RD0RXhpZgAATU0AKgAAAAgABAE7AAIAAAAOAAAISodpAAQAAAABAAAIWJydAAEAAAAcAAAQ0OocAAcAAAgMAAAAPgAAAAAc6gAAAAgAAAAAAAAAAAAAAAAAAAAAAAAAAAAAAAAAAAAAAAAAAAAAAAAAAAAAAAAAAAAAAAAAAAAAAAAAAAAAAAAAAAAAAAAAAAAAAAAAAAAAAAAAAAAAAAAAAAAAAAAAAAAAAAAAAAAAAAAAAAAAAAAAAAAAAAAAAAAAAAAAAAAAAAAAAAAAAAAAAAAAAAAAAAAAAAAAAAAAAAAAAAAAAAAAAAAAAAAAAAAAAAAAAAAAAAAAAAAAAAAAAAAAAAAAAAAAAAAAAAAAAAAAAAAAAAAAAAAAAAAAAAAAAAAAAAAAAAAAAAAAAAAAAAAAAAAAAAAAAAAAAAAAAAAAAAAAAAAAAAAAAAAAAAAAAAAAAAAAAAAAAAAAAAAAAAAAAAAAAAAAAAAAAAAAAAAAAAAAAAAAAAAAAAAAAAAAAAAAAAAAAAAAAAAAAAAAAAAAAAAAAAAAAAAAAAAAAAAAAAAAAAAAAAAAAAAAAAAAAAAAAAAAAAAAAAAAAAAAAAAAAAAAAAAAAAAAAAAAAAAAAAAAAAAAAAAAAAAAAAAAAAAAAAAAAAAAAAAAAAAAAAAAAAAAAAAAAAAAAAAAAAAAAAAAAAAAAAAAAAAAAAAAAAAAAAAAAAAAAAAAAAAAAAAAAAAAAAAAAAAAAAAAAAAAAAAAAAAAAAAAAAAAAAAAAAAAAAAAAAAAAAAAAAAAAAAAAAAAAAAAAAAAAAAAAAAAAAAAAAAAAAAAAAAAAAAAAAAAAAAAAAAAAAAAAAAAAAAAAAAAAAAAAAAAAAAAAAAAAAAAAAAAAAAAAAAAAAAAAAAAAAAAAAAAAAAAAAAAAAAAAAAAAAAAAAAAAAAAAAAAAAAAAAAAAAAAAAAAAAAAAAAAAAAAAAAAAAAAAAAAAAAAAAAAAAAAAAAAAAAAAAAAAAAAAAAAAAAAAAAAAAAAAAAAAAAAAAAAAAAAAAAAAAAAAAAAAAAAAAAAAAAAAAAAAAAAAAAAAAAAAAAAAAAAAAAAAAAAAAAAAAAAAAAAAAAAAAAAAAAAAAAAAAAAAAAAAAAAAAAAAAAAAAAAAAAAAAAAAAAAAAAAAAAAAAAAAAAAAAAAAAAAAAAAAAAAAAAAAAAAAAAAAAAAAAAAAAAAAAAAAAAAAAAAAAAAAAAAAAAAAAAAAAAAAAAAAAAAAAAAAAAAAAAAAAAAAAAAAAAAAAAAAAAAAAAAAAAAAAAAAAAAAAAAAAAAAAAAAAAAAAAAAAAAAAAAAAAAAAAAAAAAAAAAAAAAAAAAAAAAAAAAAAAAAAAAAAAAAAAAAAAAAAAAAAAAAAAAAAAAAAAAAAAAAAAAAAAAAAAAAAAAAAAAAAAAAAAAAAAAAAAAAAAAAAAAAAAAAAAAAAAAAAAAAAAAAAAAAAAAAAAAAAAAAAAAAAAAAAAAAAAAAAAAAAAAAAAAAAAAAAAAAAAAAAAAAAAAAAAAAAAAAAAAAAAAAAAAAAAAAAAAAAAAAAAAAAAAAAAAAAAAAAAAAAAAAAAAAAAAAAAAAAAAAAAAAAAAAAAAAAAAAAAAAAAAAAAAAAAAAAAAAAAAAAAAAAAAAAAAAAAAAAAAAAAAAAAAAAAAAAAAAAAAAAAAAAAAAAAAAAAAAAAAAAAAAAAAAAAAAAAAAAAAAAAAAAAAAAAAAAAAAAAAAAAAAAAAAAAAAAAAAAAAAAAAAAAAAAAAAAAAAAAAAAAAAAAAAAAAAAAAAAAAAAAAAAAAAAAAAAAAAAAAAAAAAAAAAAAAAAAAAAAAAAAAAAAAAAAAAAAAAAAAAAAAAAAAAAAAAAAAAAAAAAAAAAAAAAAAAAAAAAAAAAAAAAAAAAAAAAAAAAAAAAAAAAAAAAAAAAAAAAAAAAAAAAAAAAAAAAAAAAAAAAAAAAAAAAAAAAAAAAAAAAAAAAAAAAAAAAAAAAAAAAAAAAAAAAAAAAAAAAAAAAAAAAAAAAAAAAAAAAAAAAAAAAAAAAAAAAAAAAAAAAAAAAAAAAAAAAAAAAAAAAAAAAAAAAAAAAAAAAAAAAAAAAAAAAAAAAAAAAAAAAAAAAAAAAAAAAAAAAAAAAAAAAAAAAAAAAAAAAAAAAAAAAAAAAAAAAAAAAAAAAAAAAAAAAAAAAAAAAAAAAAAAAAAAAAAAAAAAAAAAAAAAAAAAAAAAAAAAAAAAAAAAAAAAAAAAAAAAAAAAAAAAAAAAAAAAAAAAAAAAAAAAAAAAAAAAAAAAAAAAAAAAAAAAAAAAAAAAAAAAAAAAAAAAAAAAAAAAAAAAAAAAAAAAAAAAAAAAAAAAAAAAAAAAAAAAAAAAAAAAAAAAAAAAAAAAAAAAAAAAAAAAAAAAAAAAAAAAAAAAAAAAAAAAAAAAAAAAAAAAAAAAAAAAAAAAAAAAAAAAAAAAAAAAAAAAAAAAAAAAAAAAAAAAAAAAAAAAAAAAAAAAAAAAAAAAAAAAAAAAAAAAAAAAAAAAAAAAAAAAAAAAAAAAAAAAAAAAAAAAAAAAAAAAAAAAAAAAAAAAAAAAAAAAAAAAAAAAAAAAAAAAAAAAAAAAAAAAAAAAAAAAAAAAAAAAAAAAAAAAAAAAAAAAAAAAAAAAAAAAAAAAAAAAAAAAAAAAAAAAAAAAAAAAAAAAAAAAAAAAAAAAAAAAAAAAAAAAAAAAAAAAAAAAAAAAAAAAAAAAAAAAAAAAAAAAAAAAAAAAAAAAAAAAAAAAAAAAAAAAAAAAAAAAAAAAAAAAAAAAAAAAAAAAAAAAAAAAAAAAAAAAAAAAEtsYXJhIERhcmdhY3oAAAWQAwACAAAAFAAAEKaQBAACAAAAFAAAELqSkQACAAAAAzY0AACSkgACAAAAAzY0AADqHAAHAAAIDAAACJoAAAAAHOoAAAAIAAAAAAAAAAAAAAAAAAAAAAAAAAAAAAAAAAAAAAAAAAAAAAAAAAAAAAAAAAAAAAAAAAAAAAAAAAAAAAAAAAAAAAAAAAAAAAAAAAAAAAAAAAAAAAAAAAAAAAAAAAAAAAAAAAAAAAAAAAAAAAAAAAAAAAAAAAAAAAAAAAAAAAAAAAAAAAAAAAAAAAAAAAAAAAAAAAAAAAAAAAAAAAAAAAAAAAAAAAAAAAAAAAAAAAAAAAAAAAAAAAAAAAAAAAAAAAAAAAAAAAAAAAAAAAAAAAAAAAAAAAAAAAAAAAAAAAAAAAAAAAAAAAAAAAAAAAAAAAAAAAAAAAAAAAAAAAAAAAAAAAAAAAAAAAAAAAAAAAAAAAAAAAAAAAAAAAAAAAAAAAAAAAAAAAAAAAAAAAAAAAAAAAAAAAAAAAAAAAAAAAAAAAAAAAAAAAAAAAAAAAAAAAAAAAAAAAAAAAAAAAAAAAAAAAAAAAAAAAAAAAAAAAAAAAAAAAAAAAAAAAAAAAAAAAAAAAAAAAAAAAAAAAAAAAAAAAAAAAAAAAAAAAAAAAAAAAAAAAAAAAAAAAAAAAAAAAAAAAAAAAAAAAAAAAAAAAAAAAAAAAAAAAAAAAAAAAAAAAAAAAAAAAAAAAAAAAAAAAAAAAAAAAAAAAAAAAAAAAAAAAAAAAAAAAAAAAAAAAAAAAAAAAAAAAAAAAAAAAAAAAAAAAAAAAAAAAAAAAAAAAAAAAAAAAAAAAAAAAAAAAAAAAAAAAAAAAAAAAAAAAAAAAAAAAAAAAAAAAAAAAAAAAAAAAAAAAAAAAAAAAAAAAAAAAAAAAAAAAAAAAAAAAAAAAAAAAAAAAAAAAAAAAAAAAAAAAAAAAAAAAAAAAAAAAAAAAAAAAAAAAAAAAAAAAAAAAAAAAAAAAAAAAAAAAAAAAAAAAAAAAAAAAAAAAAAAAAAAAAAAAAAAAAAAAAAAAAAAAAAAAAAAAAAAAAAAAAAAAAAAAAAAAAAAAAAAAAAAAAAAAAAAAAAAAAAAAAAAAAAAAAAAAAAAAAAAAAAAAAAAAAAAAAAAAAAAAAAAAAAAAAAAAAAAAAAAAAAAAAAAAAAAAAAAAAAAAAAAAAAAAAAAAAAAAAAAAAAAAAAAAAAAAAAAAAAAAAAAAAAAAAAAAAAAAAAAAAAAAAAAAAAAAAAAAAAAAAAAAAAAAAAAAAAAAAAAAAAAAAAAAAAAAAAAAAAAAAAAAAAAAAAAAAAAAAAAAAAAAAAAAAAAAAAAAAAAAAAAAAAAAAAAAAAAAAAAAAAAAAAAAAAAAAAAAAAAAAAAAAAAAAAAAAAAAAAAAAAAAAAAAAAAAAAAAAAAAAAAAAAAAAAAAAAAAAAAAAAAAAAAAAAAAAAAAAAAAAAAAAAAAAAAAAAAAAAAAAAAAAAAAAAAAAAAAAAAAAAAAAAAAAAAAAAAAAAAAAAAAAAAAAAAAAAAAAAAAAAAAAAAAAAAAAAAAAAAAAAAAAAAAAAAAAAAAAAAAAAAAAAAAAAAAAAAAAAAAAAAAAAAAAAAAAAAAAAAAAAAAAAAAAAAAAAAAAAAAAAAAAAAAAAAAAAAAAAAAAAAAAAAAAAAAAAAAAAAAAAAAAAAAAAAAAAAAAAAAAAAAAAAAAAAAAAAAAAAAAAAAAAAAAAAAAAAAAAAAAAAAAAAAAAAAAAAAAAAAAAAAAAAAAAAAAAAAAAAAAAAAAAAAAAAAAAAAAAAAAAAAAAAAAAAAAAAAAAAAAAAAAAAAAAAAAAAAAAAAAAAAAAAAAAAAAAAAAAAAAAAAAAAAAAAAAAAAAAAAAAAAAAAAAAAAAAAAAAAAAAAAAAAAAAAAAAAAAAAAAAAAAAAAAAAAAAAAAAAAAAAAAAAAAAAAAAAAAAAAAAAAAAAAAAAAAAAAAAAAAAAAAAAAAAAAAAAAAAAAAAAAAAAAAAAAAAAAAAAAAAAAAAAAAAAAAAAAAAAAAAAAAAAAAAAAAAAAAAAAAAAAAAAAAAAAAAAAAAAAAAAAAAAAAAAAAAAAAAAAAAAAAAAAAAAAAAAAAAAAAAAAAAAAAAAAAAAAAAAAAAAAAAAAAAAAAAAAAAAAAAAAAAAAAAAAAAAAAAAAAAAAAAAAAAAAAAAAAAAAAAAAAAAAAAAAAAAAAAAAAAAAAAAAAAAAAAAAAAAAAAAAAAAAAAAAAAAAAAAAAAAAAAAAAAAAAAAAAAAAAAAAAAAAAAAAAAAAAAAAAAAAAAAAAAAAAAAAAAAAAAAAAAAAAAAAAAAAAAAAAAAAAAAAAAAAAAAAAAAAAAAAAAAAAAAAAAAAAAAAAAAAAAAAAAAAAAAAAAAAAAAAAAAAAAAAAAAAAAAAAAAAAAAAAAAAAAAAAAAAAAAAAAAAAAAAAAAAAAAAAAAAAAAAAAAAAAAAAAAAAAAAAAAAAAAAAAAAAAAAAAAAAAAAAAAAAAAAAAAAAAAAAAAAAAAAAAAAAAAAAAAAAAAAAAAAAAAAAAAAAAAAAAAAAAAAAAAAAAAAAAAAAAAAAAAAAAAAAAAAAAAAAAAAAAAAAAAAAAAAAAAAAAAAAAAAAAAAAAAAAAAAAAAAAAAAAAAAAAAAAAAAAAAAAAAAAAAAAAAAAAAAAAAAAAAAAAAAAAAAAAAAAAAAAAAAAAAAAAAAAAAAAAAAAAAAAAAAAAAAAAAAAAAAAAAAAAAAAAAAAAAAAAAAAAAAAAAAAAAAAAAAAAAAAAAAAAAAAAAAAAAAAAAAAAAAAAAAAAAAAAAAAyMDIyOjA0OjI2IDE0OjU4OjU3ADIwMjI6MDQ6MjYgMTQ6NTg6NTcAAABLAGwAYQByAGEAIABEAGEAcgBnAGEAYwB6AAAA/+ELIGh0dHA6Ly9ucy5hZG9iZS5jb20veGFwLzEuMC8APD94cGFja2V0IGJlZ2luPSfvu78nIGlkPSdXNU0wTXBDZWhpSHpyZVN6TlRjemtjOWQnPz4NCjx4OnhtcG1ldGEgeG1sbnM6eD0iYWRvYmU6bnM6bWV0YS8iPjxyZGY6UkRGIHhtbG5zOnJkZj0iaHR0cDovL3d3dy53My5vcmcvMTk5OS8wMi8yMi1yZGYtc3ludGF4LW5zIyI+PHJkZjpEZXNjcmlwdGlvbiByZGY6YWJvdXQ9InV1aWQ6ZmFmNWJkZDUtYmEzZC0xMWRhLWFkMzEtZDMzZDc1MTgyZjFiIiB4bWxuczpkYz0iaHR0cDovL3B1cmwub3JnL2RjL2VsZW1lbnRzLzEuMS8iLz48cmRmOkRlc2NyaXB0aW9uIHJkZjphYm91dD0idXVpZDpmYWY1YmRkNS1iYTNkLTExZGEtYWQzMS1kMzNkNzUxODJmMWIiIHhtbG5zOnhtcD0iaHR0cDovL25zLmFkb2JlLmNvbS94YXAvMS4wLyI+PHhtcDpDcmVhdGVEYXRlPjIwMjItMDQtMjZUMTQ6NTg6NTcuNjQwPC94bXA6Q3JlYXRlRGF0ZT48L3JkZjpEZXNjcmlwdGlvbj48cmRmOkRlc2NyaXB0aW9uIHJkZjphYm91dD0idXVpZDpmYWY1YmRkNS1iYTNkLTExZGEtYWQzMS1kMzNkNzUxODJmMWIiIHhtbG5zOmRjPSJodHRwOi8vcHVybC5vcmcvZGMvZWxlbWVudHMvMS4xLyI+PGRjOmNyZWF0b3I+PHJkZjpTZXEgeG1sbnM6cmRmPSJodHRwOi8vd3d3LnczLm9yZy8xOTk5LzAyLzIyLXJkZi1zeW50YXgtbnMjIj48cmRmOmxpPktsYXJhIERhcmdhY3o8L3JkZjpsaT48L3JkZjpTZXE+DQoJCQk8L2RjOmNyZWF0b3I+PC9yZGY6RGVzY3JpcHRpb24+PC9yZGY6UkRGPjwveDp4bXBtZXRhPg0KICAgICAgICAgICAgICAgICAgICAgICAgICAgICAgICAgICAgICAgICAgICAgICAgICAgICAgICAgICAgICAgICAgICAgICAgICAgICAgICAgICAgICAgICAgICAgICAgICAgIAogICAgICAgICAgICAgICAgICAgICAgICAgICAgICAgICAgICAgICAgICAgICAgICAgICAgICAgICAgICAgICAgICAgICAgICAgICAgICAgICAgICAgICAgICAgICAgICAgICAgCiAgICAgICAgICAgICAgICAgICAgICAgICAgICAgICAgICAgICAgICAgICAgICAgICAgICAgICAgICAgICAgICAgICAgICAgICAgICAgICAgICAgICAgICAgICAgICAgICAgICAKICAgICAgICAgICAgICAgICAgICAgICAgICAgICAgICAgICAgICAgICAgICAgICAgICAgICAgICAgICAgICAgICAgICAgICAgICAgICAgICAgICAgICAgICAgICAgICAgICAgIAogICAgICAgICAgICAgICAgICAgICAgICAgICAgICAgICAgICAgICAgICAgICAgICAgICAgICAgICAgICAgICAgICAgICAgICAgICAgICAgICAgICAgICAgICAgICAgICAgICAgCiAgICAgICAgICAgICAgICAgICAgICAgICAgICAgICAgICAgICAgICAgICAgICAgICAgICAgICAgICAgICAgICAgICAgICAgICAgICAgICAgICAgICAgICAgICAgICAgICAgICAKICAgICAgICAgICAgICAgICAgICAgICAgICAgICAgICAgICAgICAgICAgICAgICAgICAgICAgICAgICAgICAgICAgICAgICAgICAgICAgICAgICAgICAgICAgICAgICAgICAgIAogICAgICAgICAgICAgICAgICAgICAgICAgICAgICAgICAgICAgICAgICAgICAgICAgICAgICAgICAgICAgICAgICAgICAgICAgICAgICAgICAgICAgICAgICAgICAgICAgICAgCiAgICAgICAgICAgICAgICAgICAgICAgICAgICAgICAgICAgICAgICAgICAgICAgICAgICAgICAgICAgICAgICAgICAgICAgICAgICAgICAgICAgICAgICAgICAgICAgICAgICAKICAgICAgICAgICAgICAgICAgICAgICAgICAgICAgICAgICAgICAgICAgICAgICAgICAgICAgICAgICAgICAgICAgICAgICAgICAgICAgICAgICAgICAgICAgICAgICAgICAgIAogICAgICAgICAgICAgICAgICAgICAgICAgICAgICAgICAgICAgICAgICAgICAgICAgICAgICAgICAgICAgICAgICAgICAgICAgICAgICAgICAgICAgICAgICAgICAgICAgICAgCiAgICAgICAgICAgICAgICAgICAgICAgICAgICAgICAgICAgICAgICAgICAgICAgICAgICAgICAgICAgICAgICAgICAgICAgICAgICAgICAgICAgICAgICAgICAgICAgICAgICAKICAgICAgICAgICAgICAgICAgICAgICAgICAgICAgICAgICAgICAgICAgICAgICAgICAgICAgICAgICAgICAgICAgICAgICAgICAgICAgICAgICAgICAgICAgICAgICAgICAgIAogICAgICAgICAgICAgICAgICAgICAgICAgICAgICAgICAgICAgICAgICAgICAgICAgICAgICAgICAgICAgICAgICAgICAgICAgICAgICAgICAgICAgICAgICAgICAgICAgICAgCiAgICAgICAgICAgICAgICAgICAgICAgICAgICAgICAgICAgICAgICAgICAgICAgICAgICAgICAgICAgICAgICAgICAgICAgICAgICAgICAgICAgICAgICAgICAgICAgICAgICAKICAgICAgICAgICAgICAgICAgICAgICAgICAgICAgICAgICAgICAgICAgICAgICAgICAgICAgICAgICAgICAgICAgICAgICAgICAgICAgICAgICAgICAgICAgICAgICAgICAgIAogICAgICAgICAgICAgICAgICAgICAgICAgICAgICAgICAgICAgICAgICAgICAgICAgICAgICAgICAgICAgICAgICAgICAgICAgICAgICAgICAgICAgICAgICAgICAgICAgICAgCiAgICAgICAgICAgICAgICAgICAgICAgICAgICAgICAgICAgICAgICAgICAgICAgICAgICAgICAgICAgICAgICAgICAgICAgICAgICAgICAgICAgICAgICAgICAgICAgICAgICAKICAgICAgICAgICAgICAgICAgICAgICAgICAgICAgICAgICAgICAgICAgICAgICAgICAgICAgICAgICAgICAgICAgICAgICAgICAgICAgICAgICAgICAgICAgICAgICAgICAgIAogICAgICAgICAgICAgICAgICAgICAgICAgICAgICAgICAgICAgICAgICAgICAgICAgICAgICAgICAgICAgICAgICAgICAgICAgICAgICAgICAgICAgICAgICAgICAgICAgICAgCiAgICAgICAgICAgICAgICAgICAgICAgICAgICA8P3hwYWNrZXQgZW5kPSd3Jz8+/9sAQwAHBQUGBQQHBgUGCAcHCAoRCwoJCQoVDxAMERgVGhkYFRgXGx4nIRsdJR0XGCIuIiUoKSssKxogLzMvKjInKisq/9sAQwEHCAgKCQoUCwsUKhwYHCoqKioqKioqKioqKioqKioqKioqKioqKioqKioqKioqKioqKioqKioqKioqKioqKioq/8AAEQgAqQJRAwEiAAIRAQMRAf/EAB8AAAEFAQEBAQEBAAAAAAAAAAABAgMEBQYHCAkKC//EALUQAAIBAwMCBAMFBQQEAAABfQECAwAEEQUSITFBBhNRYQcicRQygZGhCCNCscEVUtHwJDNicoIJChYXGBkaJSYnKCkqNDU2Nzg5OkNERUZHSElKU1RVVldYWVpjZGVmZ2hpanN0dXZ3eHl6g4SFhoeIiYqSk5SVlpeYmZqio6Slpqeoqaqys7S1tre4ubrCw8TFxsfIycrS09TV1tfY2drh4uPk5ebn6Onq8fLz9PX29/j5+v/EAB8BAAMBAQEBAQEBAQEAAAAAAAABAgMEBQYHCAkKC//EALURAAIBAgQEAwQHBQQEAAECdwABAgMRBAUhMQYSQVEHYXETIjKBCBRCkaGxwQkjM1LwFWJy0QoWJDThJfEXGBkaJicoKSo1Njc4OTpDREVGR0hJSlNUVVZXWFlaY2RlZmdoaWpzdHV2d3h5eoKDhIWGh4iJipKTlJWWl5iZmqKjpKWmp6ipqrKztLW2t7i5usLDxMXGx8jJytLT1NXW19jZ2uLj5OXm5+jp6vLz9PX29/j5+v/aAAwDAQACEQMRAD8A+hf7I03/AKB9r/34X/Cj+yNN/wCgfa/9+F/wq5RQBT/sjTf+gfa/9+F/wo/sjTf+gfa/9+F/wq5RQBT/ALI03/oH2v8A34X/AAo/sjTf+gfa/wDfhf8ACrlFAFP+yNN/6B9r/wB+F/wo/sjTf+gfa/8Afhf8KuUUAU/7I03/AKB9r/34X/Cj+yNN/wCgfa/9+F/wq5RQBT/sjTf+gfa/9+F/wo/sjTf+gfa/9+F/wq5RQBT/ALI03/oH2v8A34X/AAo/sjTf+gfa/wDfhf8ACrlFAFP+yNN/6B9r/wB+F/wo/sjTf+gfa/8Afhf8KuUUAU/7I03/AKB9r/34X/Cj+yNN/wCgfa/9+F/wq5RQBT/sjTf+gfa/9+F/wo/sjTf+gfa/9+F/wq5RQBT/ALI03/oH2v8A34X/AAo/sjTf+gfa/wDfhf8ACrlFAFP+yNN/6B9r/wB+F/wo/sjTf+gfa/8Afhf8KuUUAU/7I03/AKB9r/34X/Cj+yNN/wCgfa/9+F/wq5RQBT/sjTf+gfa/9+F/wo/sjTf+gfa/9+F/wq5RQBT/ALI03/oH2v8A34X/AAo/sjTf+gfa/wDfhf8ACrlFAFP+yNN/6B9r/wB+F/wo/sjTf+gfa/8Afhf8KuUUAU/7I03/AKB9r/34X/Cj+yNN/wCgfa/9+F/wq5RQBT/sjTf+gfa/9+F/wo/sjTf+gfa/9+F/wq5RQBT/ALI03/oH2v8A34X/AAo/sjTf+gfa/wDfhf8ACrlFAFP+yNN/6B9r/wB+F/wo/sjTf+gfa/8Afhf8KuUUAU/7I03/AKB9r/34X/Cj+yNN/wCgfa/9+F/wq5RQBT/sjTf+gfa/9+F/wo/sjTf+gfa/9+F/wq5RQBT/ALI03/oH2v8A34X/AAo/sjTf+gfa/wDfhf8ACrlFAFP+yNN/6B9r/wB+F/wo/sjTf+gfa/8Afhf8KuUUAU/7I03/AKB9r/34X/Cj+yNN/wCgfa/9+F/wq5RQBT/sjTf+gfa/9+F/wo/sjTf+gfa/9+F/wq5RQBT/ALI03/oH2v8A34X/AAo/sjTf+gfa/wDfhf8ACrlFAFP+yNN/6B9r/wB+F/wo/sjTf+gfa/8Afhf8KuUUAU/7I03/AKB9r/34X/Cj+yNN/wCgfa/9+F/wq5RQBT/sjTf+gfa/9+F/wo/sjTf+gfa/9+F/wq5RQBT/ALI03/oH2v8A34X/AAo/sjTf+gfa/wDfhf8ACrlFAFP+yNN/6B9r/wB+F/wo/sjTf+gfa/8Afhf8KuUUAU/7I03/AKB9r/34X/Cj+yNN/wCgfa/9+F/wq5RQBT/sjTf+gfa/9+F/wo/sjTf+gfa/9+F/wq5RQBT/ALI03/oH2v8A34X/AAo/sjTf+gfa/wDfhf8ACrlFAFP+yNN/6B9r/wB+F/wo/sjTf+gfa/8Afhf8KuUUAU/7I03/AKB9r/34X/Cj+yNN/wCgfa/9+F/wq5RQBT/sjTf+gfa/9+F/woq5RQAUUUUAFFFFABRXJfEy3hu/BP2e6ijngm1TTY5IpFDK6m+gBUg8EEcYrK/4QHwd/wBCnof/AILYf/iauMeYTdj0KivPf+EB8Hf9Cnof/gth/wDiaP8AhAfB3/Qp6H/4LYf/AImq9mxcx6FRXnv/AAgPg7/oU9D/APBbD/8AE0f8ID4O/wChT0P/AMFsP/xNHs2HMehUV57/AMID4O/6FPQ//BbD/wDE0f8ACA+Dv+hT0P8A8FsP/wATR7NhzHoVFee/8ID4O/6FPQ//AAWw/wDxNH/CA+Dv+hT0P/wWw/8AxNHs2HMehUV57/wgPg7/AKFPQ/8AwWw//E0f8ID4O/6FPQ//AAWw/wDxNHs2HMehUV57/wAID4O/6FPQ/wDwWw//ABNH/CA+Dv8AoU9D/wDBbD/8TR7NhzHoVFee/wDCA+Dv+hT0P/wWw/8AxNH/AAgPg7/oU9D/APBbD/8AE0ezYcx6FRXnv/CA+Dv+hT0P/wAFsP8A8TR/wgPg7/oU9D/8FsP/AMTR7NhzHoVFee/8ID4O/wChT0P/AMFsP/xNH/CA+Dv+hT0P/wAFsP8A8TR7NhzHoVFee/8ACA+Dv+hT0P8A8FsP/wATR/wgPg7/AKFPQ/8AwWw//E0ezYcx6FRXnv8AwgPg7/oU9D/8FsP/AMTR/wAID4O/6FPQ/wDwWw//ABNHs2HMehUV57/wgPg7/oU9D/8ABbD/APE0f8ID4O/6FPQ//BbD/wDE0ezYcx6FRXnv/CA+Dv8AoU9D/wDBbD/8TUMHgzwNdGUWvhvw9MYZDFKI7CBvLcdVbC8HkcH1o9mw5j0iivPf+EB8Hf8AQp6H/wCC2H/4mj/hAfB3/Qp6H/4LYf8A4mj2bDmPQqK89/4QHwd/0Keh/wDgth/+Jo/4QHwd/wBCnof/AILYf/iaPZsOY9Corz3/AIQHwd/0Keh/+C2H/wCJo/4QHwd/0Keh/wDgth/+Jo9mw5j0KivPf+EB8Hf9Cnof/gth/wDiag/4Q3wL9u+xf8I54d+1+X5vkfYYPM2Zxu27c4zxnpR7NhzHpNFee/8ACA+Dv+hT0P8A8FsP/wATR/wgPg7/AKFPQ/8AwWw//E0ezYcx6FRXm9x4M8DWgjN34b8PQCWRYozLYQLvc9FGV5J7Cpv+EB8Hf9Cnof8A4LYf/iaPZsOY9Corz3/hAfB3/Qp6H/4LYf8A4mj/AIQHwd/0Keh/+C2H/wCJo9mw5j0KivPf+EB8Hf8AQp6H/wCC2H/4mj/hAfB3/Qp6H/4LYf8A4mj2bDmPQqK89/4QHwd/0Keh/wDgth/+Jo/4QHwd/wBCnof/AILYf/iaPZsOY9Corz3/AIQHwd/0Keh/+C2H/wCJo/4QHwd/0Keh/wDgth/+Jo9mw5j0KivPf+EB8Hf9Cnof/gth/wDiaP8AhAfB3/Qp6H/4LYf/AImj2bDmPQqK89/4QHwd/wBCnof/AILYf/iaP+EB8Hf9Cnof/gth/wDiaPZsOY9Corz3/hAfB3/Qp6H/AOC2H/4mj/hAfB3/AEKeh/8Agth/+Jo9mw5j0KivPf8AhAfB3/Qp6H/4LYf/AImj/hAfB3/Qp6H/AOC2H/4mj2bDmPQqK89/4QHwd/0Keh/+C2H/AOJo/wCEB8Hf9Cnof/gth/8AiaPZsOY9Corz3/hAfB3/AEKeh/8Agth/+Jo/4QHwd/0Keh/+C2H/AOJo9mw5j0KivPf+EB8Hf9Cnof8A4LYf/iaP+EB8Hf8AQp6H/wCC2H/4mj2bDmPQqK89/wCEB8Hf9Cnof/gth/8AiaP+EB8Hf9Cnof8A4LYf/iaPZsOY9Corz3/hAfB3/Qp6H/4LYf8A4mpfBWkabovxA8Q2+jafa6fA2l6dI0VrAsSljLeDcQoAzgAZ9hUyg0rgpXO9oooqCgooooAKKKKACiiigAooooA5b4if8inF/wBhfTP/AEvgqeoPiJ/yKcX/AGF9M/8AS+Cp62p7ESCiiitSAooooAKKKKACiiigAooooAKKKKACiiigAooooAKzfEd/NpXhfVNQtVDz2tnLNGpGQWVCQPzFaVNdFkjZJFDowIZWGQQe1KSbi0iotJps47wx4O0K58O6XqV7aR32qTwRXMmqyZN08hUNuE3DqOwAIAHGMcVMusa6fiIuiw3em3VlHE1zeBLGRJLWM5ESmTzipdjn+EcKTgcVPYeCo9KjS107XNXt9LjfcmnJLH5aLnOxXKeaFz2EnHTpxT9P8InTdYvL6313U2W9uWubi2kW3ZJCRjaW8rftAAAG7gCm97pWX9f18iVpGz1f9f18zAXx9err+nIJ7W9sL7UPsRW20y6VI87gGW8Y+VLhlAICjPOOlaOmeKr+58aXGk6lNYWG2eRINPuIJI554lB2zRSltkoO3JVV+UHk5HL7b4d2Vt/Z0Q1fVpLLS7lbixsnlj8qAgkheEDOBnA3sxA6HvV//hE4pNZtr+81XUbyO0ne4tbS4eMxQSMGGQQgkbAZgAzkDPTgYmN1a/8AS0/Hfv8A5OXW39b/APA/rd2ra5PpPibSradYRpl8kyPMwIaOZF3rznG0qsnGM5A5rAsfHGp3mmW0ZtrWLVrrVIrWOEqxUQugn3kbs5EBbJ6blPHaul8TeG7TxVo506/luIE8xZFltnCSIR6Eg4yCQeOhNRr4U09PFkevo0wuI7YW6wBh5IxkB9uM7gpK5zjB6U1e+v8AXX/gA9tP66f8EwH8a6lHp9xZPDanX01ldLSLYwjIdg6S7d27b5J3HnqprK8N6/dr4x1zw9o4gW9m1qe5mmu0PlpAqxg7FBUyOSQMA4Xq3YNvr4Xkn+LkniKW3aG1t9PSKNjICtxOSwL7QeCiHbkgZ3nHSrU3gTS5TNIs13FcvqR1OK6jdRJbykKCEO3G0hcFSDkE57YmKd036fiv8m/nYJdUv60f+dvxKf8AbviPVotVv9A/syKz064lt47e6heSS7aI4c+YsiiIFgVHyv0yeuKjt/Fes+INS0qDw+tjZwaho66kZb6F5XiywAXYrKG646j156VfufA9tLNf/ZNV1LT7PUpDJe2Vq8YinZuHOWQuhYcHYy+vB5rTtvD9jZ6xDqFqHiaCxFjHCpHlrEGDDjGcjAHXpTinpf8ArR3/ABt/wAl1t/Wq/S5zejeN768/4Ry41CC2hs9WWe2mdQ37u7jJxhicbGCSYBGcgc0mkeNtRu7rSry/htYdG1eS7W2kVWDoI/miZmLYO9EkbgD+H3ynifwOX+HC+GtDS4mc3aPFcNMqvbbpt7y5+X7oZuByenNbmteENO1vwxDoUrz2ttbiMQvauEkj2DA2kg4+XIPHQmhc1r/15/d0Hpt/XkYNj441O80y2jNtaxatdapFaxwlWKiF0E+8jdnIgLZPTcp47VD4j8fXujXt1NbT2t1a2V0kE1tDpl1NwWUMDdqRFG4DZ2kHBwCea6dfCmnp4sj19GmFxHbC3WAMPJGMgPtxncFJXOcYPSsu++HVjew3lqdW1WDTry5N3JYQyxiISlgxYEoXwWG7aWK5PSnrdf12/wCC/n909P68/wDgfcRar4g8R/2x4ht9I/suK30a2juA11DJI8xaNmKYV1Cj5fvc4/unqC08Sx3niayuVsrGFbnw6dQ+0zjbJGN6ny2l7R85PHUZrefw7aPdaxOZJt2rwpDONwwoVCg28cHDHrmqI8DaSUijmNxNFHpB0gxu4w8BxknAB3cdQR9Km0rv+ukv+APT+vVf8ExtC8cX154q03TrmWG8tdTglkilh0i6sxGUAYYkmJWZSpPKgdjjBrd8Va5No8dpHa3dtbz3UjKnmWc15I2BkhIIcM/ucgL75qHT/BMNnq2najc61quozaZG0VqLqSLaiMu0ghI1ycY+Y5bjrV3WvDkWsX1lfx315p19ZB1hurQx7tjgBkKyIykHCnlcggYIqntZf1/X9XBb6nEXfiKfxJ4a0ie8jVLi18VQWkjLA8AcpJwwjk+dMgjKtyDmn3/xB1efV5bPQ7/RFu11caauky27z3WwMFaf5ZV+UDL424Cjls101t4C02109LQXd/KF1RdVMs0oZ3mBB5JXlSRyPfgiuTTw14it4L6Cx0/VbTWJtQluINRg1cjTow8xcMYDNkjacFTEcnPrkTG6aT9fwiv0YPZten/pX/AOhGu+JNWh1W/0H+zI7PTp5beOC6hd5Lxojhz5iyKIgWBUfK/TJ64qK38Wazr+saPb6BHZ2lrqGkLqck17E8rw5YAIFV13Z3Y6jHXnodC48D20kt8LXVdSsLTUnMl7ZWrxiKd24dsshdCw4Oxl9Rg81p23h+xs9Yh1C1DxNBYixjhUjy1iDBhxjORgDr0pxTur/wBaO/3u3/AB7O39ar9LnMv411KPTp7J4bU6+msrpaR7GEZDkOku3du2+Sdx56qear6FqHiO31Lxpc3mqWt3Bp1y+yBrWQYItkdQhMpCJzyuDk5ORnA0l8LyT/FyTxFLbtDa2+npFGxkBW4nJYF9oPBRDtyQM7zjpWl/widuNR1a5ivryKLV0IurRTH5bOYxH5gyhYNtA/ix7VNpcum9mvy/yb+ZWnN5XX9fjb5HOWninxZM3hzzF0b/AIqK3Zo1WKUfY2EYk3E7/wB6MZ+XEfOBu71PF401RLe3iuYrN7tPEQ0e5kjjZY3Q870UsSp2leCWwc9a34fCtjC2glZbg/2FGY7bLL84Mfl/Pxzx6Y5qvP4J0+ezvYFuryF7vURqYnidRJBONuCmVIx8vRgepzWj+PTb/gr9Lmavy2e//Af62J9N1q5vPGWuaTKkQg0+O2aJlB3MZFYtuOcfwjGAK3KxdE8MW+ialf6gt7e3t3qCxi4lu5FYsUyAQFUBfvdAAvAwBW1QhhRRRQAUUUUAFFFFABRRRQAUUUUAFFFFABRRRQAUUUUAFUPDv/JStf8A+wRp3/o69q/VDw7/AMlK1/8A7BGnf+jr2oqfCVHc7Giiiuc0CiiigAooooAKKKKACiiigDkviZbw3fgn7PdRRzwTappsckUihldTfQAqQeCCOMVlf8ID4O/6FPQ//BbD/wDE1s/ET/kU4v8AsL6Z/wCl8FcxqP8AyWDQ/wDsEXn/AKMgranq7f1s2RLa/wDW9if/AIQ3wL9u+xf8I54d+1+X5vkfYYPM2Zxu27c4zxnpU/8AwgPg7/oU9D/8FsP/AMTWfrniGHQ/GNxJcWVs0droM169wIv35CSD92H/ALp64x15q/o7+KbqzS51G40lRdW3mRpDbSZtpCAVDEyHzQM848vpx14tWav/AFu1+hL0dv62X+ZHc+CvA9nbvcXnhrw/bwp96SWwgVV7ckrgVL/wgPg7/oU9D/8ABbD/APE1xms61rWs/D/xXNdzWF7Y2zpb2dxa2r24uHSQCQ/NJJlA3yhh1Kt7V0y+INY0vxKum6+2mPHd2E15byQh4VgMRG+ORmZty4df3gC9D8vai6/r7w1Lv/CA+Dv+hT0P/wAFsP8A8TUMvgzwNBcQwTeG/D0c1wSIY3sIA0hAydo25OBzxWRoXji+vPFWm6dcyw3lrqcEskUsOkXVmIygDDEkxKzKVJ5UDscYNN+I2uW/hzxF4X1W8SSSK2ku2KxLkn9wQOegGerEgDqSBQ2krsFduyNmXwZ4GguIYJvDfh6Oa4JEMb2EAaQgZO0bcnA54qb/AIQHwd/0Keh/+C2H/wCJrCun1KXxV4Hm1trQ3Uk125WzB8tAYCQoYk7sD+LgH0FRL4+vV1/TkE9re2F9qH2IrbaZdKkedwDLeMfKlwygEBRnnHSjTm5X/W3+YX0udF/wgPg7/oU9D/8ABbD/APE0f8ID4O/6FPQ//BbD/wDE1j3fjTUYPB3ibVkhtTPpOoS2sClG2sqsgBYbsk/MehFWta1jXrXxfpel6Vd6bML5/Me1ksZDJBboB5krSiYAckBfk5LAc4JoVnbzt+Id/K/4F7/hAfB3/Qp6H/4LYf8A4moY/BngaW6mtovDfh554ApliWwgLRhvu7htyM4OM9azbvxpqMHg7xNqyQ2pn0nUJbWBSjbWVWQAsN2SfmPQirWgHPxN8Vn1gsf/AEB6Lp28/wBVcNr/ANdbF7/hAfB3/Qp6H/4LYf8A4muQsfBvhh/EfiWJ/DmktHDqMaRIbGIiNfsdu2FG3gbmY4Hck969PriLORYvEni2SRgqJqUbMT2AsbatI2T1JlexD/whPhT/AKFnR/8AwAi/+JqKHwl4NuTILfw/oUphcxyCOyhbYw6qcDg8jiuI8P8AiTSx4q0/XI9Ws5LjxBczW9zai5RpIkP/AB7ZUHIwIwp95DWnDr7eH7fWpVltbb7V4le2N1ef6q3DIp3sARkfLjGRyRyBWilF2uv+Hulb8SGmv69f8jqf+EJ8Kf8AQs6P/wCAEX/xNH/CE+FP+hZ0f/wAi/8Aia57T/GGtT2sxL6betc6mNO0y5t4HjglG0s0xJkbeowwwpHKEbucjSl17WNK1K607Vfsd1L/AGdLfWtzbQtEp8vAZHQux6spyG5yRgY5blBK9v6tf8hWle39b2/Mv/8ACE+FP+hZ0f8A8AIv/iaP+EJ8Kf8AQs6P/wCAEX/xNZMPiHX7XR9G1jWBp62l/LCtzFDC4a2SVcK3mFyD85TPygAE9etZ3iTXtav7C6m0m7hsbS21q3sopBG7PNiRFcllkX5d5KkY5CkZ5yG7J2tr/wAN/mhK7V7/ANa/5HT/APCE+FP+hZ0f/wAAIv8A4mj/AIQnwp/0LOj/APgBF/8AE1SudT8QDxNbaFazaaJXsGupruS2kKhhIF+WMSdDkcF+OuT0rP0/xdrc+m6Nqt7Dp6Wl9erYy20Su0gYsyeYshIAG5fuFTx/ETQnF20/q9vzDX+vS/5G7/whPhT/AKFnR/8AwAi/+Jo/4Qnwp/0LOj/+AEX/AMTTfFuvt4f0+1lWW1tvtV2lsbq8/wBVbhgTvYAjI+XGMjkjkCuah8darHp881w9lerPqQsNPurGxmaOQBCzTbVd2kAwRtTHKkbupCvC9v66f5odpWv/AF1/yZ0//CE+FP8AoWdH/wDACL/4mj/hCfCn/Qs6P/4ARf8AxNYLeMNat9F1qeSzEslikUltdTadcWUU+9sFDHL8wK+oJGCPpVybxPqOh6hfwa+trcLBpb6khs42QqEYhozuY7u2G+XPPyihygt/63/yYJSf9f13NL/hCfCn/Qs6P/4ARf8AxNH/AAhPhT/oWdH/APACL/4msXSvFWt3upWMT2xlhvlbcV0a7gWybZuUtJJhZVyNvGwnII9KoaNrPiPTvBN9rFzeW2opaX85kja2k8wRJcMJMMZT0UEqMfKABzT92+qDXodT/wAIT4U/6FnR/wDwAi/+Jo/4Qnwp/wBCzo//AIARf/E1man4zmtbrVWsYoLi1sYreONiT+9uZ2Gxdw4ChWQngn5q1kXxBDY3JvtQ0lZFQPHcraSKkePvB4zLyMDht469OOT3ewte4z/hCfCn/Qs6P/4ARf8AxNH/AAhPhT/oWdH/APACL/4msK28UeIZPDNnqOzT5pNQ1JLezZoJIFeBjhZGUuxUnG4cngjipLvxRrWmwa0lylndT6M9vPNJDbuiy2zjL4QuxV1Ac5yRwOKLx6r+tH+o9b2/rsbP/CE+FP8AoWdH/wDACL/4mj/hCfCn/Qs6P/4ARf8AxNLp+ty6n4ov7O1ELafZQRbphks80g3YBzjATaen8Qrbqkk1sTdmH/whPhT/AKFnR/8AwAi/+Jo/4Qnwp/0LOj/+AEX/AMTW5RRyrsF2Yf8AwhPhT/oWdH/8AIv/AImj/hCfCn/Qs6P/AOAEX/xNblFHKuwXZh/8IT4U/wChZ0f/AMAIv/iaP+EJ8Kf9Czo//gBF/wDE1uUUcq7BdmH/AMIT4U/6FnR//ACL/wCJo/4Qnwp/0LOj/wDgBF/8TW5RRyrsF2cV4X8H+GrjSJ3uPDulSsNRvkDPYxsQq3cqqOV6AAADsABWz/whPhT/AKFnR/8AwAi/+JqlpGpwaN4L1PUrs4htL7UpXx1IF3McfU1zfgXVbCx8SW9pDq9lfT65ZG6ult7lZSl4pLOOCcZV8D2iqI8t1G39f0mU72bOstvCXg28gE1p4f0KeJiQJIrKFlODg8geoIqX/hCfCn/Qs6P/AOAEX/xNcfoviRtE8KaFZi90/TRfTXhN7qIzFHslY7du9Mls8HcAMHrxWlpHinX9SsNLgYaeuo6pJO8U/wBmkWGO2iIAk2GTc+/KlfmUYfPblRlFrYGmje/4Qnwp/wBCzo//AIARf/E0f8IT4U/6FnR//ACL/wCJrG1DxZrGk6fr0F1b2lxqWlRQzwyxIyQ3CSsQMqWJQgqw+8ex9q0Dq2saVrWlW+uyWL22o+ZGZLeF4/JmCh0TczsGBAcZwMkDgdKq8b7C1LP/AAhPhT/oWdH/APACL/4mj/hCfCn/AELOj/8AgBF/8TXK3OueIdZn8N31he21hbX+pTpBGbeR98Qjk2NJiVd4IXdjjkqe3Orf694hGqa5a6e2mImkWsc5kngkYzMyMxXAcbQSv3snHoetLmildr+rXHaV7f1vY1f+EJ8Kf9Czo/8A4ARf/E0f8IT4U/6FnR//AAAi/wDiaztN8SarNqOhNfx2a2muwPJFDCrmS2YRhxukJw4Iz0RcHHXrTfGNla6j4m8KWuoW0N1byXk++GeMOjYt3IyDweRmqaS6CTvrfpc0/wDhCfCn/Qs6P/4ARf8AxNH/AAhPhT/oWdH/APACL/4mufntofD/AIsutK0hFt9PvtGnuZLOMYjhkQhQ6KOE3BiCBgEgHr1zfCljbST+FLjw1pM1i0Ntu1S6Fk9rHMhhxtYsq+cS+CCN2ME5GeZi03t/V2v0G7rr/Wj/AFOy/wCEJ8Kf9Czo/wD4ARf/ABNH/CE+FP8AoWdH/wDACL/4mqfw+/5Fuf8A7CV7/wClD0fD7/kW5/8AsJXv/pQ9UrO2m6v+X+YndX9bfn/kXP8AhCfCn/Qs6P8A+AEX/wATR/whPhT/AKFnR/8AwAi/+Jrcop8q7CuzD/4Qnwp/0LOj/wDgBF/8TR/whPhT/oWdH/8AACL/AOJrcoo5V2C7MP8A4Qnwp/0LOj/+AEX/AMTR/wAIT4U/6FnR/wDwAi/+Jrcoo5V2C7MP/hCfCn/Qs6P/AOAEX/xNa/w50vT9I8ceIoNKsbaxhbTtPdo7aFY1LeZdjOFAGcAc+1S1L4J/5KB4h/7Benf+jbysa6SgaU2+Y76iiiuA6QooooAKKKKACiiigAooooA5b4if8inF/wBhfTP/AEvgrJ1jwwuq61aatBqt/pt5aQyQI9oISGRypYESxuOqDpitb4i20F54SitbyGOe3m1bTI5YpUDJIpv4AVYHggg4INS/8K48Ef8AQm+H/wDwVwf/ABNXGVhNXMU+FLSe/F5qVxcahMdPfT5ftHlhZonbcxYIqjJxjjAx2qG08Im0sZbMeINZltzbNbQI80YNspGMqVjBZgAAGkLkfic9B/wrjwR/0Jvh/wD8FcH/AMTR/wAK48Ef9Cb4f/8ABXB/8TT51a1v6/psXK9/6/rQ5eLwHbr4Yl8PXWsald6ZJAkCwOLePylUgjaY4lOeMZJP581KngewklupNVvL7VjcWbWK/bZFPkwN95E2KpyeMs2WO0Zbiuj/AOFceCP+hN8P/wDgrg/+Jo/4Vx4I/wChN8P/APgrg/8AiabmnugUbbHN6f4Jhs9W07UbnWtV1GbTI2itRdSRbURl2kEJGuTjHzHLcda09T0Cz1bU9PvbzezWBl2R8FJBIhRg4IORg+1aP/CuPBH/AEJvh/8A8FcH/wATR/wrjwR/0Jvh/wD8FcH/AMTQ6l90JRtsc7YeB9O09tLENzePFpUsz2cMsissayqVMX3clFBwoJyOmSBiqtt8O7K2/s6Iavq0llpdytxY2Tyx+VAQSQvCBnAzgb2YgdD3rrP+FceCP+hN8P8A/grg/wDiaP8AhXHgj/oTfD//AIK4P/iaPaK97By6WOV1P4e2Gqf2lFJqeqQWWpy+fcWUEyLEZcAbwdm7+EEru2k9Vq0/hFh4ludatde1S1muljSSKNbd02J0Qb4mZV5JIDDkk10H/CuPBH/Qm+H/APwVwf8AxNH/AArjwR/0Jvh//wAFcH/xNCmlsg5bnK6n8PbDVP7Sik1PVILLU5fPuLKCZFiMuAN4Ozd/CCV3bSeq1tWeiW1lrmoarE8pn1BIklViNqiMELtGM/xHOSa0P+FceCP+hN8P/wDgrg/+Jo/4Vx4I/wChN8P/APgrg/8AiaFUS6By3HV59PpqaxqHjXTpppoI7q/SJ5IGCuFNjbA4JBxxx0rv/wDhXHgj/oTfD/8A4K4P/ia5/wAOeAfB8+veLI5/CehyJb6tHHCr6bCRGv2G1baoK8DczHA7sT3pqquqDlfRmZqvh+y1bQP7Il8yC3UR+W0BAeIoQUKkggEFR2rntf8ACkkZt5dOt7q+ibVW1C7jguhBcZaIp+6cMgA5GQWBxnmvVP8AhXHgj/oTfD//AIK4P/iaP+FceCP+hN8P/wDgrg/+Jq5V03e39aP9CFTsrX/rY8t0/wAM3OpR3seqjULOy86KfTY7m98+6tJUB3SCTc4GSRhSzDrkckVrw+F4Fa7mvr681C6urc2rXNwYw6RH+FQiKo5Oc7ck4yTgV3f/AArjwR/0Jvh//wAFcH/xNH/CuPBH/Qm+H/8AwVwf/E0e2VrOP9bf19wezfc4HXtHLeAbvR7G2e9YWP2eCIyKrOQuFJY4AIIBzx0pkHhG3/4Qq00C5nmzAsbm5jI8zzlYP5gLAjO8Z5B616D/AMK48Ef9Cb4f/wDBXB/8TR/wrjwR/wBCb4f/APBXB/8AE03iE221uCpWSSexxkGhxxaxDqkt1cXF3FaG0Ly7BvUsGLEKoG7I7YHtVWLwjYRaPY6astwYbG8F5GxZdxcOXwflxjLHsOO9d7/wrjwR/wBCb4f/APBXB/8AE0f8K48Ef9Cb4f8A/BXB/wDE0fWF/L/V7/mHsvP+tjzrxnpd3qS6U9taTXcNpeedPHaXP2e4K+Wyjy33oBy3PzDIqnp3hq71BL1NT/tGxshPFPpsdzeCe6tZUB3SeYWkGCTwpZhjORyRXqP/AArjwR/0Jvh//wAFcH/xNH/CuPBH/Qm+H/8AwVwf/E0vbq7dv60/yH7N9zhZvDSXek3dhqWqahe/atoeaV0DKFOQFVECDnvtye5OBie60CyvdWe/ug8rSWT2LwsR5bRs2TkYznjHXpXZ/wDCuPBH/Qm+H/8AwVwf/E0f8K48Ef8AQm+H/wDwVwf/ABNN1094i9m11OH0vw82mPCP7Y1K6t7ddsFvPImyMYwOVRWfA4+dm9euDSWXh+HSbfUI7eW5urW6aWX7BIY9is5LMEO0H5iT95iBntXc/wDCuPBH/Qm+H/8AwVwf/E0f8K48Ef8AQm+H/wDwVwf/ABNDrp9AVO3U8x8LeDIrP4ex6JrMbmS5HmXK+blkckFQHB6oAoBB/hGKv3PhQ32jXmnX+u6rcrdosbSu8SsqA52gLGE56ElSSOM4rv8A/hXHgj/oTfD/AP4K4P8A4mj/AIVx4I/6E3w//wCCuD/4mh10/s/iHs2upwo8NiS3t4r7Vb69FrdR3MJlWFNpTouI41G38M+9TnRbaC91XUFSW4l1CFElgLLtYIpAVc4xncc5P5V0KeG/hZLrbaNHo3g99UT71itramdeM8x43dOenSqNxb/Be0uZba7h8BwTwuUkilWzVkYHBBB5BB7UnXTVrb/8MCpNPf8Arc5zwF4fl8N+D7Wzuwwu3zLcBn3lWP8ADuyc7VCrnP8ADXSVup8O/AskavH4P8POjAFWXTICCPUfLWfYeG/hZqt/PY6Xo3g+9u7bPn29va2skkWDg7lUErg8c96v6z0sL2XW5Soq6nhv4WS622jR6N4PfVE+9Yra2pnXjPMeN3Tnp0q3c+Bfh9ZLGbzwt4ZtxLIsUZl063Xe7cKoyvJPYdTS+s+Qey8zHoq7qnhv4WaHNBFrWjeD9OkuM+Sl3a2sRlxgHaGAz1HT1p2reFvhhoMMc2uaF4S02KRtiPeWdtCrt1wCwGTR9Z8g9j5lCitLUfCPw00exF7q/h7wpY2hIAuLqytoo8noNzKBzU9r4D+H99aRXVl4U8NXNvMoeKaHTrd0dT0IYLgj3FP6z5B7LzMaitiLwL8PZ7Z7iHwt4ZkgjZ1eVNPtyqlCQwJ24BBBB9CDVXSPDPwu19JX0LRPCOprCQJGsrS1mCE9AdoOOlL6z5B7LzOF0vRoNd8LTWd5JMkA1q8ldYmA8zZfSsEbIPykgZH61t6totvq72Mlw8sclhdLdQvEQCGAIwcg/KQSCPQ1oeC/APg+60G5kuvCehzOuralGGk02FiFS+nVVyV6BVAA7AAdq6D/AIVx4I/6E3w//wCCuD/4mksQkth+z8zyTUPCUmnXukLY2Woahp1nFcqfsV/9nug8rq/LB4wU4PAOc44NXdM8L3d5YpLq1ze2V3bXckumyi4Wa5tIWAHlu7b1fPOQ28YIGTgGvTv+FceCP+hN8P8A/grg/wDiaP8AhXHgj/oTfD//AIK4P/ialVkug3Tb6nAnwhZSabf2t1dXdzNqJU3V5IyebJtI2jhQqgYwAFA69yTUXjzRbjxB4WbTrKJmuJbiLZKkgQ2+HGZckjoueByeleh/8K48Ef8AQm+H/wDwVwf/ABNH/CuPBH/Qm+H/APwVwf8AxNN101ZxEqbTvc4e/wDDVre2OnW8M89i2mur2k1ts3RkIUxh1ZSNpIwQaf8A8I9a/adUnaadpNUgSCckrwFUqCvHBwx9RXa/8K48Ef8AQm+H/wDwVwf/ABNH/CuPBH/Qm+H/APwVwf8AxNN11K947gqTVrPY4iLw3ZxNopWSc/2NGY7fLD5wY9nz8c8emOadrWgJrNxY3AvrqxuLCVpYZbbyyQWQoch0YEYJ7V2v/CuPBH/Qm+H/APwVwf8AxNZuqeG/hZoc0EWtaN4P06S4z5KXdraxGXGAdoYDPUdPWm8Rd7biVKy3OZs/DVram8mnubm9vb2LyZry5ZTIU5woCqEUDJ4VRk8nJrQ06xj0zTLWxgZmitoVhQuQWIUADOO/FdR/wrjwR/0Jvh//AMFcH/xNZqeG/hZLrbaNHo3g99UT71itramdeM8x43dOenShYhLRIHS6tnKaV4XbR5j9j1vUhatcSTm0dYDGS7FmGfK34yx/iz70aV4XbR5j9j1vUhatcSTm0dYDGS7FmGfK34yx/iz711dz4b+Flnq8OlXmjeD7fUZ8eVZy2tqs0mTgbUI3HJB6DtS3/hn4XaVfW9lqmieELK7uiBBBcWlrHJMScDapALc8cd6SxCVrL8RunvdlGityX4e+BIIXlm8I+HY441LO76ZAAoHJJO3gVTu/CvwxsNJTVL7QfCVtp7hWW7ms7ZImDfdIcjBz255p/WfIXsfMz6K0U8JfDOXRjq8fh/wm+mBDIb1bK2MOwdW3424GDzmnaX4Q+Gut2f2vRfD3hXUbbcU860sraVNw6jcqkZ56U/rPkHsvMzKK2I/Avw+lu5rWLwt4Ze4twpmhXTrcvGG+6WG3Izg4z1xWZp2lfCHV74WWk2Hgm+u2BIt7aG0kkOOT8qgnil9Z8g9l5kVS+Cf+SgeIf+wXp3/o28qzB4Y+F91rE2k22h+EZtSgBaWyjtLZpowMcsgG4dR1HcU/w5oulaD8SdftdD0yz023fSdOkaKzt1hRmM16CxCgDOABn2FRUrc8bWKjT5WdlRRRXOahRRRQAUUUUAFFFFABRRRQBzfjz/kXbX/sNaV/6cLeukrm/Hn/ACLtr/2GtK/9OFvXSUAFFFFABRRRQAUUUUAFFFFABXJ/ELxXH4Z0WCGPULPTr7VJvstrc3sqxxQEglpWLEDCKCcE8naveusopNXGnY8IsNS0iy8DeJtH8La1BLHL4ht4GltbwPKbeZreN5dynPzZcF/UnnNdomh6d4b+Kumab4ds4dMsNU0i6W8tbJfJRzG8eyTCYw48xhv64PXpXRXHgrSrvS9a0+6NxJBrNybqf95taOTCAFCACuDGrDryKZZeC4be6uby+1jVNTv57Q2SXtzLGktvCeSsflIgUk4JbG4kDngU+iv2/wDbbW+8Vt/X9b3+45DRrPTtG+Lemx2Ph8+D4p9PnhW3KRL/AGs4IYf6lnTMagtl2DnfwMA11/hf/kYvGf8A2Go//TfZ0tj4OSHXLbV9V1nUtau7JHS0a+8lVt94w5VYY4wSQAMtkgdMZNJ4X/5GLxn/ANhqP/032dPol/W7Dq2dJRRRSAKKKKACiiigAooooAKKKKACiiigAooooAKralNJb6VdzQf62OB2TjPzBSRVmggMpDDIPBB71Mk3FpDi7NNnimhzX1r8MPB2s+JLbT7rSxdWcq26rL9rjmlkAFz9oEgDMXfeybBkMylj1PY+MIx4n8b6J4Qkw+nojatqkZPEscbBYYyO4MpyQeCI60bTwDp9nJbQx31+2k2k4uLbR3aM20MgbcpB2eYQrHcFZyoOMDAAGrBoFtb+KbzX1lma6u7aK1ZGI2IkbMw2jGQSXOck9q0bTlfzb/DT53/roTZpfK346/h+P3mV8Tb25074W+I7rT5HiuItPlKPGcMny4yD2IHftXKXcl7oE/hS61qy0xi0UttpSWUUqS6a5tmYIz+YVnUqhU/IgyFYD09GutLjvzdxX8slzY3cHkSWMqoYsHO4/d3EkHByxHAwBznJ03wVbWF5aTXOp6hqcWnqVsLe9aJktAV2fKVRWc7Dt3SM5wTzkknOzaa7/wDB/wA9P6vV1p5X/T/LU840Oa+tfhh4O1nxJbafdaWLqzlW3VZftcc0sgAuftAkAZi772TYMhmUsepr+NvF2ha/4q0q/n8Q6fDb6Jr9vb29m18iuSsmJ7iRN2QoxsUkcDc3RhXpVp4B0+zktoY76/bSbScXFto7tGbaGQNuUg7PMIVjuCs5UHGBgADW1zQbXX47JLySZBZ3sV7H5RAy8ZyoOQePXv71pf3lL+9f8v8AJ/h5Wi3uteVvz/4H493fzqyXXtb8QfEH7N/ZTWi3It3/ALRgkuBcwi2QrCoV08tRuY7vnyZSdvHLfDt9aw61pHigaLqUuh6h4bt7XTxb28t81mVYl4WChn+YFPnPB2cmu31HwZb3mp3d9Y6nqGkyX6ql+ti0QW7CjaC29GKsFyNyFWxjnhcLeeD0dbVNG1vVtChtbQWawadLH5RiGNvySo6hhjAdQGxwSeMStl8vyaf56f8AD3t6v+u6a/L8vlynwy0x7vwLZX8+lxtqmj3V/BpkF1clY7cec6bMoGUYA2bgrEAEDg82PA1idS8O+I9DuLq70vUU1ic3409xGIWkKybYHwSEZWHzYVssxwp6dDN4H01bXTI9JnutIn0pHjtLq0ZWkRHxvU+arq+4gElgTkZznmtDQfD9p4ftZ47Z5bie6ma4urq4IMtxK3V2KgDoAAAAAAAABRpd37W/FfnbXzJ6fO/5/lfQ4TwN4c0zVPgk2h30strpa3t2smyXb+6jvJDtZmz8pC4bPUE896v+GVXxH8RH8VaLara6Da6adNtrkIE/tE+YrblGM+Um0qpPXcdvHXUufh7p1x4Gm8Krf6hBZTzyTySRvH5jb5jKyHchUqWYjBXkcHPNaekaFeaXcBp/Emp6lCsexba6itEjXpgjyoEbjGOuPamm+a7/AK0sOXX1/W5U8B/8i7df9hrVf/ThcV0lc34D/wCRduv+w1qv/pwuK6SkAUUUUAFFFFABRRRQAVwPh22g1Xxv8Qf7UijmzNBYkSgN/o/2ZW2f7pMjnHua76ub1fwVBqep3V9aatqekTX0Agvf7PkjUXSAELu3oxVgCQGTa2D14GJkr3XdNf1+XzGnYz/hhd3U3wc0Oe4LvOthhS7ZLBchDn/dArivLCfs3aHqcChtRW5s79JQRva6e6Xe27+8d7gn0JFes2Wjw6ZHZW+myyWthZW/kR2MYTyioACkkqXyoHGGA5Oc1hQ/DvTobiFP7Q1F9Kt7v7bBo7SR/ZY5dxYEfJ5hUOSwQuVBxxgADRu9Tm80/ud/x/QnaNv62OOhghv/AIO/EK7vkVrma81OSWRsFg8LMIufVRGm30wMVt6zot5cfDe/vdK0q1udW1zS4xqj3s7FmUQY+VcEMwycJmNcknIyc6+ofD3T9QuL8f2jqVtp2pyia/0uCSMW90/G4tlDIu4KAwR1DY5HJzNqHgi2u7y9nsdV1HSU1FVW+hsWiCXOF2AnfGzIdny5jKnAHcA1na8OXyS+5W+5/fp91p2nfzb+93+9Hnvinxj4e1rwNY+HItfhsrG40RLy5lvrpIJ54vL/AHUAywy7svz7c4UEfxitzSJvC4+H/g7xZrOpJJb6LYIlukciyRtcNGqEBACWlBUqoHIJbjNd7/Ytknh06JbRfZrH7MbVI4ePLj27cLnPQVgXnw8tbldA+za1qlk3h+DybMw/Z3/gCb2WWJ1L7RjcAMZOMZq2/ek11a/X/NGaVlFdk/0/r8DhbvSLu18MRNfWbWGoeIPFUeo6douFZFYYYRz4IABERkcjO0nIDEYOi3iUeDPFnizWPFMcFjqNzZ2kkNlBODbTAFokbz22ksXIViyJtUD7wGa7O78GpqWlJaavrWp388Fyt1aX8nkRz2sijAKeXEq9zwysDkg5HFWdF8LwaRqV1qc9/e6rqV0ixSXt8ybxGudsarGqIqgknhQSTkk8Ulpp0/SyX36Fef8AW7f3HmfgF7W48SeOrLR/EenarrOp2ME/2mO8Dxy3DRyByu0sRGjMq4AO0bR1rpdOl1rwNbeGvDeqXGm3NrfINMtmsraSJ7WRIWZSzNI/mg7CCcIc4OOcDp38JaZNqGt3V0slwuuW8dveQSMPLKIrLgYAIyGOefpioNN8GwWV9Z3V7qmoaqdPUrYJemLbaZXYSvlxqWO35cuWOM85JJN7rvb8L/do9P8AgBrv6/p+q1PLZpLrRfh74W0YaHqFvrmka1afaZ5LVkjDtPseVZyAknm7yMIWYhzkcHHqFj/yVPXf+wLpv/o++ptp4IhhvrWa+1vWNUt7KYz2lnfzpJHDJklW3BBJIVyQvmO+OvUAh1j/AMlT13/sC6b/AOj76nfT53/BL9BW1/ru/wDM6SiiikMKKKKACiiigAooooAKKKKAOW+IttBeeEorW8hjnt5tW0yOWKVAySKb+AFWB4IIOCDUv/CuPBH/AEJvh/8A8FcH/wATR48/5F21/wCw1pX/AKcLeukoA5v/AIVx4I/6E3w//wCCuD/4mj/hXHgj/oTfD/8A4K4P/ia6SigDm/8AhXHgj/oTfD//AIK4P/iaP+FceCP+hN8P/wDgrg/+JrpKKAOb/wCFceCP+hN8P/8Agrg/+Jo/4Vx4I/6E3w//AOCuD/4mukooA5v/AIVx4I/6E3w//wCCuD/4mj/hXHgj/oTfD/8A4K4P/ia6SigDm/8AhXHgj/oTfD//AIK4P/iaP+FceCP+hN8P/wDgrg/+JrpK5P4heK4/DOiwQx6hZ6dfapN9ltbm9lWOKAkEtKxYgYRQTgnk7V70m7DWpY/4Vx4I/wChN8P/APgrg/8AiaP+FceCP+hN8P8A/grg/wDia5L4ZpoV3pXivw/4c19dp1GTZcWF4klwI2hiHnBvm5Lbvnwfmz3qbwLZ2mjeCvGdrHfSafbW+r36/bZZWd4BtGZC7HJI+9knOaG7K/lf8v8AMS1a9bfn/kdP/wAK48Ef9Cb4f/8ABXB/8TXP+HPAPg+fXvFkc/hPQ5Et9WjjhV9NhIjX7DattUFeBuZjgd2J71yngeCO08W+EmuNAi8MH7HKg1GIEf2+5TADHaDyF87E+JM8AcEn0vwv/wAjF4z/AOw1H/6b7OrasJO4f8K48Ef9Cb4f/wDBXB/8TR/wrjwR/wBCb4f/APBXB/8AE10lFSM5v/hXHgj/AKE3w/8A+CuD/wCJo/4Vx4I/6E3w/wD+CuD/AOJrpKKAOb/4Vx4I/wChN8P/APgrg/8AiaP+FceCP+hN8P8A/grg/wDia6SigDm/+FceCP8AoTfD/wD4K4P/AImj/hXHgj/oTfD/AP4K4P8A4mukooA5v/hXHgj/AKE3w/8A+CuD/wCJo/4Vx4I/6E3w/wD+CuD/AOJrpKKAOb/4Vx4I/wChN8P/APgrg/8AiaP+FceCP+hN8P8A/grg/wDia6SigDm/+FceCP8AoTfD/wD4K4P/AImj/hXHgj/oTfD/AP4K4P8A4mukooA5v/hXHgj/AKE3w/8A+CuD/wCJo/4Vx4I/6E3w/wD+CuD/AOJrpKralNJb6VdzQf62OB2TjPzBSRUylyxbHFXdjkk8N/CyXW20aPRvB76on3rFbW1M68Z5jxu6c9OlFz4b+Flnq8OlXmjeD7fUZ8eVZy2tqs0mTgbUI3HJB6DtXFaHNfWvww8Haz4kttPutLF1Zyrbqsv2uOaWQAXP2gSAMxd97JsGQzKWPUt1W3vNS8K+Pn0i2W70S71KWW51CUj7XEYtok8mL7soTyzsLSRkEcA4G62uVtPpe/yt92/9dEvetbrb8b/ft/S39J/4Vx4I/wChN8P/APgrg/8AiagPgX4fC+FkfC3hkXZjMog/s638woDgtt25xk4z0zWtc69p2meE2125uSdOgtBcmcjJaPbuB9yR/OvKfCOr6dqXxiOpHxDp1xqutaJLmO3v0mW2bzVMdum1iNyoCTjqd7dKTvzcvr+Tf6Cv7vN6fmv8ztoPDHwvutYm0m20PwjNqUALS2UdpbNNGBjlkA3DqOo7irkvgLwBBLDHP4U8NxyXDlIUfToAZGwWwoK8nCk4HYE9q80mkutF+HvhbRhoeoW+uaRrVp9pnktWSMO0+x5VnICSebvIwhZiHORwcdd4p0WOH4veDNYku7y4nmvLiFIpZv3Vun2SQlY0AAGSASxyx4GcAANK/wB9vwX+f9bD7+l/z/yNG/8ADHwv0q8trTVND8I2VzdHbbw3FpbRvMc4wqsAW5IHHrSav4b+Fnh8RHXtG8H6YJs+V9ttbWHzMYzt3AZxkdPWsTUrd9L17xzFq+h32pHXoU+wyw2jTRTRCDZ5DOBti2vuP7wqvz5z1qPwho3inV9O8J+JLbUNOt3j8OR23mX9vJdOzuVZjsV4xyEj+bcT1GOc1MdV/XVP/K3zB6P+vL/O/wAvu3pPDnwrh0VNYm0bwfHpb42XzWtqIGycDEmNp5461M/hH4ax6P8A2tJ4e8KLpvliX7Y1lbCHYejb9u3HPXNc2uuXGua54a8WX2lXNxZ6XLf6feRWMD3P2a6DCMTLGql2UhHGQCV389zU/gLT4NdvPEy6hpUkdrY+Ize6fa3BMYjkMKOGKDocvv2sCVLZIDDhrXb1/Ffmndf1Y2/r1/VW/rXds/CPw11HS/7S0/w94UurDDH7VBZWzxYX7x3hccYOeeMU3SfCnwx163e40PQfCepQo2x5LOztplVsZwSoIBwRxWR4f0y31nxT4y0XxdYxJd3r2l5cWNtMzWzwhdsbB/laQloyH3KoOAMEcm5p0lxb/Gu5/tq3hs7i90jZYLaSeZHPDFLljIxCkSDeuFCkAE/M3YWrXn/lf/gCeib7f5/0yHwX4B8H3Wg3Ml14T0OZ11bUow0mmwsQqX06quSvQKoAHYADtXQf8K48Ef8AQm+H/wDwVwf/ABNHgP8A5F26/wCw1qv/AKcLiukoGc3/AMK48Ef9Cb4f/wDBXB/8TR/wrjwR/wBCb4f/APBXB/8AE10lFAHN/wDCuPBH/Qm+H/8AwVwf/E0f8K48Ef8AQm+H/wDwVwf/ABNdJRQBzf8AwrjwR/0Jvh//AMFcH/xNH/CuPBH/AEJvh/8A8FcH/wATXSUUAc3/AMK48Ef9Cb4f/wDBXB/8TWbqnhv4WaHNBFrWjeD9OkuM+Sl3a2sRlxgHaGAz1HT1rtq4Hw7bQar43+IP9qRRzZmgsSJQG/0f7MrbP90mRzj3NS3a/kr/ANfeM2v+FceCP+hN8P8A/grg/wDiazU8N/CyXW20aPRvB76on3rFbW1M68Z5jxu6c9OlO+GF3dTfBzQ57gu862GFLtksFyEOf90CuK8sJ+zdoepwKG1Fbmzv0lBG9rp7pd7bv7x3uCfQkVo1abj5pfe7E62OzufDfwss9Xh0q80bwfb6jPjyrOW1tVmkycDahG45IPQdqu3HgLwBaRiS78KeG4EZ1jDSadAoLMQqrkr1JIAHcmuKhghv/g78Qru+RWuZrzU5JZGwWDwswi59VEabfTAxVnxtpb6joXgzXtSu71rqPUNKxatNiFJGlTfIVAG5yCRlsgDOAMnMx97l8+X/AMmHLS//AG9/5KddL8PfAkELyzeEfDsccalnd9MgAUDkknbwKSDwB4CureO4tfCXhyaGVQ8ckemwMrqRkEELggjvXMfFjxJpVzDdeEb3WrPTEaxe7vjPdrC8qYPlwR5IJLsvzY/hBH8YqonjPSI/hl4T0OLxFYae2radHDLfveJGttDHGqzFXJA8zJ2KOoYk4+U0lqnby/X/ACB6NJ+f6f5nTyeFvhjDpDarNoXhKPTkOGvGs7YQqd23l8bfvcdevFQ2Gg/CjVLK5vNM0rwbeW1ou65nt7a1kSEYJy7AEKMAnn0rlPBekHxP8G9B0zwrf6aV03V/Nm86RpljSK4eRAVQ5Y/6ttpZcj+IZre1qTXPFFl4k8BXUunSar9jglW8jjkt4JYJXKsCm6RlYBHHDHOR93nD7/h9yf8An9wLpf5/fb+vUuaToXwn16d4dC0rwbqUsa73js7e1mZVzjJCg4Ge9S6Z4Z+F2tTTw6PonhDUJbY4nS1tLWVojkj5goOOh6+lKt9fL4gTwZ4qezvotW06aSKfToJbTaiFUeNlMrkZEgIZXHQjHes7Ubf+yPif4UjuLK30/SoobjTtKeyfezOYlOyUFV8tQsZ2qu/JUElehOqt1/4P6q3n+a1s7/1t+mpej8OfCubWm0eHRvB8mqJndYra2pnXAycx43DjnpUvhzRdK0H4k6/a6Hplnptu+k6dI0VnbrCjMZr0FiFAGcADPsK5ubQ9OmutF8FeDozdNoepxahqerSlWa1dX3sGcAbp5OQQOQCd2BgHsrH/AJKnrv8A2BdN/wDR99Qtr/16/wBdh9bHSUUUUAFFFFABRRRQAUUUUAFFFFAHN+PP+Rdtf+w1pX/pwt66SuW+IttBeeEorW8hjnt5tW0yOWKVAySKb+AFWB4IIOCDUv8AwrjwR/0Jvh//AMFcH/xNAHSUVzf/AArjwR/0Jvh//wAFcH/xNH/CuPBH/Qm+H/8AwVwf/E0AdJRXN/8ACuPBH/Qm+H//AAVwf/E0f8K48Ef9Cb4f/wDBXB/8TQB0lFc3/wAK48Ef9Cb4f/8ABXB/8TR/wrjwR/0Jvh//AMFcH/xNAHSUVzf/AArjwR/0Jvh//wAFcH/xNH/CuPBH/Qm+H/8AwVwf/E0AdJRXN/8ACuPBH/Qm+H//AAVwf/E0f8K48Ef9Cb4f/wDBXB/8TQBdtvD0djFqwsL26tpdUuWunnTy2aFyqr8gZCuMIOGDd6ydL+HtrYWmrWV7rGp6tYawZmvLS9FuEkeXAd8xRIwJAxw2BnpnBqz/AMK48Ef9Cb4f/wDBXB/8TR/wrjwR/wBCb4f/APBXB/8AE0rL8LfIP87/ADItO8CRWl7pk+oa7q2sJpIzYwXzQ7IW27A/7uJGdgpIBct94nrzUvhf/kYvGf8A2Go//TfZ0f8ACuPBH/Qm+H//AAVwf/E1z/hzwD4Pn17xZHP4T0ORLfVo44VfTYSI1+w2rbVBXgbmY4Hdie9VdsD0Siub/wCFceCP+hN8P/8Agrg/+Jo/4Vx4I/6E3w//AOCuD/4mkB0lFc3/AMK48Ef9Cb4f/wDBXB/8TR/wrjwR/wBCb4f/APBXB/8AE0AdJRXN/wDCuPBH/Qm+H/8AwVwf/E0f8K48Ef8AQm+H/wDwVwf/ABNAHSUVzf8AwrjwR/0Jvh//AMFcH/xNH/CuPBH/AEJvh/8A8FcH/wATQB0lFc3/AMK48Ef9Cb4f/wDBXB/8TR/wrjwR/wBCb4f/APBXB/8AE0AdJRXN/wDCuPBH/Qm+H/8AwVwf/E0f8K48Ef8AQm+H/wDwVwf/ABNAHSUVzf8AwrjwR/0Jvh//AMFcH/xNH/CuPBH/AEJvh/8A8FcH/wATQB0lBAZSGGQeCD3rm/8AhXHgj/oTfD//AIK4P/iaQ/DnwOqkt4O8PgDkk6XBx/47QBHaeAdPs5LaGO+v20m0nFxbaO7Rm2hkDblIOzzCFY7grOVBxgYAAiu/h1YXLX8MOq6pZ6ZqcrTX2l20sawXDN/rPmKGRA/8QR1ByfU5yIofgrPcJBBH4CkmkYIkaLZFmYnAAA6nPatyXwF4Aglhjn8KeG45LhykKPp0AMjYLYUFeThScDsCe1H9f1+H4B1/r+u5v29kba5LRXMothEsUdmFQRRbc8rhd2SMDBYjgYA5zWbQbV/FSeIDJN9rSyayCBh5ewuHJxjOcj1/Csm58BeALK1lubzwp4bt7eFC8ksunQKiKBkkkrgAetY9jYfBzU72Kz0218DXl1McRwW8dnI7nrgKOTRu/P8AzC1l5G3aeCIYb61mvtb1jVLeymM9pZ386SRwyZJVtwQSSFckL5jvjr1AI09S0G11TV9I1G4kmWbSZnmgVGAVmeNozuyCSMMehHOK5RdK+ELat/ZS2Hgk6j5vk/YxDaed5mcbNmM7s8YxmrFz4b+Flnq8OlXmjeD7fUZ8eVZy2tqs0mTgbUI3HJB6DtQugPrc09X8H/2ve3Mj6/rVtaXiKl1YQXCeTKo4IG5C8e4cHy2TPXrzTr3wdbS30N7pF/eaHdRWq2Zl08QnfApykZWWN1wpJwQAeSM44rA1DTvg7pN9JZapZ+B7K6ix5kFzFZxumRkZVgCOCDSXNj8G7JYDeWvga3FxEJoTLHZr5sZ6OueqnB5HHFLoH9f1+BvN4Mt4NNsLTRNU1PRRYtIySWUykyl8l/MWVXRyWJbLKSD0IyaafAmmDRYLKOe8S4guvtyaj5ga5+0nIMxLKVLEEggrtwcBQAAMr+wvhP8A2L/bH9l+DP7L3bPt32e18jdnGPMxtznjGasJ4S+GcujHV4/D/hN9MCGQ3q2VsYdg6tvxtwMHnNPz/rv/AMEPItDwBpc1nqMeqXF5qd1qRjNxf3LIs/7ogxbfLVVUIRkAKBnJOcmreleFYtP1htXvtSvdY1Hyfs8dzfCIGGLO4oixRooycEnGTgc4AFZml+EPhrrdn9r0Xw94V1G23FPOtLK2lTcOo3KpGeelSx+Bfh9NdzWsXhbwy9xbhTNCunW5eMN90su3Izg4z1xRsw3RP4D/AORduv8AsNar/wCnC4rpK878F+AfB91oNzJdeE9DmddW1KMNJpsLEKl9Oqrkr0CqAB2AA7V0H/CuPBH/AEJvh/8A8FcH/wATQB0lFc3/AMK48Ef9Cb4f/wDBXB/8TR/wrjwR/wBCb4f/APBXB/8AE0AdJRXN/wDCuPBH/Qm+H/8AwVwf/E0f8K48Ef8AQm+H/wDwVwf/ABNAHSUVzf8AwrjwR/0Jvh//AMFcH/xNH/CuPBH/AEJvh/8A8FcH/wATQB0lc3q/gqDU9Tur601bU9ImvoBBe/2fJGoukAIXdvRirAEgMm1sHrwMH/CuPBH/AEJvh/8A8FcH/wATWbqnhv4WaHNBFrWjeD9OkuM+Sl3a2sRlxgHaGAz1HT1otcNjprLR4dMjsrfTZZLWwsrfyI7GMJ5RUABSSVL5UDjDAcnOawofh3p0NxCn9oai+lW939tg0dpI/sscu4sCPk8wqHJYIXKg44wABZ/4Vx4I/wChN8P/APgrg/8AiazU8N/CyXW20aPRvB76on3rFbW1M68Z5jxu6c9OlO7vfqKytboWtQ+Hun6hcX4/tHUrbTtTlE1/pcEkYt7p+NxbKGRdwUBgjqGxyOTnY1zw/aa9Z2ltdNLFHaXcF3H5BC/PE4dQcg/LkDI9O4rnbnw38LLPV4dKvNG8H2+oz48qzltbVZpMnA2oRuOSD0HajVPDfws0OaCLWtG8H6dJcZ8lLu1tYjLjAO0MBnqOnrSXS39W/wAhvrf+r/5nX39nHqGnXNlMWWO5iaJyhwQGBBx781HpOmw6NotlplqzvDZwJBG0hBYqihQTgAZwPSuX1bwr8MdBt0n1zQfCWmwyNsSS8s7aFWbGcAsACcA8Ut54T+GWnaWup6hoHhO1sGClbueztkiIb7pDkY57c80bX/r+tw7FuPwFpkPhuy0iC4vI/wCz7lruzvFdPOglZmbcMrtP32GGUgg8g0p8CaZcaffw6pPd6lc6h5ZuL+4ZFnJiOYseWqquw8jCjnk5yc018J/DJ9F/tdNA8JtpmwyfbRZ2xh2jgtvxtx75qTTvBnw41ixS90nw34WvrVyQk9rYW8qNg4OGVSDg8UW6B5luLwVZSNdSa7eXevT3Vq9k81+IlK278tGohSNQCRknG7gc8DEdn4HggvbW5vdY1PUmsI2TT1uzDiz3Lt3JsjUs23gM5YgZ9TmOPwL8Pprua1i8LeGXuLcKZoV063Lxhvull25GcHGeuKp6f4c+Fer309npOjeD766t8+dBbWtrI8WDg7lUEjnjnvR5f1/Wr+8Cx4f8AyeGrWC00zxZrgtIZDIYJI7JhKS25t7fZ97FiTk7t3PWrdj/AMlT13/sC6b/AOj76sVdK+ELat/ZS2Hgk6j5vk/YxDaed5mcbNmM7s8YxmrnhzRdK0H4k6/a6Hplnptu+k6dI0VnbrCjMZr0FiFAGcADPsKN0HU7KiiigAooooAKKKKACiiigAooooA5vx5/yLtr/wBhrSv/AE4W9dJXN+PP+Rdtf+w1pX/pwt66SgAooooAKKKKACiiigAooooAK5P4heK4/DOiwQx6hZ6dfapN9ltbm9lWOKAkEtKxYgYRQTgnk7V711lFJq407Hlfw2XwzdaN4t0LSrq31i1XUJH+zW94kklzEYogWJ3DcHYMCSdrEsCetM8Padb/APCXeKtH07S18KnUNIQW+hyKiLIcMrXWIS0QGWVCEYt8uWA4rvF8LwQ2uqxWd/fWkmp3n2x54JFEkUmEHyfLjH7sfKwYHJByDiqtr4Jgiur6+vNY1S/1O8tDZjUJpI45YIuu2MRIiKdx3Z25zjJIAFDSkkn2s/ut+f8AmtRLTbvf8bnLeDtOtfA+taFomreENC07ULy0a3t9Y0p1ka4kjQF1kJhjdSwUt/EDjk11Xhf/AJGLxn/2Go//AE32dPsPCEcGtQatqur6jrd7aoyWj33kqLYNw5VYY0UlhgFmBOBgEZOWeF/+Ri8Z/wDYaj/9N9nVNt6sSVtEdJRRRSGFFFFABRRRQAUUUUAFFFFABRRRQAUUUUAFFFFAHC3UY8V/FtLOfEmm+FoI7loieHvZc+WSO+yMEjPQuDVPxToscPxe8GaxJd3lxPNeXEKRSzfurdPskhKxoAAMkAljljwM4AA7LStAttI1HVr23lmkl1W5FzP5pBCsI1QKuAMLhB1z35pdS0G11TV9I1G4kmWbSZnmgVGAVmeNozuyCSMMehHOKFol/W+/+XoD1v6W/D+n6mnXC6DGPFHxK1nX7kCS20JzpOmKTkJJtBuZMepJVM9cIfWuzW3kW/kuDeTNE8aoLYhPLQgnLAhd2TnByxHAwBzmjoHh+18PabLZWkk00c1zNcu05UszyuXboAMZYgcdMUdb+T+//hrg9rf1b/h7HE6f/wAJD8M/DdlJrVxpV5ZS6iI7mC1t5RKj3NwcyCZnw+Gkzt8teOM8c81ay6rc/DDxLq+s22m3ekx6le3F9Z3CSm4vBFOcssyyL5JVUVUG1seWDkZwPRrPwBYWf2S3/tC/n0qxmWaz0qYxGC3dTuQghBI208gM7AcccDC3PgDT7iW7jjvr630y/mM97pMLR/Z7l2OXLZQyKGwNyo6g88ctkX9fha/3P8PkP+vxv+a/H553j67bWrHQ/DFhK8Y8SzhJ3DbWFmieZPg9csuE/wCB1b8eX03h/wAER6d4d2Wl7fyw6VpoT5VhaQ7Aw9NiBm4/u1tz+H7W48UWWuvJMLiytpbaKIFfL2yFCxIxnPyAdemeKNW0C21jUdJvLqWZW0q5N1CkZAV3MbJ82QSQA5xgjmhpPTo3r6X2+78WwV16paev/D/kc5qPh7wn4N0vQ9Q1GVrax8NoyWUBIZZJZABu2YLPMcHbjnLt61x40m+tf7DOsWK6fbeIvGH299LJUiBPJZo0cDgsXiVyB/EfWvRPEfg6PxFrGmamdY1HT7jTN5txaiBkDOMFyssTjdjgHqAT60tz4RGo6K1hrGtalqEizrcW97J5Ec9rIvKtGYokXIPPzKc5IOQcUJu/M+/6pv5uwmtOVdn+TX6nI6/4ktfBPxO8QalLsS3m0K1lkVpFjSW6M7xRbmPAJGAWPRV54FVPhTdaWvxB8VxW/iGx1i+vYrS6nnt7pZRNJtfzDGAT8illUAfdG0GvQdD8MwaLeXl/Je3ep6jfbBPe3pTzCiDCIBGqoqjJOFUZLEnJNT2eg2tj4i1PWYpJjcakkKTKxGxRECF2jGR945yT+FC0Vv67/wBeiHLX8P0X9epneA/+Rduv+w1qv/pwuK6Sub8B/wDIu3X/AGGtV/8AThcV0lABRRRQAUUUUAFFFFABXA+HbaDVfG/xB/tSKObM0FiRKA3+j/ZlbZ/ukyOce5rvq5vV/BUGp6ndX1pq2p6RNfQCC9/s+SNRdIAQu7ejFWAJAZNrYPXgYmSvdd01/X5fMadjP+GF3dTfBzQ57gu862GFLtksFyEOf90CuK8sJ+zdoepwKG1Fbmzv0lBG9rp7pd7bv7x3uCfQkV6zZaPDpkdlb6bLJa2Flb+RHYxhPKKgAKSSpfKgcYYDk5zWFD8O9OhuIU/tDUX0q3u/tsGjtJH9ljl3FgR8nmFQ5LBC5UHHGAANG71ObzT+53/H9Cdo2/rY46GCG/8Ag78Qru+RWuZrzU5JZGwWDwswi59VEabfTAxWh8P1/t7U/F0+vxLNcTRWdpMs21sQmzRih4+6WkkJHTJNdFqHw90/ULi/H9o6lbadqcomv9LgkjFvdPxuLZQyLuCgMEdQ2ORycz6r4IttQ1G5vLHVdS0aS9gW3vBpzxqtyighc70bawBIDJtbB68DGdvdt5Jellv89vQq+t/Nv73+n5nlnwuuvE+sanaxWs9rE1r4ctUjudRie5VI2klG1Y1dMlwiEvu4EYBBzkdLoT+E4PCek+ItWjGmQ+G7q8torGN2kg+1GVkZokYF2YkN5ajlQ5AHFddN4H0+OSzl0K6utBuLO1Wyjm0/yyWt15WNhKjqQDyCRuHODyc1Lv4b2Er6O9hqupaa2j+a9uYPIk3SSHLysJonBkJLfNwfmbHWrk7u68/zb/J/f+M2/T8rf15HGDw1rFvpVprl9o0yWkvij+2rnQ7ZBJJbwGPYpKKDvcPtlZVyck4yRUsfjW38PeNfGmtS2k1np0lnYywpeJ9l+0XDGSJWZXw0e4qFJcL8qbjxg138vhm6n0r7JceKdbedbhZ4r5GgiljI/hxHEsboecq6MDn2GLOheHoND+1Si6ur+9vHD3V7dsplmIGFBCqqqFHAVVA74ySSvLp/wEv0+/v0fr/Wrf6/118w+HsWk6n4p8b6TH4ng1C71izt5Li80+9R3d2SQStCcthULKo67RtBrZ0yysdZ8aeHo/B1tEmieEVmhk1JAAsrtGY/s0ZA+fBO52Hy5AH3unWXng+0u59enW9vrabXbaO2uJIJFVolRWUGMlTg4Y8nP4VFoXg+bQIrS2t/Euqz6faRiNLCWCzWIoBgKfLt1b34YUdf687fd/WmjTWn9eV/v/ruuZ0//hIfhn4bspNauNKvLKXURHcwWtvKJUe5uDmQTM+Hw0mdvlrxxnjnp7H/AJKnrv8A2BdN/wDR99UNn4AsLP7Jb/2hfz6VYzLNZ6VMYjBbup3IQQgkbaeQGdgOOOBiax/5Knrv/YF03/0ffUdP620/4I+v9b6nSUUUUAFFFFABRRRQAUUUUAFFFFAFbUNNsdXsJLHVbO3vrSXHmW9zEskb4IIyrAg4IB+orE/4Vx4I/wChN8P/APgrg/8Aia6SigDm/wDhXHgj/oTfD/8A4K4P/iaP+FceCP8AoTfD/wD4K4P/AImukooA5v8A4Vx4I/6E3w//AOCuD/4mj/hXHgj/AKE3w/8A+CuD/wCJrpKKAOb/AOFceCP+hN8P/wDgrg/+Jo/4Vx4I/wChN8P/APgrg/8Aia6SigDm/wDhXHgj/oTfD/8A4K4P/iaP+FceCP8AoTfD/wD4K4P/AImukooA5v8A4Vx4I/6E3w//AOCuD/4mj/hXHgj/AKE3w/8A+CuD/wCJrpKKAOb/AOFceCP+hN8P/wDgrg/+Jo/4Vx4I/wChN8P/APgrg/8Aia6SigDm/wDhXHgj/oTfD/8A4K4P/iaP+FceCP8AoTfD/wD4K4P/AImukooA5v8A4Vx4I/6E3w//AOCuD/4mj/hXHgj/AKE3w/8A+CuD/wCJrpKKAOb/AOFceCP+hN8P/wDgrg/+Jo/4Vx4I/wChN8P/APgrg/8Aia6SigDm/wDhXHgj/oTfD/8A4K4P/iaP+FceCP8AoTfD/wD4K4P/AImukooA5v8A4Vx4I/6E3w//AOCuD/4mj/hXHgj/AKE3w/8A+CuD/wCJrpKKAOb/AOFceCP+hN8P/wDgrg/+Jo/4Vx4I/wChN8P/APgrg/8Aia6SigDm/wDhXHgj/oTfD/8A4K4P/iaP+FceCP8AoTfD/wD4K4P/AImukooA5v8A4Vx4I/6E3w//AOCuD/4mj/hXHgj/AKE3w/8A+CuD/wCJrpKKAOb/AOFceCP+hN8P/wDgrg/+Jo/4Vx4I/wChN8P/APgrg/8Aia6SigDm/wDhXHgj/oTfD/8A4K4P/iaP+FceCP8AoTfD/wD4K4P/AImukooA5v8A4Vx4I/6E3w//AOCuD/4mj/hXHgj/AKE3w/8A+CuD/wCJrpKKAOb/AOFceCP+hN8P/wDgrg/+Jo/4Vx4I/wChN8P/APgrg/8Aia6SigDm/wDhXHgj/oTfD/8A4K4P/iaP+FceCP8AoTfD/wD4K4P/AImukooA5v8A4Vx4I/6E3w//AOCuD/4mj/hXHgj/AKE3w/8A+CuD/wCJrpKKAOb/AOFceCP+hN8P/wDgrg/+Jo/4Vx4I/wChN8P/APgrg/8Aia6SigDm/wDhXHgj/oTfD/8A4K4P/iaP+FceCP8AoTfD/wD4K4P/AImukooA5v8A4Vx4I/6E3w//AOCuD/4mj/hXHgj/AKE3w/8A+CuD/wCJrpKKAOb/AOFceCP+hN8P/wDgrg/+Jo/4Vx4I/wChN8P/APgrg/8Aia6SigDm/wDhXHgj/oTfD/8A4K4P/iaP+FceCP8AoTfD/wD4K4P/AImukooA5v8A4Vx4I/6E3w//AOCuD/4mj/hXHgj/AKE3w/8A+CuD/wCJrpKKAOb/AOFceCP+hN8P/wDgrg/+Jo/4Vx4I/wChN8P/APgrg/8Aia6SigDm/wDhXHgj/oTfD/8A4K4P/iaP+FceCP8AoTfD/wD4K4P/AImukooA5v8A4Vx4I/6E3w//AOCuD/4mj/hXHgj/AKE3w/8A+CuD/wCJrpKKAOb/AOFceCP+hN8P/wDgrg/+Jo/4Vx4I/wChN8P/APgrg/8Aia6SigDm/wDhXHgj/oTfD/8A4K4P/iaP+FceCP8AoTfD/wD4K4P/AImukooA5v8A4Vx4I/6E3w//AOCuD/4mtLSPDmh+H/O/sHRtP0zz9vm/YrVIfM25xu2gZxk4z6mtKigAooooAKKKKACiiigAooooAKKKKACiiigAooooAKKKKACiiigAooooAKKKKACiiigAooooAKKKKACiiigAooooAKKKKACiiigAooooAKKKKACiiigAooooAKKKKACiiigAooooAKKKKACiiigAooooAKKKKACiiigAooooAKKKKACiiigAooooAKKKKACiiigAooooAKKKKACiiigAooooAKKKKAP/2Q==)"
      ],
      "metadata": {
        "id": "kBPvFcEA82n4"
      }
    }
  ]
}