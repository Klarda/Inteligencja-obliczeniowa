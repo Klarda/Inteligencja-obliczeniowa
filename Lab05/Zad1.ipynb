{
  "nbformat": 4,
  "nbformat_minor": 0,
  "metadata": {
    "colab": {
      "name": "Zad1.ipynb",
      "provenance": []
    },
    "kernelspec": {
      "name": "python3",
      "display_name": "Python 3"
    },
    "language_info": {
      "name": "python"
    }
  },
  "cells": [
    {
      "cell_type": "markdown",
      "source": [
        "# Zadanie 1\n",
        "Użyjemy paczki pyswarms, by uruchomić algorytm Particle Swarm Optimizer do\n",
        "wyszukania maksimum funkcji Endurance, z problemu inżynieryjnego.\n",
        "\n",
        "a) Rzucimy okiem na tutorial o podstawowej optymalizacji:\n",
        "https://pyswarms.readthedocs.io/en/latest/examples/tutorials/basic_optimization.html#Optimizing-a-function\n",
        "\n",
        "i wykorzystajmy ją na początek do minimalizacji funkcji Sphere, tak jak robiliśmy\n",
        "to na poprzednich zajęciach:"
      ],
      "metadata": {
        "id": "dyd-mHocrnH9"
      }
    },
    {
      "cell_type": "code",
      "execution_count": 1,
      "metadata": {
        "colab": {
          "base_uri": "https://localhost:8080/"
        },
        "id": "37yn_O9Drk2E",
        "outputId": "437a764a-cb74-4ca4-8440-4416d0e6c5a7"
      },
      "outputs": [
        {
          "output_type": "stream",
          "name": "stdout",
          "text": [
            "Collecting pyswarms\n",
            "  Downloading pyswarms-1.3.0-py2.py3-none-any.whl (104 kB)\n",
            "\u001b[K     |████████████████████████████████| 104 kB 5.6 MB/s \n",
            "\u001b[?25hRequirement already satisfied: future in /usr/local/lib/python3.7/dist-packages (from pyswarms) (0.16.0)\n",
            "Requirement already satisfied: matplotlib>=1.3.1 in /usr/local/lib/python3.7/dist-packages (from pyswarms) (3.2.2)\n",
            "Requirement already satisfied: tqdm in /usr/local/lib/python3.7/dist-packages (from pyswarms) (4.63.0)\n",
            "Requirement already satisfied: numpy in /usr/local/lib/python3.7/dist-packages (from pyswarms) (1.21.5)\n",
            "Requirement already satisfied: scipy in /usr/local/lib/python3.7/dist-packages (from pyswarms) (1.4.1)\n",
            "Requirement already satisfied: pyyaml in /usr/local/lib/python3.7/dist-packages (from pyswarms) (3.13)\n",
            "Requirement already satisfied: attrs in /usr/local/lib/python3.7/dist-packages (from pyswarms) (21.4.0)\n",
            "Requirement already satisfied: cycler>=0.10 in /usr/local/lib/python3.7/dist-packages (from matplotlib>=1.3.1->pyswarms) (0.11.0)\n",
            "Requirement already satisfied: kiwisolver>=1.0.1 in /usr/local/lib/python3.7/dist-packages (from matplotlib>=1.3.1->pyswarms) (1.4.0)\n",
            "Requirement already satisfied: python-dateutil>=2.1 in /usr/local/lib/python3.7/dist-packages (from matplotlib>=1.3.1->pyswarms) (2.8.2)\n",
            "Requirement already satisfied: pyparsing!=2.0.4,!=2.1.2,!=2.1.6,>=2.0.1 in /usr/local/lib/python3.7/dist-packages (from matplotlib>=1.3.1->pyswarms) (3.0.7)\n",
            "Requirement already satisfied: typing-extensions in /usr/local/lib/python3.7/dist-packages (from kiwisolver>=1.0.1->matplotlib>=1.3.1->pyswarms) (3.10.0.2)\n",
            "Requirement already satisfied: six>=1.5 in /usr/local/lib/python3.7/dist-packages (from python-dateutil>=2.1->matplotlib>=1.3.1->pyswarms) (1.15.0)\n",
            "Installing collected packages: pyswarms\n",
            "Successfully installed pyswarms-1.3.0\n"
          ]
        }
      ],
      "source": [
        "pip install pyswarms"
      ]
    },
    {
      "cell_type": "code",
      "source": [
        "import pyswarms as ps\n",
        "from pyswarms.utils.functions import single_obj as fx\n",
        "options = {'c1': 0.5, 'c2': 0.3, 'w':0.9}\n",
        "optimizer = ps.single.GlobalBestPSO(n_particles=10, dimensions=2,\n",
        "options=options)\n",
        "optimizer.optimize(fx.sphere, iters=1000)"
      ],
      "metadata": {
        "colab": {
          "base_uri": "https://localhost:8080/"
        },
        "id": "yBpM5wnRr41n",
        "outputId": "50cb6491-3714-4bcd-fc10-6dc9bcd617f5"
      },
      "execution_count": 2,
      "outputs": [
        {
          "output_type": "stream",
          "name": "stderr",
          "text": [
            "2022-04-05 18:42:32,240 - pyswarms.single.global_best - INFO - Optimize for 1000 iters with {'c1': 0.5, 'c2': 0.3, 'w': 0.9}\n",
            "pyswarms.single.global_best: 100%|██████████|1000/1000, best_cost=2.25e-44\n",
            "2022-04-05 18:42:34,516 - pyswarms.single.global_best - INFO - Optimization finished | best cost: 2.2462093876216813e-44, best pos: [-1.48034196e-22  2.34087767e-23]\n"
          ]
        },
        {
          "output_type": "execute_result",
          "data": {
            "text/plain": [
              "(2.2462093876216813e-44, array([-1.48034196e-22,  2.34087767e-23]))"
            ]
          },
          "metadata": {},
          "execution_count": 2
        }
      ]
    },
    {
      "cell_type": "markdown",
      "source": [
        "b) Spróbujmy teraz dodać ograniczenia dla dziedziny (obszaru), w którym szukamy\n",
        "minimum. Trzeba ustalić ograniczenie górne i dolne dla wszystkich zmiennych,\n",
        "weźmy minimum 1, maksimum 2 – dla wszystkich zmiennych."
      ],
      "metadata": {
        "id": "BSaHKf7BsVYD"
      }
    },
    {
      "cell_type": "code",
      "source": [
        "x_max = [2, 2]\n",
        "x_min = [1, 1]\n",
        "my_bounds = (x_min, x_max)"
      ],
      "metadata": {
        "id": "HaR-PozHsUSS"
      },
      "execution_count": 3,
      "outputs": []
    },
    {
      "cell_type": "markdown",
      "source": [
        "I oczywiście ograniczenia trzeba przekazać jako parametr do optimizera poprzez\n",
        "argument:"
      ],
      "metadata": {
        "id": "buyYdFsCsu5G"
      }
    },
    {
      "cell_type": "code",
      "source": [
        "bounds=my_bounds"
      ],
      "metadata": {
        "id": "aaSo7HQUsjgu"
      },
      "execution_count": 4,
      "outputs": []
    },
    {
      "cell_type": "code",
      "source": [
        "optimizer = ps.single.GlobalBestPSO(n_particles=10, dimensions=2, options=options, bounds=bounds)\n",
        "optimizer.optimize(fx.sphere, iters=1000)"
      ],
      "metadata": {
        "colab": {
          "base_uri": "https://localhost:8080/"
        },
        "id": "d8X5TyPrspBf",
        "outputId": "415128ba-f3f0-40a6-c118-d8c5ce7837bb"
      },
      "execution_count": 5,
      "outputs": [
        {
          "output_type": "stream",
          "name": "stderr",
          "text": [
            "2022-04-05 18:42:35,979 - pyswarms.single.global_best - INFO - Optimize for 1000 iters with {'c1': 0.5, 'c2': 0.3, 'w': 0.9}\n",
            "pyswarms.single.global_best: 100%|██████████|1000/1000, best_cost=2.03\n",
            "2022-04-05 18:42:39,085 - pyswarms.single.global_best - INFO - Optimization finished | best cost: 2.0288300189423083, best pos: [1.01395639 1.00036116]\n"
          ]
        },
        {
          "output_type": "execute_result",
          "data": {
            "text/plain": [
              "(2.0288300189423083, array([1.01395639, 1.00036116]))"
            ]
          },
          "metadata": {},
          "execution_count": 5
        }
      ]
    },
    {
      "cell_type": "markdown",
      "source": [
        "c) Zmieńmy teraz ten kod tak, by rozwiązywał problem inżynieryjny. Po pierwsze\n",
        "trzeba zmienić limity: min 0, max 1 dla wszystkich sześciu zmiennych.\n",
        "Oczywiście dimensions trzeba ustawić na 6.\n",
        "Uwaga, zamiast wypisywać długie wektory limitów ręcznie, można użyć numpy:\n",
        "np.zeros(6), np.ones(6)."
      ],
      "metadata": {
        "id": "_TZaZp4JtY1y"
      }
    },
    {
      "cell_type": "code",
      "source": [
        "import numpy as np\n",
        "x_max = np.ones(6)\n",
        "x_min = np.zeros(6)\n",
        "my_bounds = (x_min, x_max)\n",
        "bounds=my_bounds"
      ],
      "metadata": {
        "id": "SD-jD8ljtK1o"
      },
      "execution_count": 6,
      "outputs": []
    },
    {
      "cell_type": "code",
      "source": [
        "optimizer = ps.single.GlobalBestPSO(n_particles=10, dimensions=6, options=options, bounds=bounds)\n",
        "optimizer.optimize(fx.sphere, iters=1000)"
      ],
      "metadata": {
        "colab": {
          "base_uri": "https://localhost:8080/"
        },
        "id": "K_axe_iMt46a",
        "outputId": "52c9cd62-fb81-4e4f-9273-b8e40afd0f4a"
      },
      "execution_count": 7,
      "outputs": [
        {
          "output_type": "stream",
          "name": "stderr",
          "text": [
            "2022-04-05 18:42:39,144 - pyswarms.single.global_best - INFO - Optimize for 1000 iters with {'c1': 0.5, 'c2': 0.3, 'w': 0.9}\n",
            "pyswarms.single.global_best: 100%|██████████|1000/1000, best_cost=0.333\n",
            "2022-04-05 18:42:42,092 - pyswarms.single.global_best - INFO - Optimization finished | best cost: 0.3326069037510859, best pos: [0.12435895 0.05346494 0.00797154 0.16621099 0.12374559 0.52084609]\n"
          ]
        },
        {
          "output_type": "execute_result",
          "data": {
            "text/plain": [
              "(0.3326069037510859,\n",
              " array([0.12435895, 0.05346494, 0.00797154, 0.16621099, 0.12374559,\n",
              "        0.52084609]))"
            ]
          },
          "metadata": {},
          "execution_count": 7
        }
      ]
    },
    {
      "cell_type": "markdown",
      "source": [
        "d) Teraz najciekawsza część, czyli zmiana funkcji fx.sphere na endurance. Pojawia\n",
        "się tu mały problem: funkcja endurance dostaje jeden punkt z 6 współrzędnymi\n",
        "i zwraca jedną wartość liczbową. Natomiast optimizer potrzebuje funkcji która\n",
        "dostaje cały rój punktów z sześcioma zmiennymi i zwraca tablicę wartości\n",
        "funkcji dla całego roju.\n",
        "Musimy więc napisać funkcję do optymalizacji, która wywołuje funkcję\n",
        "endurance dla wszystkich cząstek. Warto zajrzeć do tutoriala, gdzie to zrobiono\n",
        "na innym przykładzie:\n",
        "https://pyswarms.readthedocs.io/en/latest/examples/usecases/train_neural_network.html#Constructing-a-custom-objective-function\n",
        "W tutorialu chcemy optymalizować funkcję forward_prop, ale musimy\n",
        "dodatkowo napisać funkcję f dla całego roju, która przebiega pętlą po całym\n",
        "roju. Wykorzystaj ten pomysł i:\n",
        "\n",
        "  • Popraw funkcję endurance, by pobierała tablicę sześciu argumentów, a\n",
        "nie sześć oddzielnych argumentów\n",
        "\n",
        "  • Dopisz funkcję f, która przebiegnie po całym roju uruchamiając dla każdej\n",
        "cząstki endurance.\n",
        "\n",
        "  • Wrzuć f do optymalizatora."
      ],
      "metadata": {
        "id": "xJRsbLOWuB6Y"
      }
    },
    {
      "cell_type": "code",
      "source": [
        "import math\n",
        "\n",
        "def endurance(x):\n",
        "  return (math.exp(-2*(x[1]-math.sin(x[0]))**2)+math.sin(x[2]*x[3])+math.cos(x[4]*x[5]))"
      ],
      "metadata": {
        "id": "dhDWOxQTDm5B"
      },
      "execution_count": 13,
      "outputs": []
    },
    {
      "cell_type": "markdown",
      "source": [
        "e) Powyższy wynik jest oczywiście zły, bo funkcja szuka minimum zamiast\n",
        "maximum. Czy można to zmienić w prosty sposób w optimizerze? Ja niestety nie\n",
        "znalazłem takiej opcji Trzeba więc zrobić sztuczkę, taką jak przy algorytmie\n",
        "genetycznym i dopisać minus do funkcji endurance."
      ],
      "metadata": {
        "id": "VrIM4htbDllV"
      }
    },
    {
      "cell_type": "code",
      "source": [
        "import math\n",
        "\n",
        "def endurance(x):\n",
        "  return -(math.exp(-2*(x[1]-math.sin(x[0]))**2)+math.sin(x[2]*x[3])+math.cos(x[4]*x[5]))"
      ],
      "metadata": {
        "id": "Z5grHUz7t75Y"
      },
      "execution_count": 14,
      "outputs": []
    },
    {
      "cell_type": "code",
      "source": [
        "def f(x):\n",
        "  n_particles=x.shape[0]\n",
        "  j=[endurance(x[i])for i in range(n_particles)]\n",
        "  return np.array(j)"
      ],
      "metadata": {
        "id": "BBGr51rFCTrn"
      },
      "execution_count": 15,
      "outputs": []
    },
    {
      "cell_type": "code",
      "source": [
        "optimizer = ps.single.GlobalBestPSO(n_particles=10, dimensions=6, options=options, bounds=bounds)\n",
        "optimizer.optimize(f, iters=1000)"
      ],
      "metadata": {
        "colab": {
          "base_uri": "https://localhost:8080/"
        },
        "id": "kYjssOKnCpS0",
        "outputId": "d80a6bb8-a7e7-49dd-e16a-267664283f95"
      },
      "execution_count": 16,
      "outputs": [
        {
          "output_type": "stream",
          "name": "stderr",
          "text": [
            "2022-04-05 18:48:45,121 - pyswarms.single.global_best - INFO - Optimize for 1000 iters with {'c1': 0.5, 'c2': 0.3, 'w': 0.9}\n",
            "pyswarms.single.global_best: 100%|██████████|1000/1000, best_cost=-2.82\n",
            "2022-04-05 18:48:47,512 - pyswarms.single.global_best - INFO - Optimization finished | best cost: -2.8248728823098324, best pos: [0.67305394 0.6023122  0.99664311 0.97771091 0.14843429 0.3836829 ]\n"
          ]
        },
        {
          "output_type": "execute_result",
          "data": {
            "text/plain": [
              "(-2.8248728823098324,\n",
              " array([0.67305394, 0.6023122 , 0.99664311, 0.97771091, 0.14843429,\n",
              "        0.3836829 ]))"
            ]
          },
          "metadata": {},
          "execution_count": 16
        }
      ]
    },
    {
      "cell_type": "markdown",
      "source": [
        "Wyświetlmy jeszcze wykres kosztu zgodnie ze wskazówkami z:\n",
        "https://pyswarms.readthedocs.io/en/latest/api/pyswarms.utils.plotters.html"
      ],
      "metadata": {
        "id": "t1hzloR6DvDG"
      }
    },
    {
      "cell_type": "code",
      "source": [
        "from pyswarms.utils.plotters import plot_cost_history\n",
        "cost_history = optimizer.cost_history\n",
        "plot_cost_history(cost_history)\n",
        "plt.show()"
      ],
      "metadata": {
        "colab": {
          "base_uri": "https://localhost:8080/",
          "height": 703
        },
        "id": "l7t3zGZ-C76o",
        "outputId": "646182a2-a69c-4229-ed55-1d24d83ab0e8"
      },
      "execution_count": 17,
      "outputs": [
        {
          "output_type": "error",
          "ename": "NameError",
          "evalue": "ignored",
          "traceback": [
            "\u001b[0;31m---------------------------------------------------------------------------\u001b[0m",
            "\u001b[0;31mNameError\u001b[0m                                 Traceback (most recent call last)",
            "\u001b[0;32m<ipython-input-17-b9e65c766a61>\u001b[0m in \u001b[0;36m<module>\u001b[0;34m()\u001b[0m\n\u001b[1;32m      2\u001b[0m \u001b[0mcost_history\u001b[0m \u001b[0;34m=\u001b[0m \u001b[0moptimizer\u001b[0m\u001b[0;34m.\u001b[0m\u001b[0mcost_history\u001b[0m\u001b[0;34m\u001b[0m\u001b[0;34m\u001b[0m\u001b[0m\n\u001b[1;32m      3\u001b[0m \u001b[0mplot_cost_history\u001b[0m\u001b[0;34m(\u001b[0m\u001b[0mcost_history\u001b[0m\u001b[0;34m)\u001b[0m\u001b[0;34m\u001b[0m\u001b[0;34m\u001b[0m\u001b[0m\n\u001b[0;32m----> 4\u001b[0;31m \u001b[0mplt\u001b[0m\u001b[0;34m.\u001b[0m\u001b[0mshow\u001b[0m\u001b[0;34m(\u001b[0m\u001b[0;34m)\u001b[0m\u001b[0;34m\u001b[0m\u001b[0;34m\u001b[0m\u001b[0m\n\u001b[0m",
            "\u001b[0;31mNameError\u001b[0m: name 'plt' is not defined"
          ]
        },
        {
          "output_type": "display_data",
          "data": {
            "text/plain": [
              "<Figure size 720x576 with 1 Axes>"
            ],
            "image/png": "[encoded data removed]"
          },
          "metadata": {
            "needs_background": "light"
          }
        }
      ]
    },
    {
      "cell_type": "code",
      "source": [
        ""
      ],
      "metadata": {
        "id": "DteyETetDLfm"
      },
      "execution_count": null,
      "outputs": []
    }
  ]
}