{
  "nbformat": 4,
  "nbformat_minor": 0,
  "metadata": {
    "colab": {
      "name": "Zad2.ipynb",
      "provenance": []
    },
    "kernelspec": {
      "name": "python3",
      "display_name": "Python 3"
    },
    "language_info": {
      "name": "python"
    }
  },
  "cells": [
    {
      "cell_type": "markdown",
      "source": [
        "# Zadanie 2\n",
        "W zadaniu tym wykorzystamy wersję binarną PSO, który zamiast poruszać cząstkami\n",
        "płynnie po ciągłej przestrzeni zmiennoprzecinkowej, będzie powodował skoki cząstek\n",
        "na pozycje 0 lub 1 na współrzędnych. Innymi słowy, cząstki mogą być tylko na dwóch\n",
        "współrzędnych: 0 i 1, na wszystkich możliwych osiach. Trudność tego problemu jest\n",
        "„odwrócona” w stosunku do poprzedniej wersji:\n",
        "*  Przestrzeń liczb rzeczywistych: mniej osi/wymiarów, nieskończenie wiele\n",
        "współrzędnych\n",
        "* Przestrzeń dwubitowa {0,1}: dużo osi/wymiarów, tylko dwie możliwe wartości"
      ],
      "metadata": {
        "id": "GOphmA3-Eezi"
      }
    },
    {
      "cell_type": "markdown",
      "source": [
        "a) Skopiuj tablicę S z 15 liczbami z partition problem do Pythona. Skopiuj też\n",
        "funkcję fitness z algorytmu genetycznego, którą będziemy chcieli minimalizować\n",
        "(tym razem nie przez ewolucję, tylko przez rój cząstek).\n",
        "Uwaga: ponieważ minimalizujemy funkcję fitness (w genetycznym\n",
        "maksymalizowaliśmy), to usuń w niej minus przed numpy.abs. Usuń też\n",
        "niepotrzebne solution_idx z argumentów."
      ],
      "metadata": {
        "id": "MCyj_6UZFpXR"
      }
    },
    {
      "cell_type": "code",
      "execution_count": 1,
      "metadata": {
        "id": "DlkTKOTXEY1L"
      },
      "outputs": [],
      "source": [
        "import numpy\n",
        "\n",
        "S = [1, 2, 3, 6, 10, 17, 25, 29, 30, 41, 51, 60, 70, 79, 80]\n",
        "\n",
        "def fitness_func(solution):\n",
        " sum1 = numpy.sum(solution * S)\n",
        " solution_invert = 1 - solution\n",
        " sum2 = numpy.sum(solution_invert * S)\n",
        " fitness = numpy.abs(sum1-sum2)\n",
        " return fitness\n",
        "fitness_function = fitness_func"
      ]
    },
    {
      "cell_type": "markdown",
      "source": [
        "b) Ustaw opcje do przekazania:"
      ],
      "metadata": {
        "id": "u7fVqxSEGOha"
      }
    },
    {
      "cell_type": "code",
      "source": [
        "options = {'c1': 0.5, 'c2': 0.3, 'w':0.9, 'k':2, 'p':1}"
      ],
      "metadata": {
        "id": "m7ZqQtTbGGo5"
      },
      "execution_count": 2,
      "outputs": []
    },
    {
      "cell_type": "markdown",
      "source": [
        "k – oznaczający wielkość\n",
        "sąsiedztwa, \n",
        "\n",
        "p – oznaczający metrykę odległości do szukania sąsiadów.\n",
        "Wykorzystywane jest tutaj podejście geograficzne sąsiedztwa"
      ],
      "metadata": {
        "id": "btMV8CshGUZs"
      }
    },
    {
      "cell_type": "markdown",
      "source": [
        "c) Inicjujemy optymalizator BinaryPSO z odpowiednimi argumentami.\n",
        "Uruchamiamy go dla funkcji f i zwracamy wyniki."
      ],
      "metadata": {
        "id": "CIFlVPFZGdqG"
      }
    },
    {
      "cell_type": "code",
      "source": [
        "pip install pyswarms"
      ],
      "metadata": {
        "colab": {
          "base_uri": "https://localhost:8080/"
        },
        "id": "hXgXsV17GsPx",
        "outputId": "6395c0bc-9c92-4309-9e81-9d2453667b90"
      },
      "execution_count": 4,
      "outputs": [
        {
          "output_type": "stream",
          "name": "stdout",
          "text": [
            "Collecting pyswarms\n",
            "  Downloading pyswarms-1.3.0-py2.py3-none-any.whl (104 kB)\n",
            "\u001b[?25l\r\u001b[K     |███▏                            | 10 kB 12.1 MB/s eta 0:00:01\r\u001b[K     |██████▎                         | 20 kB 16.2 MB/s eta 0:00:01\r\u001b[K     |█████████▍                      | 30 kB 10.9 MB/s eta 0:00:01\r\u001b[K     |████████████▋                   | 40 kB 9.1 MB/s eta 0:00:01\r\u001b[K     |███████████████▊                | 51 kB 4.7 MB/s eta 0:00:01\r\u001b[K     |██████████████████▉             | 61 kB 5.5 MB/s eta 0:00:01\r\u001b[K     |██████████████████████          | 71 kB 5.5 MB/s eta 0:00:01\r\u001b[K     |█████████████████████████▏      | 81 kB 5.4 MB/s eta 0:00:01\r\u001b[K     |████████████████████████████▎   | 92 kB 5.9 MB/s eta 0:00:01\r\u001b[K     |███████████████████████████████▌| 102 kB 5.3 MB/s eta 0:00:01\r\u001b[K     |████████████████████████████████| 104 kB 5.3 MB/s \n",
            "\u001b[?25hRequirement already satisfied: pyyaml in /usr/local/lib/python3.7/dist-packages (from pyswarms) (3.13)\n",
            "Requirement already satisfied: scipy in /usr/local/lib/python3.7/dist-packages (from pyswarms) (1.4.1)\n",
            "Requirement already satisfied: future in /usr/local/lib/python3.7/dist-packages (from pyswarms) (0.16.0)\n",
            "Requirement already satisfied: tqdm in /usr/local/lib/python3.7/dist-packages (from pyswarms) (4.63.0)\n",
            "Requirement already satisfied: numpy in /usr/local/lib/python3.7/dist-packages (from pyswarms) (1.21.5)\n",
            "Requirement already satisfied: matplotlib>=1.3.1 in /usr/local/lib/python3.7/dist-packages (from pyswarms) (3.2.2)\n",
            "Requirement already satisfied: attrs in /usr/local/lib/python3.7/dist-packages (from pyswarms) (21.4.0)\n",
            "Requirement already satisfied: cycler>=0.10 in /usr/local/lib/python3.7/dist-packages (from matplotlib>=1.3.1->pyswarms) (0.11.0)\n",
            "Requirement already satisfied: pyparsing!=2.0.4,!=2.1.2,!=2.1.6,>=2.0.1 in /usr/local/lib/python3.7/dist-packages (from matplotlib>=1.3.1->pyswarms) (3.0.7)\n",
            "Requirement already satisfied: python-dateutil>=2.1 in /usr/local/lib/python3.7/dist-packages (from matplotlib>=1.3.1->pyswarms) (2.8.2)\n",
            "Requirement already satisfied: kiwisolver>=1.0.1 in /usr/local/lib/python3.7/dist-packages (from matplotlib>=1.3.1->pyswarms) (1.4.0)\n",
            "Requirement already satisfied: typing-extensions in /usr/local/lib/python3.7/dist-packages (from kiwisolver>=1.0.1->matplotlib>=1.3.1->pyswarms) (3.10.0.2)\n",
            "Requirement already satisfied: six>=1.5 in /usr/local/lib/python3.7/dist-packages (from python-dateutil>=2.1->matplotlib>=1.3.1->pyswarms) (1.15.0)\n",
            "Installing collected packages: pyswarms\n",
            "Successfully installed pyswarms-1.3.0\n"
          ]
        }
      ]
    },
    {
      "cell_type": "code",
      "source": [
        "import pyswarms as ps\n",
        "from pyswarms.utils.plotters import plot_cost_history\n",
        "import numpy as np"
      ],
      "metadata": {
        "id": "9a_tcWeoGu7r"
      },
      "execution_count": 9,
      "outputs": []
    },
    {
      "cell_type": "code",
      "source": [
        "import math\n",
        "\n",
        "def endurance(x):\n",
        "  return -(math.exp(-2*(x[1]-math.sin(x[0]))**2)+math.sin(x[2]*x[3])+math.cos(x[4]*x[5]))\n",
        "\n",
        "def f(x):\n",
        "  n_particles=x.shape[0]\n",
        "  j=[endurance(x[i])for i in range(n_particles)]\n",
        "  return np.array(j)"
      ],
      "metadata": {
        "id": "ra4n-8kBG7tE"
      },
      "execution_count": 10,
      "outputs": []
    },
    {
      "cell_type": "code",
      "source": [
        "optimizer = ps.discrete.BinaryPSO(n_particles=10, dimensions=15,\n",
        "options=options)\n",
        "optimizer.optimize(f, iters=30, verbose=True)\n",
        "cost_history = optimizer.cost_history\n",
        "plot_cost_history(cost_history)\n",
        "plt.show()"
      ],
      "metadata": {
        "colab": {
          "base_uri": "https://localhost:8080/",
          "height": 758
        },
        "id": "YB2eIIJ-GTuG",
        "outputId": "62b9f788-13a6-4d26-8d5d-31cb8a24542f"
      },
      "execution_count": 11,
      "outputs": [
        {
          "output_type": "stream",
          "name": "stderr",
          "text": [
            "2022-04-05 19:03:50,800 - pyswarms.discrete.binary - INFO - Optimize for 30 iters with {'c1': 0.5, 'c2': 0.3, 'w': 0.9, 'k': 2, 'p': 1}\n",
            "pyswarms.discrete.binary: 100%|██████████|30/30, best_cost=-2.84\n",
            "2022-04-05 19:03:50,913 - pyswarms.discrete.binary - INFO - Optimization finished | best cost: -2.8414709848078967, best pos: [0 0 1 1 1 0 0 1 0 1 1 1 0 1 1]\n"
          ]
        },
        {
          "output_type": "error",
          "ename": "NameError",
          "evalue": "ignored",
          "traceback": [
            "\u001b[0;31m---------------------------------------------------------------------------\u001b[0m",
            "\u001b[0;31mNameError\u001b[0m                                 Traceback (most recent call last)",
            "\u001b[0;32m<ipython-input-11-fff2ce18c3e8>\u001b[0m in \u001b[0;36m<module>\u001b[0;34m()\u001b[0m\n\u001b[1;32m      4\u001b[0m \u001b[0mcost_history\u001b[0m \u001b[0;34m=\u001b[0m \u001b[0moptimizer\u001b[0m\u001b[0;34m.\u001b[0m\u001b[0mcost_history\u001b[0m\u001b[0;34m\u001b[0m\u001b[0;34m\u001b[0m\u001b[0m\n\u001b[1;32m      5\u001b[0m \u001b[0mplot_cost_history\u001b[0m\u001b[0;34m(\u001b[0m\u001b[0mcost_history\u001b[0m\u001b[0;34m)\u001b[0m\u001b[0;34m\u001b[0m\u001b[0;34m\u001b[0m\u001b[0m\n\u001b[0;32m----> 6\u001b[0;31m \u001b[0mplt\u001b[0m\u001b[0;34m.\u001b[0m\u001b[0mshow\u001b[0m\u001b[0;34m(\u001b[0m\u001b[0;34m)\u001b[0m\u001b[0;34m\u001b[0m\u001b[0;34m\u001b[0m\u001b[0m\n\u001b[0m",
            "\u001b[0;31mNameError\u001b[0m: name 'plt' is not defined"
          ]
        },
        {
          "output_type": "display_data",
          "data": {
            "text/plain": [
              "<Figure size 720x576 with 1 Axes>"
            ],
            "image/png": "[encoded data removed]"
          },
          "metadata": {
            "needs_background": "light"
          }
        }
      ]
    },
    {
      "cell_type": "code",
      "source": [
        ""
      ],
      "metadata": {
        "id": "PavOKIaaGlL0"
      },
      "execution_count": null,
      "outputs": []
    }
  ]
}
