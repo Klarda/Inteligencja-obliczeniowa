{
  "metadata": {
    "language_info": {
      "codemirror_mode": {
        "name": "python",
        "version": 3
      },
      "file_extension": ".py",
      "mimetype": "text/x-python",
      "name": "python",
      "nbconvert_exporter": "python",
      "pygments_lexer": "ipython3",
      "version": "3.8"
    },
    "kernelspec": {
      "name": "python",
      "display_name": "Pyolite",
      "language": "python"
    }
  },
  "nbformat_minor": 4,
  "nbformat": 4,
  "cells": [
    {
      "cell_type": "markdown",
      "source": "# Zadanie 2",
      "metadata": {}
    },
    {
      "cell_type": "markdown",
      "source": "W tym zadaniu wykonamy kilka komend matematyczno-statystycznych:\n\na) Wczytaj dwa wektory z liczbami [3, 8, 9, 10, 12] oraz [8, 7, 7, 5, 6] (jako pythonowe listy).\nNastępnie zwróć sumę tych wektorów oraz iloczyn (po współrzędnych) tych wektorów.",
      "metadata": {}
    },
    {
      "cell_type": "markdown",
      "source": "Suma wektorów",
      "metadata": {}
    },
    {
      "cell_type": "code",
      "source": "l1=[]\nl2=[]\n\ndef suma_wektorow(l1,l2):\n    suma=[]\n    if len(l1)==len(l2):\n        for i in range(len(l1)):\n            suma.append(l1[i]+l2[i])\n    return suma",
      "metadata": {
        "trusted": true
      },
      "execution_count": 1,
      "outputs": []
    },
    {
      "cell_type": "code",
      "source": "l1=[3, 8, 9, 10, 12]\nl2=[8, 7, 7, 5, 6]\nsuma_wektorow(l1,l2)",
      "metadata": {
        "trusted": true
      },
      "execution_count": 2,
      "outputs": [
        {
          "execution_count": 2,
          "output_type": "execute_result",
          "data": {
            "text/plain": "[11, 15, 16, 15, 18]"
          },
          "metadata": {}
        }
      ]
    },
    {
      "cell_type": "markdown",
      "source": "Iloczyn wektorowy",
      "metadata": {}
    },
    {
      "cell_type": "code",
      "source": "l1=[]\nl2=[]\n\ndef iloczyn_wektorow(l1,l2):\n    iloczyn=[]\n    if len(l1)==len(l2):\n        for i in range(len(l1)):\n            if i < len(l1)-1:\n                iloczyn.append(l1[i]*l2[i+1]-l1[i+1]*l2[i])\n    return iloczyn",
      "metadata": {
        "trusted": true
      },
      "execution_count": 3,
      "outputs": []
    },
    {
      "cell_type": "code",
      "source": "l1=[3, 8, 9, 10, 12]\nl2=[8, 7, 7, 5, 6]\niloczyn_wektorow(l1,l2)",
      "metadata": {
        "trusted": true
      },
      "execution_count": 4,
      "outputs": [
        {
          "execution_count": 4,
          "output_type": "execute_result",
          "data": {
            "text/plain": "[-43, -7, -25, 0]"
          },
          "metadata": {}
        }
      ]
    },
    {
      "cell_type": "markdown",
      "source": "b) Dla powyższych wektorów podaj iloczyn skalarny.",
      "metadata": {}
    },
    {
      "cell_type": "code",
      "source": "l1=[]\nl2=[]\n\ndef iloczyn_skalarny(l1,l2):\n    x=0\n    if len(l1)==len(l2):\n        for i in range(len(l1)):\n            x=x+(l1[i]*l2[i])\n    return x",
      "metadata": {
        "trusted": true
      },
      "execution_count": 5,
      "outputs": []
    },
    {
      "cell_type": "code",
      "source": "l1=[3, 8, 9, 10, 12]\nl2=[8, 7, 7, 5, 6]\niloczyn_skalarny(l1,l2)",
      "metadata": {
        "trusted": true
      },
      "execution_count": 6,
      "outputs": [
        {
          "execution_count": 6,
          "output_type": "execute_result",
          "data": {
            "text/plain": "265"
          },
          "metadata": {}
        }
      ]
    },
    {
      "cell_type": "markdown",
      "source": "c) Dla powyższych wektorów podaj ich długości euklidesowe (długość wektora jako strzałki w \nprzestrzeni).",
      "metadata": {}
    },
    {
      "cell_type": "code",
      "source": "import math\n\nl1=[]\n\ndef dlugosc_euklidesowa(l1):\n    x=0\n    for i in range(len(l1)):\n            x=x+(l1[i]*l1[i])\n    return math.sqrt(x)",
      "metadata": {
        "trusted": true
      },
      "execution_count": 7,
      "outputs": []
    },
    {
      "cell_type": "code",
      "source": "l1=[3, 8, 9, 10, 12]\ndlugosc_euklidesowa(l1)",
      "metadata": {
        "trusted": true
      },
      "execution_count": 8,
      "outputs": [
        {
          "execution_count": 8,
          "output_type": "execute_result",
          "data": {
            "text/plain": "19.949937343260004"
          },
          "metadata": {}
        }
      ]
    },
    {
      "cell_type": "markdown",
      "source": "d) Stwórz wektor 50 losowych liczb z zakresu od 1 do 100. ",
      "metadata": {}
    },
    {
      "cell_type": "code",
      "source": "import random\n\nl1=[]\nfor i in range(50):\n    l1.append(random.randint(1, 100))\nprint(l1)",
      "metadata": {
        "trusted": true
      },
      "execution_count": 9,
      "outputs": [
        {
          "name": "stdout",
          "text": "[38, 5, 34, 67, 75, 44, 73, 55, 34, 32, 11, 77, 58, 40, 50, 3, 23, 29, 24, 4, 3, 97, 6, 75, 20, 10, 31, 65, 9, 2, 81, 98, 42, 58, 7, 58, 34, 37, 30, 67, 48, 13, 82, 89, 74, 1, 73, 70, 61, 88]\n",
          "output_type": "stream"
        }
      ]
    },
    {
      "cell_type": "markdown",
      "source": "e) Dla wektora z punktu (d) policz średnią z wszystkich jego liczb, min, max oraz odchylenie \nstandardowe.",
      "metadata": {}
    },
    {
      "cell_type": "markdown",
      "source": "Średnia arytmetyczna",
      "metadata": {}
    },
    {
      "cell_type": "code",
      "source": "def avg(l1):\n    avg=0\n    for i in range(len(l1)):\n        avg=avg+l1[i]\n    return(avg/len(l1))",
      "metadata": {
        "trusted": true
      },
      "execution_count": 10,
      "outputs": []
    },
    {
      "cell_type": "code",
      "source": "avg(l1)",
      "metadata": {
        "trusted": true
      },
      "execution_count": 11,
      "outputs": [
        {
          "execution_count": 11,
          "output_type": "execute_result",
          "data": {
            "text/plain": "44.1"
          },
          "metadata": {}
        }
      ]
    },
    {
      "cell_type": "markdown",
      "source": "Minimum",
      "metadata": {}
    },
    {
      "cell_type": "code",
      "source": "def min(l1):\n    min=1000\n    for i in range(len(l1)):\n        if l1[i]<min:\n            min=l1[i]\n    return min",
      "metadata": {
        "trusted": true
      },
      "execution_count": 12,
      "outputs": []
    },
    {
      "cell_type": "code",
      "source": "min(l1)",
      "metadata": {
        "trusted": true
      },
      "execution_count": 13,
      "outputs": [
        {
          "execution_count": 13,
          "output_type": "execute_result",
          "data": {
            "text/plain": "1"
          },
          "metadata": {}
        }
      ]
    },
    {
      "cell_type": "markdown",
      "source": "Maksimum",
      "metadata": {}
    },
    {
      "cell_type": "code",
      "source": "def max(l1):\n    max=0\n    for i in range(len(l1)):\n        if l1[i]>max:\n            max=l1[i]\n    return max",
      "metadata": {
        "trusted": true
      },
      "execution_count": 14,
      "outputs": []
    },
    {
      "cell_type": "code",
      "source": "max(l1)",
      "metadata": {
        "trusted": true
      },
      "execution_count": 15,
      "outputs": [
        {
          "execution_count": 15,
          "output_type": "execute_result",
          "data": {
            "text/plain": "98"
          },
          "metadata": {}
        }
      ]
    },
    {
      "cell_type": "markdown",
      "source": "f)  Dokonaj normalizacji wektora z podpunktu (d) (ściskamy wszystkie liczby do przedziału \n[0,1]) za pomocą poniższego wzoru (xi to liczba w starym wektorze na pozycji i, a zi to liczba \nw nowym wektorze na pozycji i) $z_i=\\frac{x_i-\\min(x)}{\\max(x)-\\min(x)}$",
      "metadata": {}
    },
    {
      "cell_type": "code",
      "source": "z=[]\nfor i in range(len(l1)):\n    z.append((l1[i]-min(l1))/(max(l1)-min(l1)))\nprint(z)",
      "metadata": {
        "trusted": true
      },
      "execution_count": 16,
      "outputs": [
        {
          "name": "stdout",
          "text": "[0.38144329896907214, 0.041237113402061855, 0.3402061855670103, 0.6804123711340206, 0.7628865979381443, 0.44329896907216493, 0.7422680412371134, 0.5567010309278351, 0.3402061855670103, 0.31958762886597936, 0.10309278350515463, 0.7835051546391752, 0.5876288659793815, 0.4020618556701031, 0.5051546391752577, 0.020618556701030927, 0.2268041237113402, 0.28865979381443296, 0.23711340206185566, 0.030927835051546393, 0.020618556701030927, 0.9896907216494846, 0.05154639175257732, 0.7628865979381443, 0.1958762886597938, 0.09278350515463918, 0.30927835051546393, 0.6597938144329897, 0.08247422680412371, 0.010309278350515464, 0.8247422680412371, 1.0, 0.422680412371134, 0.5876288659793815, 0.061855670103092786, 0.5876288659793815, 0.3402061855670103, 0.3711340206185567, 0.29896907216494845, 0.6804123711340206, 0.4845360824742268, 0.12371134020618557, 0.8350515463917526, 0.9072164948453608, 0.7525773195876289, 0.0, 0.7422680412371134, 0.711340206185567, 0.6185567010309279, 0.8969072164948454]\n",
          "output_type": "stream"
        }
      ]
    },
    {
      "cell_type": "markdown",
      "source": "W oryginalnym wektorze jakie było max? Na której pozycji stało? Jaka liczba stoi na tej \npozycji w nowym wektorze?",
      "metadata": {}
    },
    {
      "cell_type": "code",
      "source": "max(l1)",
      "metadata": {
        "trusted": true
      },
      "execution_count": 17,
      "outputs": [
        {
          "execution_count": 17,
          "output_type": "execute_result",
          "data": {
            "text/plain": "98"
          },
          "metadata": {}
        }
      ]
    },
    {
      "cell_type": "code",
      "source": "l1.index(max(l1))",
      "metadata": {
        "trusted": true
      },
      "execution_count": 18,
      "outputs": [
        {
          "execution_count": 18,
          "output_type": "execute_result",
          "data": {
            "text/plain": "31"
          },
          "metadata": {}
        }
      ]
    },
    {
      "cell_type": "code",
      "source": "z[l1.index(max(l1))]",
      "metadata": {
        "trusted": true
      },
      "execution_count": 19,
      "outputs": [
        {
          "execution_count": 19,
          "output_type": "execute_result",
          "data": {
            "text/plain": "1.0"
          },
          "metadata": {}
        }
      ]
    },
    {
      "cell_type": "markdown",
      "source": "g) Dokonaj standaryzacji wektora z podpunktu (d). Wzór na standaryzację wykorzystuje \nśrednią i odchylenie standardowe: $𝑧_𝑖 =\\frac{𝑥_𝑖 − 𝑚𝑒𝑎𝑛(𝑥)}{σ(x)}$\n",
      "metadata": {}
    },
    {
      "cell_type": "markdown",
      "source": "Najpierw napiszemy funkcję na odchylenie standardowe",
      "metadata": {}
    },
    {
      "cell_type": "code",
      "source": "def dev(l1):\n    sum=0\n    for i in range(len(l1)):\n        sum=sum+((l1[i]-avg(l1))*(l1[i]-avg(l1)))\n    return math.sqrt(sum/len(l1))",
      "metadata": {
        "trusted": true
      },
      "execution_count": 20,
      "outputs": []
    },
    {
      "cell_type": "code",
      "source": "z2=[]\nfor i in range(len(l1)):\n    z2.append((l1[i]-avg(l1))/(dev(l1)))\nprint(z2)",
      "metadata": {
        "trusted": true
      },
      "execution_count": 21,
      "outputs": [
        {
          "name": "stdout",
          "text": "[-0.21247134010731972, -1.3619064587206884, -0.3517968090301523, 0.7976383095832165, 1.0762892474288817, -0.003483136723070864, 1.0066265129674652, 0.37966190281471873, -0.3517968090301523, -0.42145954349156856, -1.1529182553364397, 1.145951981890298, 0.48415600450684315, -0.14280860564590345, 0.205505066661178, -1.4315691931821046, -0.7349418485679419, -0.525953645183693, -0.7001104813372337, -1.3967378259513965, -1.4315691931821046, 1.8425793265044608, -1.3270750914899803, 1.0762892474288817, -0.8394359502600663, -1.1877496225671478, -0.45629091072227673, 0.7279755751218001, -1.222580989797856, -1.466400560412813, 1.2852774508131304, 1.877410693735169, -0.07314587118448715, 0.48415600450684315, -1.2922437242592721, 0.48415600450684315, -0.3517968090301523, -0.24730270733802787, -0.49112227795298485, 0.7976383095832165, 0.13584233219976172, -1.0832555208750232, 1.3201088180438385, 1.5639283886587956, 1.0414578801981733, -1.501231927643521, 1.0066265129674652, 0.9021324112753408, 0.5886501061989675, 1.5290970214280875]\n",
          "output_type": "stream"
        }
      ]
    },
    {
      "cell_type": "markdown",
      "source": "Jaką średnią i odchylenie standardowe ma nowy wektor z?",
      "metadata": {}
    },
    {
      "cell_type": "code",
      "source": "avg(z2)",
      "metadata": {
        "trusted": true
      },
      "execution_count": 22,
      "outputs": [
        {
          "execution_count": 22,
          "output_type": "execute_result",
          "data": {
            "text/plain": "-4.884981308350689e-17"
          },
          "metadata": {}
        }
      ]
    },
    {
      "cell_type": "code",
      "source": "dev(z2)",
      "metadata": {
        "trusted": true
      },
      "execution_count": 23,
      "outputs": [
        {
          "execution_count": 23,
          "output_type": "execute_result",
          "data": {
            "text/plain": "1.0"
          },
          "metadata": {}
        }
      ]
    },
    {
      "cell_type": "markdown",
      "source": "h) Dokonaj dyskretyzacji wektora z podpunktu (d). Wektor liczb zamieni się na wektora \nnapisów określających przedziały: [0, 10), [10, 20), …, [90,100]. Inaczej mówiąc: liczba \nzamieni się na przedział – taki, w jakim się ta liczba znajduje. Wyświetl ten wektor.",
      "metadata": {}
    },
    {
      "cell_type": "code",
      "source": "l1s=sorted(l1)",
      "metadata": {
        "trusted": true
      },
      "execution_count": 24,
      "outputs": []
    },
    {
      "cell_type": "code",
      "source": "l2 = []\nfor i in range(0,len(l1s),2):\n    str=f\"[{l1s[i]},{l1s[i+1]})\"\n    l2.append(str)\nprint(l2)",
      "metadata": {
        "trusted": true
      },
      "execution_count": 26,
      "outputs": [
        {
          "name": "stdout",
          "text": "['[1,2)', '[3,3)', '[4,5)', '[6,7)', '[9,10)', '[11,13)', '[20,23)', '[24,29)', '[30,31)', '[32,34)', '[34,34)', '[37,38)', '[40,42)', '[44,48)', '[50,55)', '[58,58)', '[58,61)', '[65,67)', '[67,70)', '[73,73)', '[74,75)', '[75,77)', '[81,82)', '[88,89)', '[97,98)']\n",
          "output_type": "stream"
        }
      ]
    },
    {
      "cell_type": "code",
      "source": "",
      "metadata": {},
      "execution_count": null,
      "outputs": []
    }
  ]
}