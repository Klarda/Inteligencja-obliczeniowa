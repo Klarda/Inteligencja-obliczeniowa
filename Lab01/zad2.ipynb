{
  "metadata": {
    "language_info": {
      "codemirror_mode": {
        "name": "python",
        "version": 3
      },
      "file_extension": ".py",
      "mimetype": "text/x-python",
      "name": "python",
      "nbconvert_exporter": "python",
      "pygments_lexer": "ipython3",
      "version": "3.8"
    },
    "kernelspec": {
      "name": "python",
      "display_name": "Pyolite",
      "language": "python"
    }
  },
  "nbformat_minor": 4,
  "nbformat": 4,
  "cells": [
    {
      "cell_type": "markdown",
      "source": "# Zadanie 2",
      "metadata": {}
    },
    {
      "cell_type": "markdown",
      "source": "W tym zadaniu wykonamy kilka komend matematyczno-statystycznych:\n\na) Wczytaj dwa wektory z liczbami [3, 8, 9, 10, 12] oraz [8, 7, 7, 5, 6] (jako pythonowe listy).\nNastępnie zwróć sumę tych wektorów oraz iloczyn (po współrzędnych) tych wektorów.",
      "metadata": {}
    },
    {
      "cell_type": "markdown",
      "source": "Suma wektorów",
      "metadata": {}
    },
    {
      "cell_type": "code",
      "source": "l1=[]\nl2=[]\n\ndef suma_wektorow(l1,l2):\n    suma=[]\n    if len(l1)==len(l2):\n        for i in range(len(l1)):\n            suma.append(l1[i]+l2[i])\n    return suma",
      "metadata": {
        "trusted": true
      },
      "execution_count": 7,
      "outputs": []
    },
    {
      "cell_type": "code",
      "source": "l1=[3, 8, 9, 10, 12]\nl2=[8, 7, 7, 5, 6]\nsuma_wektorow(l1,l2)",
      "metadata": {
        "trusted": true
      },
      "execution_count": 8,
      "outputs": [
        {
          "execution_count": 8,
          "output_type": "execute_result",
          "data": {
            "text/plain": "[11, 15, 16, 15, 18]"
          },
          "metadata": {}
        }
      ]
    },
    {
      "cell_type": "markdown",
      "source": "Iloczyn wektorowy",
      "metadata": {}
    },
    {
      "cell_type": "code",
      "source": "l1=[]\nl2=[]\n\ndef iloczyn_wektorow(l1,l2):\n    iloczyn=[]\n    if len(l1)==len(l2):\n        for i in range(len(l1)):\n            if i < len(l1)-1:\n                iloczyn.append(l1[i]*l2[i+1]-l1[i+1]*l2[i])\n    return iloczyn",
      "metadata": {
        "trusted": true
      },
      "execution_count": 17,
      "outputs": []
    },
    {
      "cell_type": "code",
      "source": "l1=[3, 8, 9, 10, 12]\nl2=[8, 7, 7, 5, 6]\niloczyn_wektorow(l1,l2)",
      "metadata": {
        "trusted": true
      },
      "execution_count": 18,
      "outputs": [
        {
          "execution_count": 18,
          "output_type": "execute_result",
          "data": {
            "text/plain": "[-43, -7, -25, 0]"
          },
          "metadata": {}
        }
      ]
    },
    {
      "cell_type": "markdown",
      "source": "b) Dla powyższych wektorów podaj iloczyn skalarny.",
      "metadata": {}
    },
    {
      "cell_type": "code",
      "source": "l1=[]\nl2=[]\n\ndef iloczyn_skalarny(l1,l2):\n    x=0\n    if len(l1)==len(l2):\n        for i in range(len(l1)):\n            x=x+(l1[i]*l2[i])\n    return x",
      "metadata": {
        "trusted": true
      },
      "execution_count": 21,
      "outputs": []
    },
    {
      "cell_type": "code",
      "source": "l1=[3, 8, 9, 10, 12]\nl2=[8, 7, 7, 5, 6]\niloczyn_skalarny(l1,l2)",
      "metadata": {
        "trusted": true
      },
      "execution_count": 22,
      "outputs": [
        {
          "execution_count": 22,
          "output_type": "execute_result",
          "data": {
            "text/plain": "265"
          },
          "metadata": {}
        }
      ]
    },
    {
      "cell_type": "markdown",
      "source": "c) Dla powyższych wektorów podaj ich długości euklidesowe (długość wektora jako strzałki w \nprzestrzeni).",
      "metadata": {}
    },
    {
      "cell_type": "code",
      "source": "import math\n\nl1=[]\n\ndef dlugosc_euklidesowa(l1):\n    x=0\n    for i in range(len(l1)):\n            x=x+(l1[i]*l1[i])\n    return math.sqrt(x)",
      "metadata": {
        "trusted": true
      },
      "execution_count": 23,
      "outputs": []
    },
    {
      "cell_type": "code",
      "source": "l1=[3, 8, 9, 10, 12]\ndlugosc_euklidesowa(l1)",
      "metadata": {
        "trusted": true
      },
      "execution_count": 24,
      "outputs": [
        {
          "execution_count": 24,
          "output_type": "execute_result",
          "data": {
            "text/plain": "19.949937343260004"
          },
          "metadata": {}
        }
      ]
    },
    {
      "cell_type": "markdown",
      "source": "d) Stwórz wektor 50 losowych liczb z zakresu od 1 do 100. ",
      "metadata": {}
    },
    {
      "cell_type": "code",
      "source": "import random\n\nl1=[]\nfor i in range(50):\n    l1.append(random.randint(1, 100))\nprint(l1)",
      "metadata": {
        "trusted": true
      },
      "execution_count": 39,
      "outputs": [
        {
          "name": "stdout",
          "text": "[50, 2, 12, 50, 1, 61, 12, 52, 54, 59, 68, 29, 86, 6, 17, 69, 39, 99, 45, 30, 19, 76, 4, 15, 78, 42, 5, 92, 90, 8, 98, 64, 58, 72, 19, 26, 57, 12, 78, 97, 1, 95, 7, 50, 93, 25, 85, 41, 37, 77]\n",
          "output_type": "stream"
        }
      ]
    },
    {
      "cell_type": "markdown",
      "source": "e) Dla wektora z punktu (d) policz średnią z wszystkich jego liczb, min, max oraz odchylenie \nstandardowe.",
      "metadata": {}
    },
    {
      "cell_type": "markdown",
      "source": "Średnia arytmetyczna",
      "metadata": {}
    },
    {
      "cell_type": "code",
      "source": "def avg(l1):\n    avg=0\n    for i in range(len(l1)):\n        avg=avg+l1[i]\n    return(avg/len(l1))",
      "metadata": {
        "trusted": true
      },
      "execution_count": 58,
      "outputs": []
    },
    {
      "cell_type": "code",
      "source": "avg(l1)",
      "metadata": {
        "trusted": true
      },
      "execution_count": 59,
      "outputs": [
        {
          "execution_count": 59,
          "output_type": "execute_result",
          "data": {
            "text/plain": "47.24"
          },
          "metadata": {}
        }
      ]
    },
    {
      "cell_type": "markdown",
      "source": "Minimum",
      "metadata": {}
    },
    {
      "cell_type": "code",
      "source": "def min(l1):\n    min=1000\n    for i in range(len(l1)):\n        if l1[i]<min:\n            min=l1[i]\n    return min",
      "metadata": {
        "trusted": true
      },
      "execution_count": 50,
      "outputs": []
    },
    {
      "cell_type": "code",
      "source": "min(l1)",
      "metadata": {
        "trusted": true
      },
      "execution_count": 51,
      "outputs": [
        {
          "execution_count": 51,
          "output_type": "execute_result",
          "data": {
            "text/plain": "1"
          },
          "metadata": {}
        }
      ]
    },
    {
      "cell_type": "markdown",
      "source": "Maksimum",
      "metadata": {}
    },
    {
      "cell_type": "code",
      "source": "def max(l1):\n    max=0\n    for i in range(len(l1)):\n        if l1[i]>max:\n            max=l1[i]\n    return max",
      "metadata": {
        "trusted": true
      },
      "execution_count": 52,
      "outputs": []
    },
    {
      "cell_type": "code",
      "source": "max(l1)",
      "metadata": {
        "trusted": true
      },
      "execution_count": 53,
      "outputs": [
        {
          "execution_count": 53,
          "output_type": "execute_result",
          "data": {
            "text/plain": "99"
          },
          "metadata": {}
        }
      ]
    },
    {
      "cell_type": "markdown",
      "source": "f)  Dokonaj normalizacji wektora z podpunktu (d) (ściskamy wszystkie liczby do przedziału \n[0,1]) za pomocą poniższego wzoru (xi to liczba w starym wektorze na pozycji i, a zi to liczba \nw nowym wektorze na pozycji i) $z_i=\\frac{x_i-\\min(x)}{\\max(x)-\\min(x)}$",
      "metadata": {}
    },
    {
      "cell_type": "code",
      "source": "z=[]\nfor i in range(len(l1)):\n    z.append((l1[i]-min(l1))/(max(l1)-min(l1)))\nprint(z)",
      "metadata": {
        "trusted": true
      },
      "execution_count": 54,
      "outputs": [
        {
          "name": "stdout",
          "text": "[0.5, 0.01020408163265306, 0.11224489795918367, 0.5, 0.0, 0.6122448979591837, 0.11224489795918367, 0.5204081632653061, 0.5408163265306123, 0.5918367346938775, 0.6836734693877551, 0.2857142857142857, 0.8673469387755102, 0.05102040816326531, 0.16326530612244897, 0.6938775510204082, 0.3877551020408163, 1.0, 0.4489795918367347, 0.29591836734693877, 0.1836734693877551, 0.7653061224489796, 0.030612244897959183, 0.14285714285714285, 0.7857142857142857, 0.41836734693877553, 0.04081632653061224, 0.9285714285714286, 0.9081632653061225, 0.07142857142857142, 0.9897959183673469, 0.6428571428571429, 0.5816326530612245, 0.7244897959183674, 0.1836734693877551, 0.25510204081632654, 0.5714285714285714, 0.11224489795918367, 0.7857142857142857, 0.9795918367346939, 0.0, 0.9591836734693877, 0.061224489795918366, 0.5, 0.9387755102040817, 0.24489795918367346, 0.8571428571428571, 0.40816326530612246, 0.3673469387755102, 0.7755102040816326]\n",
          "output_type": "stream"
        }
      ]
    },
    {
      "cell_type": "markdown",
      "source": "W oryginalnym wektorze jakie było max? Na której pozycji stało? Jaka liczba stoi na tej \npozycji w nowym wektorze?",
      "metadata": {}
    },
    {
      "cell_type": "code",
      "source": "max(l1)",
      "metadata": {
        "trusted": true
      },
      "execution_count": 57,
      "outputs": [
        {
          "execution_count": 57,
          "output_type": "execute_result",
          "data": {
            "text/plain": "99"
          },
          "metadata": {}
        }
      ]
    },
    {
      "cell_type": "code",
      "source": "l1.index(max(l1))",
      "metadata": {
        "trusted": true
      },
      "execution_count": 55,
      "outputs": [
        {
          "execution_count": 55,
          "output_type": "execute_result",
          "data": {
            "text/plain": "17"
          },
          "metadata": {}
        }
      ]
    },
    {
      "cell_type": "code",
      "source": "z[l1.index(max(l1))]",
      "metadata": {
        "trusted": true
      },
      "execution_count": 56,
      "outputs": [
        {
          "execution_count": 56,
          "output_type": "execute_result",
          "data": {
            "text/plain": "1.0"
          },
          "metadata": {}
        }
      ]
    },
    {
      "cell_type": "markdown",
      "source": "g) Dokonaj standaryzacji wektora z podpunktu (d). Wzór na standaryzację wykorzystuje \nśrednią i odchylenie standardowe: $𝑧_𝑖 =\\frac{𝑥_𝑖 − 𝑚𝑒𝑎𝑛(𝑥)}{σ(x)}$\n",
      "metadata": {}
    },
    {
      "cell_type": "markdown",
      "source": "Najpierw napiszemy funkcję na odchylenie standardowe",
      "metadata": {}
    },
    {
      "cell_type": "code",
      "source": "def dev(l1):\n    sum=0\n    for i in range(len(l1)):\n        sum=sum+((l1[i]-avg(l1))*(l1[i]-avg(l1)))\n    return math.sqrt(sum/len(l1))",
      "metadata": {
        "trusted": true
      },
      "execution_count": 63,
      "outputs": []
    },
    {
      "cell_type": "code",
      "source": "z2=[]\nfor i in range(len(l1)):\n    z2.append((l1[i]-avg(l1))/(dev(l1)))\nprint(z2)",
      "metadata": {
        "trusted": true
      },
      "execution_count": 67,
      "outputs": [
        {
          "name": "stdout",
          "text": "[0.08831729145618498, -1.44763560343399, -1.1276454169985368, 0.08831729145618498, -1.4796346220775352, 0.4403064965351834, -1.1276454169985368, 0.1523153287432756, 0.21631336603036622, 0.37630845924809275, 0.6642996270400006, -0.5836621000582665, 1.2402819626238162, -1.3196395288598086, -0.9676503237808102, 0.6962986456835458, -0.2636719136228134, 1.656269204989905, -0.07167780176154155, -0.5516630814147212, -0.9036522864937195, 0.920291776188363, -1.3836375661468991, -1.0316483610679008, 0.9842898134754536, -0.1676748576921775, -1.3516385475033539, 1.432276074485088, 1.3682780371979972, -1.2556414915727179, 1.6242701863463598, 0.5363035524658193, 0.34430944060454743, 0.7922957016141817, -0.9036522864937195, -0.6796591559889024, 0.31231042196100217, -1.1276454169985368, 0.9842898134754536, 1.5922711677028145, -1.4796346220775352, 1.5282731304157238, -1.2876405102162634, 0.08831729145618498, 1.4642750931286332, -0.7116581746324477, 1.2082829439802707, -0.19967387633572278, -0.32766995090990403, 0.9522907948319083]\n",
          "output_type": "stream"
        }
      ]
    },
    {
      "cell_type": "markdown",
      "source": "Jaką średnią i odchylenie standardowe ma nowy wektor z?",
      "metadata": {}
    },
    {
      "cell_type": "code",
      "source": "avg(z2)",
      "metadata": {
        "trusted": true
      },
      "execution_count": 68,
      "outputs": [
        {
          "execution_count": 68,
          "output_type": "execute_result",
          "data": {
            "text/plain": "-6.88338275267597e-17"
          },
          "metadata": {}
        }
      ]
    },
    {
      "cell_type": "code",
      "source": "dev(z2)",
      "metadata": {
        "trusted": true
      },
      "execution_count": 69,
      "outputs": [
        {
          "execution_count": 69,
          "output_type": "execute_result",
          "data": {
            "text/plain": "1.0"
          },
          "metadata": {}
        }
      ]
    },
    {
      "cell_type": "markdown",
      "source": "h) Dokonaj dyskretyzacji wektora z podpunktu (d). Wektor liczb zamieni się na wektora \nnapisów określających przedziały: [0, 10), [10, 20), …, [90,100]. Inaczej mówiąc: liczba \nzamieni się na przedział – taki, w jakim się ta liczba znajduje. Wyświetl ten wektor.",
      "metadata": {}
    },
    {
      "cell_type": "code",
      "source": "",
      "metadata": {},
      "execution_count": null,
      "outputs": []
    }
  ]
}