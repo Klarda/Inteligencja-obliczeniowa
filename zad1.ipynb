{
  "metadata": {
    "language_info": {
      "codemirror_mode": {
        "name": "python",
        "version": 3
      },
      "file_extension": ".py",
      "mimetype": "text/x-python",
      "name": "python",
      "nbconvert_exporter": "python",
      "pygments_lexer": "ipython3",
      "version": "3.8"
    },
    "kernelspec": {
      "name": "python",
      "display_name": "Pyolite",
      "language": "python"
    }
  },
  "nbformat_minor": 4,
  "nbformat": 4,
  "cells": [
    {
      "cell_type": "markdown",
      "source": "# Zadanie 1 ",
      "metadata": {}
    },
    {
      "cell_type": "markdown",
      "source": "a) Stwórz funkcję prime(n), która będzie sprawdzała, czy podana liczba n jest liczbą \npierwszą. Jeśli tak, to zwróci True, w przeciwnym wypadku zwróci false.\n\nPrzetestuj czy funkcja działa dobrze np.\n\nprime(3)\n\nWynik: True\n\nprime(4)\n\nWynik: False\n\nprime(49)\n\nWynik: False",
      "metadata": {}
    },
    {
      "cell_type": "code",
      "source": "def prime(x):\n    if x>1:\n        for i in range(2,x):\n            if(x%i) == 0:\n                return(\"False\")\n                break\n        else: return(\"True\")\n    else: return(\"False\")",
      "metadata": {
        "trusted": true
      },
      "execution_count": 49,
      "outputs": []
    },
    {
      "cell_type": "markdown",
      "source": "Test:",
      "metadata": {}
    },
    {
      "cell_type": "code",
      "source": "prime(3)",
      "metadata": {
        "trusted": true
      },
      "execution_count": 50,
      "outputs": [
        {
          "execution_count": 50,
          "output_type": "execute_result",
          "data": {
            "text/plain": "'True'"
          },
          "metadata": {}
        }
      ]
    },
    {
      "cell_type": "code",
      "source": "prime(4)",
      "metadata": {
        "trusted": true
      },
      "execution_count": 51,
      "outputs": [
        {
          "execution_count": 51,
          "output_type": "execute_result",
          "data": {
            "text/plain": "'False'"
          },
          "metadata": {}
        }
      ]
    },
    {
      "cell_type": "code",
      "source": "prime(49)",
      "metadata": {
        "trusted": true
      },
      "execution_count": 52,
      "outputs": [
        {
          "execution_count": 52,
          "output_type": "execute_result",
          "data": {
            "text/plain": "'False'"
          },
          "metadata": {}
        }
      ]
    },
    {
      "cell_type": "markdown",
      "source": "b) Stwórz drugą funkcję select_primes(x), która dostanie listę x liczb naturalnych, \nodfiltruje z niej wszystkie liczby pierwsze i zwróci listę liczb pierwszych.\nW środku funkcji select_primes można użyć funkcji prime z podpunktu a.\n\nPrzykład działania:\n\nselect_primes([3, 6, 11, 25, 19])\n\nWynik: [3, 11, 19]",
      "metadata": {}
    },
    {
      "cell_type": "code",
      "source": "x = []\ndef select_primes(x):\n    y = []\n    for i in range(len(x)):\n        if prime(x[i]) == \"True\":\n            y.append(x[i])\n    return(y)\n",
      "metadata": {
        "trusted": true
      },
      "execution_count": 53,
      "outputs": []
    },
    {
      "cell_type": "code",
      "source": "select_primes([3, 6, 11, 25, 19])",
      "metadata": {
        "trusted": true
      },
      "execution_count": 54,
      "outputs": [
        {
          "execution_count": 54,
          "output_type": "execute_result",
          "data": {
            "text/plain": "[3, 11, 19]"
          },
          "metadata": {}
        }
      ]
    }
  ]
}