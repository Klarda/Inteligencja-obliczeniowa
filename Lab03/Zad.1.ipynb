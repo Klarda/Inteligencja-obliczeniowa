{
  "metadata": {
    "language_info": {
      "codemirror_mode": {
        "name": "python",
        "version": 3
      },
      "file_extension": ".py",
      "mimetype": "text/x-python",
      "name": "python",
      "nbconvert_exporter": "python",
      "pygments_lexer": "ipython3",
      "version": "3.8"
    },
    "kernelspec": {
      "name": "python",
      "display_name": "Pyolite",
      "language": "python"
    }
  },
  "nbformat_minor": 4,
  "nbformat": 4,
  "cells": [
    {
      "cell_type": "markdown",
      "source": "Z poprzednich zajęć",
      "metadata": {}
    },
    {
      "cell_type": "code",
      "source": "import pygad\nimport numpy\nimport time\n\nS = [1, 2, 3, 6, 10, 17, 25, 29, 30, 41, 51, 60, 70, 79, 80]\n#definiujemy parametry chromosomu\n#geny to liczby: 0 lub 1\ngene_space = [0, 1]\n\ndef fitness_func(solution, solution_idx):\n sum1 = numpy.sum(solution * S)\n solution_invert = 1 - solution\n sum2 = numpy.sum(solution_invert * S)\n fitness = -numpy.abs(sum1-sum2)\n return fitness\nfitness_function = fitness_func\n\nsol_per_pop = 10\nnum_genes = len(S)\n\nnum_parents_mating = 5\nnum_generations = 30\nkeep_parents = 2\n\nparent_selection_type = \"sss\"\n\ncrossover_type = \"single_point\"\n\nmutation_type = \"random\"\nmutation_percent_genes = 8",
      "metadata": {
        "trusted": true
      },
      "execution_count": null,
      "outputs": []
    },
    {
      "cell_type": "markdown",
      "source": "a) Ustal stop-criteria tak, aby program tworzył nowe pokolenia, dopóki nie znajdzie\nrozwiązania z fitness równym 0. Gdy fitness 0 zostanie osiągnięte, to algorytm przerwie\ndziałanie.",
      "metadata": {}
    },
    {
      "cell_type": "code",
      "source": "stop_crit = [\"reach_0\", \"saturate_6\"]\n\nga_instance = pygad.GA(gene_space=gene_space,\nnum_generations=num_generations,\nnum_parents_mating=num_parents_mating,\nfitness_func=fitness_function,\nstop_criteria= stop_crit,\nsol_per_pop=sol_per_pop,\nnum_genes=num_genes,\nparent_selection_type=parent_selection_type,\nkeep_parents=keep_parents,\ncrossover_type=crossover_type,\nmutation_type=mutation_type,\nmutation_percent_genes=mutation_percent_genes)",
      "metadata": {},
      "execution_count": null,
      "outputs": []
    },
    {
      "cell_type": "markdown",
      "source": "c) Zmierz, ile czasu działał algorytm genetyczny. Przed i po poleceniu ga_instance.run()\ntrzeba zmierzyć czas systemowy i podać różnicę.",
      "metadata": {}
    },
    {
      "cell_type": "code",
      "source": "start = time.time()\nga_instance.run()\nend = time.time()\n\nsolution, solution_fitness, solution_idx = ga_instance.best_solution()\nprint(\"Parameters of the best solution : {solution}\".format(solution=solution))\nprint(\"Fitness value of the best solution = {solution_fitness}\".format(solution_fitness=solution_fitness))\n\nczas = start - end\nprint(\"algorithm running time : {czas}\".format(czas = czas))",
      "metadata": {
        "trusted": true
      },
      "execution_count": null,
      "outputs": []
    },
    {
      "cell_type": "code",
      "source": "",
      "metadata": {},
      "execution_count": null,
      "outputs": []
    }
  ]
}